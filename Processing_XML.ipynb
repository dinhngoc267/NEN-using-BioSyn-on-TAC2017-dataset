{
  "nbformat": 4,
  "nbformat_minor": 0,
  "metadata": {
    "colab": {
      "name": "Processing XML.ipynb",
      "provenance": [],
      "collapsed_sections": [],
      "authorship_tag": "ABX9TyMwS9LO8RTa+sh48dvBsGp6",
      "include_colab_link": true
    },
    "kernelspec": {
      "name": "python3",
      "display_name": "Python 3"
    },
    "accelerator": "TPU"
  },
  "cells": [
    {
      "cell_type": "markdown",
      "metadata": {
        "id": "view-in-github",
        "colab_type": "text"
      },
      "source": [
        "<a href=\"https://colab.research.google.com/github/dinhngoc267/NSEEN/blob/master/Processing_XML.ipynb\" target=\"_parent\"><img src=\"https://colab.research.google.com/assets/colab-badge.svg\" alt=\"Open In Colab\"/></a>"
      ]
    },
    {
      "cell_type": "code",
      "metadata": {
        "id": "m3pwfTvnylIq",
        "colab_type": "code",
        "outputId": "ce604915-4c94-41be-d679-79ff0c3aa737",
        "colab": {
          "base_uri": "https://localhost:8080/",
          "height": 34
        }
      },
      "source": [
        "from google.colab import drive\n",
        "drive.mount('/content/drive')"
      ],
      "execution_count": 0,
      "outputs": [
        {
          "output_type": "stream",
          "text": [
            "Drive already mounted at /content/drive; to attempt to forcibly remount, call drive.mount(\"/content/drive\", force_remount=True).\n"
          ],
          "name": "stdout"
        }
      ]
    },
    {
      "cell_type": "code",
      "metadata": {
        "id": "ndNub4EN2VMy",
        "colab_type": "code",
        "outputId": "5a9084a5-53fa-40b9-fd45-1066145e4875",
        "colab": {
          "base_uri": "https://localhost:8080/",
          "height": 34
        }
      },
      "source": [
        "pip install pyjarowinkler"
      ],
      "execution_count": 0,
      "outputs": [
        {
          "output_type": "stream",
          "text": [
            "Requirement already satisfied: pyjarowinkler in /usr/local/lib/python3.6/dist-packages (1.8)\n"
          ],
          "name": "stdout"
        }
      ]
    },
    {
      "cell_type": "code",
      "metadata": {
        "id": "whkfyDiU3CaA",
        "colab_type": "code",
        "outputId": "b8dbdb06-84f7-4cf3-ba69-f1aab7a2eb9a",
        "colab": {
          "base_uri": "https://localhost:8080/",
          "height": 34
        }
      },
      "source": [
        "pip install -U strsimpy"
      ],
      "execution_count": 0,
      "outputs": [
        {
          "output_type": "stream",
          "text": [
            "Requirement already up-to-date: strsimpy in /usr/local/lib/python3.6/dist-packages (0.1.4)\n"
          ],
          "name": "stdout"
        }
      ]
    },
    {
      "cell_type": "code",
      "metadata": {
        "id": "z1UwuetE2p3s",
        "colab_type": "code",
        "colab": {}
      },
      "source": [
        "#Import library\n",
        "import tensorflow as tf\n",
        "from pyjarowinkler import distance\n",
        "from strsimpy.jaro_winkler import JaroWinkler\n",
        "import xml.etree.ElementTree as ET\n",
        "import os\n",
        "import numpy as np\n",
        "from itertools import combinations\n",
        "import random\n",
        "from keras.preprocessing.sequence import pad_sequences\n",
        "import copy\n",
        "import re\n",
        "from keras.callbacks import ModelCheckpoint\n",
        "from keras.utils import np_utils\n",
        "from __future__ import absolute_import\n",
        "from __future__ import print_function\n",
        "from keras.models import Sequential\n",
        "from keras.models import Model\n",
        "from keras.layers import Input, Flatten, Dense, Dropout, Lambda, Embedding, Bidirectional, LSTM, InputLayer\n",
        "from keras.optimizers import RMSprop\n",
        "from keras import backend as K"
      ],
      "execution_count": 0,
      "outputs": []
    },
    {
      "cell_type": "code",
      "metadata": {
        "id": "dpsDlF2Fy3fy",
        "colab_type": "code",
        "outputId": "4202d43d-2a4a-4c09-e8d9-878bc0677145",
        "colab": {
          "base_uri": "https://localhost:8080/",
          "height": 187
        }
      },
      "source": [
        "#Parsing XML Data\n",
        "\n",
        "def create_reference_dict(data_dir):\n",
        "  trees = []\n",
        "  #data_dir = '/content/drive/My Drive/Colab Datasets/TAC2017/train_xml'\n",
        "  for fname in sorted(os.listdir(data_dir)):\n",
        "    if(fname[-4:] == '.xml'):\n",
        "      trees.append(ET.parse(os.path.join(data_dir,fname)))\n",
        "\n",
        "  reference_dict = {}\n",
        "  for tree in trees:\n",
        "    root = tree.getroot()\n",
        "    for reaction in root.iter('Reaction'):\n",
        "      attribs = reaction.attrib    \n",
        "      str_name = attribs.get('str')\n",
        "      child = list(reaction)\n",
        "      normalization = child[0]\n",
        "      attribs = normalization.attrib\n",
        "    \n",
        "      canonical_name = attribs.get('meddra_pt')\n",
        "      canonical_id = attribs.get('meddra_pt_id')\n",
        "      if canonical_id in reference_dict:\n",
        "        values = reference_dict.get(canonical_id)\n",
        "        flag = False\n",
        "        for value in values: \n",
        "          if value == str_name:\n",
        "            flag = True\n",
        "            break            \n",
        "        if flag == False:\n",
        "          values.append(str_name)\n",
        "      else:\n",
        "        if canonical_id is not None:\n",
        "          values = []      \n",
        "          values.append(canonical_name)\n",
        "          values.append(str_name)\n",
        "          reference_dict[canonical_id] = values  \n",
        "  print(len(reference_dict))\n",
        "  reference_dict_copy = copy.deepcopy(reference_dict)\n",
        "  return reference_dict, reference_dict_copy\n",
        "\n",
        "def char_to_int_dict(reference_dict):\n",
        "  text = \"\"\n",
        "  for key, values in reference_dict.items():\n",
        "    for value in values:\n",
        "      text = text + value\n",
        "  vocab = sorted(set(text))\n",
        "  return dict((c,i) for i,c in enumerate(vocab))\n",
        "\n",
        "def get_maxlen_sequence(reference_dict):\n",
        "  maxlen=0\n",
        "  for key, values in reference_dict.items():\n",
        "    for value in values:\n",
        "      if maxlen < len(value):\n",
        "        maxlen = len(value)\n",
        "  return maxlen\n",
        "\n",
        "def split_character(word): \n",
        "  return [char for char in word]  \n",
        "\n",
        "# convert char sequence to int sequence in reference set and pad sequence\n",
        "def embedding_reference_dict(reference_dict, maxlen, char_to_int):\n",
        "  for key, values in reference_dict.items():\n",
        "    i = 0\n",
        "    for sequence in values:\n",
        "      value = [char_to_int[c] for c in sequence]\n",
        "      #value = split_character(sequence)\n",
        "      values[i] = value\n",
        "      i += 1\n",
        "    reference_dict[key] = pad_sequences(values,maxlen)\n",
        "  return reference_dict\n",
        "\n",
        "# Prepare 3 sub dataset\n",
        "# 1.Semantic\n",
        "def create_sematic_pairs(reference_dict, n_features):\n",
        "  # Positive pairs\n",
        "  sematic_pairs = np.empty((0,2,n_features), dtype='object')\n",
        "  labels = np.empty((0,2))\n",
        "  for key, values in reference_dict.items():\n",
        "   pos_pairs = [i for i in combinations(values,2)]\n",
        "   for pos_pair in pos_pairs:\n",
        "    pos_pair = np.array([pos_pair],dtype='object')\n",
        "    sematic_pairs = np.append(sematic_pairs, pos_pair, axis=0)\n",
        "    label = [1,1]\n",
        "    labels = np.append(labels, [label], axis=0)\n",
        "  \n",
        "  # Negative sematic pairs\n",
        "  sampled_list_1 = random.sample(list(reference_dict.items()), 100)\n",
        "  sampled_list_2 = random.sample(list(reference_dict.items()), 100)\n",
        "  \n",
        "  for key_1, values_1 in sampled_list_1:\n",
        "    for key_2, values_2 in sampled_list_2:\n",
        "      if key_1 != key_2:\n",
        "        value_1 = random.sample(list(values_1), 1)\n",
        "        value_2 = random.sample(list(values_2), 1)\n",
        "        neg_pair = np.empty((0,n_features))\n",
        "        neg_pair = np.append(neg_pair,value_1,axis=0)\n",
        "        neg_pair = np.append(neg_pair,value_2,axis=0)\n",
        "        neg_pair = np.array([neg_pair])\n",
        "        sematic_pairs = np.append(sematic_pairs,neg_pair,axis=0)     \n",
        "\n",
        "        label = [0, 0]\n",
        "        labels = np.append(labels, [label], axis=0) \n",
        "\n",
        "  return sematic_pairs, labels\n",
        "\n",
        "def create_syntactic_pairs(reference_dict):\n",
        "\n",
        "# Create Syntatic Variations\n",
        "#  To capture the most common forms of noise occurring on the same name, we make the following three modifications based on our\n",
        "#   observation of the most frequent variations in the query names:\n",
        "#     – Replace all but alphanumerical characters with space, e.g., <infusion-related reactions, infusion related reactions, y>\n",
        "#     – Converting to upper and lower cases, e.g., <Neuropathy peripheral, neuropathy peripheral, y>,\n",
        "#     - Swap two words, e.g., <peripheral neuropathy, neuropathy peripheral>\n",
        "  syntactic_pairs = np.empty((0,2))\n",
        "  labels = np.empty((0,2))\n",
        "  for key, values in reference_dict.items():\n",
        "    for i, string in enumerate(values):    \n",
        "      #1. Find all sequence contain characters which are not alphanumerical. If '-' character then replace with ' '. Else remove.   \n",
        "      if re.search('^[A-Za-z0-9 ]+', string):     \n",
        "        if string.find(\"-\") != -1:\n",
        "          pair = []\n",
        "          tmp = string\n",
        "          pair = np.append(pair, string)\n",
        "          pair = np.append(pair, tmp.replace(\"-\",\"\"))\n",
        "          syntactic_pairs = np.append(syntactic_pairs, [pair],axis=0)      \n",
        "\n",
        "      #2. Convert upper and lower cases.\n",
        "      if  string.islower() == False:\n",
        "        pair = []\n",
        "        tmp = string\n",
        "        pair = np.append(pair, string)\n",
        "        pair = np.append(pair, tmp.lower())\n",
        "        syntactic_pairs = np.append(syntactic_pairs, [pair],axis=0)\n",
        "\n",
        "      #3. Swap twos words\n",
        "      if len(string.split()) == 2:\n",
        "        pair = []\n",
        "        modified_str = string.split()[1] + \" \" + string.split()[0]\n",
        "        pair = np.append(pair, string)\n",
        "        pair = np.append(pair, modified_str)\n",
        "        syntactic_pairs = np.append(syntactic_pairs, [pair],axis=0)\n",
        "\n",
        "  #Calculate the similarity between pair\n",
        "  jarowinkler = JaroWinkler()\n",
        "  for pair in syntactic_pairs:\n",
        "    similarity = jarowinkler.similarity(pair[0], pair[1])\n",
        "\n",
        "    label = [similarity, 1]\n",
        "    labels = np.append(labels, [label], axis=0)\n",
        "  \n",
        "  return syntactic_pairs, labels\n",
        "\n",
        "def embedding_syntactic_pairs(syntactic_pairs):\n",
        "  tmp = copy.deepcopy(syntactic_pairs)\n",
        "  syntactic_pairs = np.empty((0,2,71))\n",
        "  for pairs in tmp:\n",
        "    embeddings = []\n",
        "    embedding_1 = [char_to_int[c] for c in pairs[0]]\n",
        "    embedding_2 = [char_to_int[c] for c in pairs[1]]\n",
        "    #embedding_1 = split_character(pairs[0])\n",
        "    #embedding_2 = split_character(pairs[1])\n",
        "    embeddings.append(embedding_1)\n",
        "    embeddings.append(embedding_2)\n",
        "    embeddings = pad_sequences(embeddings, 71)\n",
        "    syntactic_pairs = np.append(syntactic_pairs, [embeddings], axis=0)\n",
        "  return syntactic_pairs\n",
        "\n",
        "def concatenate_tensor(tensor1, tensor2):\n",
        "  return np.concatenate((tensor1, tensor2), axis=0)\n",
        "\n",
        "\n",
        "def normalize_feature(data, maxvalue):\n",
        "  for i in data.shape[1]:\n",
        "    data[:,i] = data[:,i] / maxvalue\n",
        "  return data\n",
        "\n",
        "def l1_normalize(v):\n",
        "  norm = K.sum(v, axis=1, keepdims=True)\n",
        "  divResult = Lambda(lambda x: x[0]/x[1])([v,norm])\n",
        "  return divResult\n",
        "\n",
        "import tensorflow as tf\n",
        "def cosine_distance(vects):\n",
        "  x,y=vects\n",
        "  def l2_normalize(x, axis):\n",
        "        #norm = K.sqrt(K.sum(K.square(x), axis=axis, keepdims=True))\n",
        "        #return K.maximum(x, K.epsilon()) / K.maximum(norm, K.epsilon())\n",
        "        norm = K.sqrt(K.sum(K.square(x), axis=axis, keepdims=True))\n",
        "        return K.sign(x) * K.maximum(K.abs(x), K.epsilon()) / K.maximum(norm, K.epsilon())\n",
        "  x = K.l2_normalize(x, axis=-1)\n",
        "  y = K.l2_normalize(y, axis=-1)\n",
        "  return K.mean(1 - K.sum((x * y), axis=-1), axis=-1)\n",
        "\n",
        "def cos_dist_output_shape(shapes):\n",
        "  shape1, shape2 = shapes\n",
        "  return (shape1[0], 1)\n",
        "\n",
        "def contrastive_loss(d, y):\n",
        "  #d: distance; y: labels\n",
        "  margin = 1\n",
        "  #square_pred = K.square(y_pred)\n",
        "  #margin_square = K.square(K.maximum(margin - y_pred, 0))\n",
        "  #return K.mean(y_true*square_pred + (1-y_true)*margin_square) \n",
        "  return K.mean((1-y)* K.square(d) + y * K.square(K.maximum(margin - d, 0)))\n",
        "\n",
        "def create_base_network(input_shape):\n",
        "  model = Sequential()\n",
        "  #model.add(Embedding(input_dim=76+1, output_dim = 32, input_length=71))\n",
        "  model.add(Bidirectional(LSTM(64, input_shape=input_shape, return_sequences=True)))\n",
        "  model.add(Bidirectional(LSTM(64, return_sequences=True)))\n",
        "  model.add(Bidirectional(LSTM(64, return_sequences=True)))\n",
        "  model.add(Bidirectional(LSTM(64, return_sequences=False)))\n",
        "  model.add(Dense(128, activation='relu'))\n",
        "  \n",
        "  return model\n",
        "\n",
        "#def main():\n",
        "  # prepair training data and labels\n",
        "reference_dict, reference_dict_copy = create_reference_dict('/content/drive/My Drive/Colab Datasets/TAC2017/train_xml')\n",
        "maxlen = get_maxlen_sequence(reference_dict)\n",
        "char_to_int = char_to_int_dict(reference_dict)\n",
        "reference_dict = embedding_reference_dict(reference_dict,maxlen,char_to_int)\n",
        "(sematic_pairs, sematic_labels) = create_sematic_pairs(reference_dict,n_features=maxlen)\n",
        "\n",
        "(syntactic_pairs, syntactic_labels) = create_syntactic_pairs(reference_dict = reference_dict_copy)\n",
        "print(syntactic_labels)\n",
        "syntactic_pairs = embedding_syntactic_pairs(syntactic_pairs)\n",
        "\n",
        "print(sematic_labels.shape)\n",
        "print(syntactic_labels.shape)\n",
        "data = np.concatenate((sematic_pairs, syntactic_pairs), axis=0)\n",
        "labels = np.concatenate((sematic_labels, syntactic_labels), axis=0)\n",
        "  \n",
        "\n",
        "  "
      ],
      "execution_count": 0,
      "outputs": [
        {
          "output_type": "stream",
          "text": [
            "1486\n",
            "[[0.96825397 1.        ]\n",
            " [0.63492063 1.        ]\n",
            " [0.63492063 1.        ]\n",
            " ...\n",
            " [0.93333333 1.        ]\n",
            " [0.66666667 1.        ]\n",
            " [0.66666667 1.        ]]\n",
            "(18800, 2)\n",
            "(3451, 2)\n"
          ],
          "name": "stdout"
        }
      ]
    },
    {
      "cell_type": "code",
      "metadata": {
        "id": "TQV-qaPSHUwq",
        "colab_type": "code",
        "outputId": "bbc67670-cd52-4dd1-8a95-bfac91280083",
        "colab": {
          "base_uri": "https://localhost:8080/",
          "height": 51
        }
      },
      "source": [
        "data = np.reshape(data, data.shape + (1,))\n",
        "\n",
        "indices = np.arange(data.shape[0]) # Splits the data into a training set and a \n",
        "                                   # validation set, but first shuffles the data,\n",
        "                                   # because you're deadling with data in which samples\n",
        "                                   # are ordered (all negative first, then all positive)\n",
        "np.random.shuffle(indices)\n",
        "data = data[indices]\n",
        "labels = labels[indices]\n",
        "training_data = data[0:15000]\n",
        "print(training_data.shape)\n",
        "training_labels = labels[0:15000]\n",
        "print(training_labels.shape)\n",
        "validation_data = data[15000:]\n",
        "validation_labels = labels[15000:]"
      ],
      "execution_count": 0,
      "outputs": [
        {
          "output_type": "stream",
          "text": [
            "(15000, 2, 71, 1)\n",
            "(15000, 2)\n"
          ],
          "name": "stdout"
        }
      ]
    },
    {
      "cell_type": "code",
      "metadata": {
        "id": "rmhzQ04_FjcA",
        "colab_type": "code",
        "outputId": "032f37f1-97a7-4a21-c48d-cd16968e61c9",
        "colab": {
          "base_uri": "https://localhost:8080/",
          "height": 34
        }
      },
      "source": [
        "\n",
        "\n",
        "# network definition\n",
        "input_shape = training_data.shape[2:]\n",
        "print(input_shape)\n",
        "base_network = create_base_network(input_shape)\n",
        "\n",
        "input_a = Input(shape=input_shape)\n",
        "input_b = Input(shape=input_shape)\n",
        "\n",
        "processed_a = base_network(input_a)\n",
        "processed_b = base_network(input_b)\n",
        "\n",
        "distance = Lambda(cosine_distance, output_shape=cos_dist_output_shape)([processed_a, processed_b])\n",
        "\n",
        "model = Model([input_a, input_b], distance)\n",
        "\n",
        "  #train\n",
        "rms = RMSprop()\n",
        "\n",
        "model.compile(loss=contrastive_loss, optimizer=rms)\n",
        "\n",
        "# define the checkpoint\n",
        "#filepath=\"/content/drive/My Drive/Colab Notebooks/weights-improvement-{epoch:02d}-{loss:.4f}.hdf5\"\n",
        "#checkpoint = ModelCheckpoint(filepath, monitor='val_loss', verbose=1, save_best_only=True, mode='min')\n",
        "#callbacks_list = [checkpoint]\n",
        "\n",
        "#history = model.fit([training_data[:,0], training_data[:,1]], training_labels[:,0],\n",
        "#                    batch_size=128,\n",
        "#                    epochs=7,\n",
        "#                    validation_data=([validation_data[:,0], validation_data[:,1]], validation_labels[:,0]),\n",
        "#                    callbacks=callbacks_list)\n",
        "\n"
      ],
      "execution_count": 0,
      "outputs": [
        {
          "output_type": "stream",
          "text": [
            "(71, 1)\n"
          ],
          "name": "stdout"
        }
      ]
    },
    {
      "cell_type": "code",
      "metadata": {
        "id": "FruRoA8iu49n",
        "colab_type": "code",
        "colab": {}
      },
      "source": [
        "# load the network weights\n",
        "filename = \"/content/drive/My Drive/Colab Notebooks/weights-improvement-06-0.4771.hdf5\"\n",
        "model.load_weights(filename)\n",
        "model.compile(loss=contrastive_loss, optimizer=rms)"
      ],
      "execution_count": 0,
      "outputs": []
    },
    {
      "cell_type": "code",
      "metadata": {
        "id": "V5MCCRravPnY",
        "colab_type": "code",
        "colab": {}
      },
      "source": [
        "y_pred = model.predict([training_data[0:100, 0], training_data[0:100, 1]], batch_size=1)"
      ],
      "execution_count": 0,
      "outputs": []
    },
    {
      "cell_type": "code",
      "metadata": {
        "id": "I_uPwU3HmPou",
        "colab_type": "code",
        "colab": {}
      },
      "source": [
        "pred = np.empty((0,2), dtype=float)\n",
        "index = 0\n",
        "for i in y_pred:\n",
        "  pred = np.append(pred,[['%.08f' %i, labels[index][1]]], axis=0)\n",
        "  index += 1\n",
        "\n",
        "print(pred)"
      ],
      "execution_count": 0,
      "outputs": []
    },
    {
      "cell_type": "code",
      "metadata": {
        "id": "5v_AQl9C7Cpd",
        "colab_type": "code",
        "outputId": "9ff8877a-b444-4c0e-a665-aa49c8fd9097",
        "colab": {
          "base_uri": "https://localhost:8080/",
          "height": 323
        }
      },
      "source": [
        "model.summary()"
      ],
      "execution_count": 0,
      "outputs": [
        {
          "output_type": "stream",
          "text": [
            "Model: \"model_1\"\n",
            "__________________________________________________________________________________________________\n",
            "Layer (type)                    Output Shape         Param #     Connected to                     \n",
            "==================================================================================================\n",
            "input_1 (InputLayer)            (None, 71, 1)        0                                            \n",
            "__________________________________________________________________________________________________\n",
            "input_2 (InputLayer)            (None, 71, 1)        0                                            \n",
            "__________________________________________________________________________________________________\n",
            "sequential_1 (Sequential)       (None, 128)          346752      input_1[0][0]                    \n",
            "                                                                 input_2[0][0]                    \n",
            "__________________________________________________________________________________________________\n",
            "lambda_1 (Lambda)               (None, 1)            0           sequential_1[1][0]               \n",
            "                                                                 sequential_1[2][0]               \n",
            "==================================================================================================\n",
            "Total params: 346,752\n",
            "Trainable params: 346,752\n",
            "Non-trainable params: 0\n",
            "__________________________________________________________________________________________________\n"
          ],
          "name": "stdout"
        }
      ]
    },
    {
      "cell_type": "code",
      "metadata": {
        "id": "lAJbnQqwRk9E",
        "colab_type": "code",
        "outputId": "f55b6ab3-a905-4a2c-e63a-ba2273daf255",
        "colab": {
          "base_uri": "https://localhost:8080/",
          "height": 323
        }
      },
      "source": [
        "model.layers[2].summary()"
      ],
      "execution_count": 0,
      "outputs": [
        {
          "output_type": "stream",
          "text": [
            "Model: \"sequential_1\"\n",
            "_________________________________________________________________\n",
            "Layer (type)                 Output Shape              Param #   \n",
            "=================================================================\n",
            "bidirectional_1 (Bidirection (None, 71, 128)           33792     \n",
            "_________________________________________________________________\n",
            "bidirectional_2 (Bidirection (None, 71, 128)           98816     \n",
            "_________________________________________________________________\n",
            "bidirectional_3 (Bidirection (None, 71, 128)           98816     \n",
            "_________________________________________________________________\n",
            "bidirectional_4 (Bidirection (None, 128)               98816     \n",
            "_________________________________________________________________\n",
            "dense_1 (Dense)              (None, 128)               16512     \n",
            "=================================================================\n",
            "Total params: 346,752\n",
            "Trainable params: 346,752\n",
            "Non-trainable params: 0\n",
            "_________________________________________________________________\n"
          ],
          "name": "stdout"
        }
      ]
    },
    {
      "cell_type": "code",
      "metadata": {
        "id": "Q7E-eA6FuE1P",
        "colab_type": "code",
        "outputId": "6e4897d1-cc28-4835-a2cc-6752c556d80b",
        "colab": {
          "base_uri": "https://localhost:8080/",
          "height": 34
        }
      },
      "source": [
        "count = 0\n",
        "for key, values in reference_dict.items():\n",
        "  for value in values:\n",
        "    count += 1\n",
        "\n",
        "print(\"Number of entity names: \", count)"
      ],
      "execution_count": 0,
      "outputs": [
        {
          "output_type": "stream",
          "text": [
            "Number of entity names:  4371\n"
          ],
          "name": "stdout"
        }
      ]
    },
    {
      "cell_type": "code",
      "metadata": {
        "id": "1autAi37uSyy",
        "colab_type": "code",
        "colab": {}
      },
      "source": [
        "reference_array = np.empty((0,2), dtype='object')\n",
        "\n",
        "for key, values in reference_dict.items():\n",
        "  record = np.array([key, values])\n",
        "  reference_array = np.append(reference_array, [record], axis=0)\n"
      ],
      "execution_count": 0,
      "outputs": []
    },
    {
      "cell_type": "code",
      "metadata": {
        "id": "uRD1eYtUvuF1",
        "colab_type": "code",
        "outputId": "1babc9c0-7a5a-4cac-d450-f7ee5acbcb79",
        "colab": {
          "base_uri": "https://localhost:8080/",
          "height": 34
        }
      },
      "source": [
        "print(reference_array.shape)\n"
      ],
      "execution_count": 0,
      "outputs": [
        {
          "output_type": "stream",
          "text": [
            "(1486, 2)\n"
          ],
          "name": "stdout"
        }
      ]
    },
    {
      "cell_type": "code",
      "metadata": {
        "id": "RNOGZQZ0L94C",
        "colab_type": "code",
        "outputId": "f4066702-830c-43c7-d69b-bf6261f15f0c",
        "colab": {
          "base_uri": "https://localhost:8080/",
          "height": 34
        }
      },
      "source": [
        "print(reference_array[0,0])"
      ],
      "execution_count": 0,
      "outputs": [
        {
          "output_type": "stream",
          "text": [
            "10029331\n"
          ],
          "name": "stdout"
        }
      ]
    },
    {
      "cell_type": "code",
      "metadata": {
        "id": "FtvcvuZ6E52S",
        "colab_type": "code",
        "colab": {}
      },
      "source": [
        "for i, value in enumerate(reference_array):\n",
        "  print(i)"
      ],
      "execution_count": 0,
      "outputs": []
    },
    {
      "cell_type": "code",
      "metadata": {
        "id": "4NmHOLMNPffn",
        "colab_type": "code",
        "outputId": "9f75f043-d18c-4dbd-cf14-b531a237120f",
        "colab": {
          "base_uri": "https://localhost:8080/",
          "height": 85
        }
      },
      "source": [
        "for i in range(0,4):\n",
        "  print(i)"
      ],
      "execution_count": 0,
      "outputs": [
        {
          "output_type": "stream",
          "text": [
            "0\n",
            "1\n",
            "2\n",
            "3\n"
          ],
          "name": "stdout"
        }
      ]
    },
    {
      "cell_type": "code",
      "metadata": {
        "id": "fUqrfmT4wpPN",
        "colab_type": "code",
        "outputId": "515e977a-e753-4f5a-fd09-7bc3c19d8c41",
        "colab": {
          "base_uri": "https://localhost:8080/",
          "height": 442
        }
      },
      "source": [
        "hard_neg_pairs = np.empty((0,2))\n",
        "hard_neg_labels = []\n",
        "\n",
        "index =0\n",
        "#for record_1 in reference_array:\n",
        "for i, record_i in enumerate(reference_array):\n",
        "  for value_i in record_i[1]:\n",
        "    value_1 = np.reshape(value_i, (1,) + value_i.shape + (1,))\n",
        "    dist_array = np.empty((0,2), dtype='object') # Cột 1 lưu khoảng cách từ value_1 trong record_1 tới tất cả các value khác trong các record khác. \n",
        "                                                 # Cột 2 lưu lại chuỗi biểu diễn value_2\n",
        "    \n",
        "    #Comput the distance from the name in entity i to all the names in other enities\n",
        "    for j, record_2 in enumerate(reference_array):\n",
        "      if j > i: # Tránh bị trùng lặp (khoảng cách từ 1 đến 2 bằng khoảng cách từ 2 đến 1)\n",
        "        for value_j in record_2[1]:\n",
        "          value_2 = np.reshape(value_j, (1,) + value_j.shape + (1,))\n",
        "          dist= model.predict([value_1, value_2], batch_size=1)\n",
        "          dist_array = np.append(dist_array, [[dist[0], value_2]], axis=0)  \n",
        "          \n",
        "    dist_array = sorted(dist_array, key=lambda dist: dist[0])  \n",
        "\n",
        "    for k in range(0,4):\n",
        "      tmp = np.reshape(dist_array[k][1], (1,71))\n",
        "      hard_neg_pairs = np.append(hard_neg_pairs, [[value_i,tmp]], axis=0)\n",
        "      hard_neg_labels.append(0)       \n",
        "  print(index)\n",
        "  index += 1\n",
        "    "
      ],
      "execution_count": 0,
      "outputs": [
        {
          "output_type": "stream",
          "text": [
            "0\n",
            "1\n",
            "2\n",
            "3\n"
          ],
          "name": "stdout"
        },
        {
          "output_type": "error",
          "ename": "KeyboardInterrupt",
          "evalue": "ignored",
          "traceback": [
            "\u001b[0;31m---------------------------------------------------------------------------\u001b[0m",
            "\u001b[0;31mKeyboardInterrupt\u001b[0m                         Traceback (most recent call last)",
            "\u001b[0;32m<ipython-input-129-6b72d0a0ae1b>\u001b[0m in \u001b[0;36m<module>\u001b[0;34m()\u001b[0m\n\u001b[1;32m     15\u001b[0m         \u001b[0;32mfor\u001b[0m \u001b[0mvalue_j\u001b[0m \u001b[0;32min\u001b[0m \u001b[0mrecord_2\u001b[0m\u001b[0;34m[\u001b[0m\u001b[0;36m1\u001b[0m\u001b[0;34m]\u001b[0m\u001b[0;34m:\u001b[0m\u001b[0;34m\u001b[0m\u001b[0;34m\u001b[0m\u001b[0m\n\u001b[1;32m     16\u001b[0m           \u001b[0mvalue_2\u001b[0m \u001b[0;34m=\u001b[0m \u001b[0mnp\u001b[0m\u001b[0;34m.\u001b[0m\u001b[0mreshape\u001b[0m\u001b[0;34m(\u001b[0m\u001b[0mvalue_j\u001b[0m\u001b[0;34m,\u001b[0m \u001b[0;34m(\u001b[0m\u001b[0;36m1\u001b[0m\u001b[0;34m,\u001b[0m\u001b[0;34m)\u001b[0m \u001b[0;34m+\u001b[0m \u001b[0mvalue_j\u001b[0m\u001b[0;34m.\u001b[0m\u001b[0mshape\u001b[0m \u001b[0;34m+\u001b[0m \u001b[0;34m(\u001b[0m\u001b[0;36m1\u001b[0m\u001b[0;34m,\u001b[0m\u001b[0;34m)\u001b[0m\u001b[0;34m)\u001b[0m\u001b[0;34m\u001b[0m\u001b[0;34m\u001b[0m\u001b[0m\n\u001b[0;32m---> 17\u001b[0;31m           \u001b[0mdist\u001b[0m\u001b[0;34m=\u001b[0m \u001b[0mmodel\u001b[0m\u001b[0;34m.\u001b[0m\u001b[0mpredict\u001b[0m\u001b[0;34m(\u001b[0m\u001b[0;34m[\u001b[0m\u001b[0mvalue_1\u001b[0m\u001b[0;34m,\u001b[0m \u001b[0mvalue_2\u001b[0m\u001b[0;34m]\u001b[0m\u001b[0;34m,\u001b[0m \u001b[0mbatch_size\u001b[0m\u001b[0;34m=\u001b[0m\u001b[0;36m1\u001b[0m\u001b[0;34m)\u001b[0m\u001b[0;34m\u001b[0m\u001b[0;34m\u001b[0m\u001b[0m\n\u001b[0m\u001b[1;32m     18\u001b[0m           \u001b[0mdist_array\u001b[0m \u001b[0;34m=\u001b[0m \u001b[0mnp\u001b[0m\u001b[0;34m.\u001b[0m\u001b[0mappend\u001b[0m\u001b[0;34m(\u001b[0m\u001b[0mdist_array\u001b[0m\u001b[0;34m,\u001b[0m \u001b[0;34m[\u001b[0m\u001b[0;34m[\u001b[0m\u001b[0mdist\u001b[0m\u001b[0;34m[\u001b[0m\u001b[0;36m0\u001b[0m\u001b[0;34m]\u001b[0m\u001b[0;34m,\u001b[0m \u001b[0mvalue_2\u001b[0m\u001b[0;34m]\u001b[0m\u001b[0;34m]\u001b[0m\u001b[0;34m,\u001b[0m \u001b[0maxis\u001b[0m\u001b[0;34m=\u001b[0m\u001b[0;36m0\u001b[0m\u001b[0;34m)\u001b[0m\u001b[0;34m\u001b[0m\u001b[0;34m\u001b[0m\u001b[0m\n\u001b[1;32m     19\u001b[0m \u001b[0;34m\u001b[0m\u001b[0m\n",
            "\u001b[0;32m/usr/local/lib/python3.6/dist-packages/keras/engine/training.py\u001b[0m in \u001b[0;36mpredict\u001b[0;34m(self, x, batch_size, verbose, steps, callbacks, max_queue_size, workers, use_multiprocessing)\u001b[0m\n\u001b[1;32m   1460\u001b[0m                                             \u001b[0mverbose\u001b[0m\u001b[0;34m=\u001b[0m\u001b[0mverbose\u001b[0m\u001b[0;34m,\u001b[0m\u001b[0;34m\u001b[0m\u001b[0;34m\u001b[0m\u001b[0m\n\u001b[1;32m   1461\u001b[0m                                             \u001b[0msteps\u001b[0m\u001b[0;34m=\u001b[0m\u001b[0msteps\u001b[0m\u001b[0;34m,\u001b[0m\u001b[0;34m\u001b[0m\u001b[0;34m\u001b[0m\u001b[0m\n\u001b[0;32m-> 1462\u001b[0;31m                                             callbacks=callbacks)\n\u001b[0m\u001b[1;32m   1463\u001b[0m \u001b[0;34m\u001b[0m\u001b[0m\n\u001b[1;32m   1464\u001b[0m     def train_on_batch(self, x, y,\n",
            "\u001b[0;32m/usr/local/lib/python3.6/dist-packages/keras/engine/training_arrays.py\u001b[0m in \u001b[0;36mpredict_loop\u001b[0;34m(model, f, ins, batch_size, verbose, steps, callbacks)\u001b[0m\n\u001b[1;32m    322\u001b[0m             \u001b[0mbatch_logs\u001b[0m \u001b[0;34m=\u001b[0m \u001b[0;34m{\u001b[0m\u001b[0;34m'batch'\u001b[0m\u001b[0;34m:\u001b[0m \u001b[0mbatch_index\u001b[0m\u001b[0;34m,\u001b[0m \u001b[0;34m'size'\u001b[0m\u001b[0;34m:\u001b[0m \u001b[0mlen\u001b[0m\u001b[0;34m(\u001b[0m\u001b[0mbatch_ids\u001b[0m\u001b[0;34m)\u001b[0m\u001b[0;34m}\u001b[0m\u001b[0;34m\u001b[0m\u001b[0;34m\u001b[0m\u001b[0m\n\u001b[1;32m    323\u001b[0m             \u001b[0mcallbacks\u001b[0m\u001b[0;34m.\u001b[0m\u001b[0m_call_batch_hook\u001b[0m\u001b[0;34m(\u001b[0m\u001b[0;34m'predict'\u001b[0m\u001b[0;34m,\u001b[0m \u001b[0;34m'begin'\u001b[0m\u001b[0;34m,\u001b[0m \u001b[0mbatch_index\u001b[0m\u001b[0;34m,\u001b[0m \u001b[0mbatch_logs\u001b[0m\u001b[0;34m)\u001b[0m\u001b[0;34m\u001b[0m\u001b[0;34m\u001b[0m\u001b[0m\n\u001b[0;32m--> 324\u001b[0;31m             \u001b[0mbatch_outs\u001b[0m \u001b[0;34m=\u001b[0m \u001b[0mf\u001b[0m\u001b[0;34m(\u001b[0m\u001b[0mins_batch\u001b[0m\u001b[0;34m)\u001b[0m\u001b[0;34m\u001b[0m\u001b[0;34m\u001b[0m\u001b[0m\n\u001b[0m\u001b[1;32m    325\u001b[0m             \u001b[0mbatch_outs\u001b[0m \u001b[0;34m=\u001b[0m \u001b[0mto_list\u001b[0m\u001b[0;34m(\u001b[0m\u001b[0mbatch_outs\u001b[0m\u001b[0;34m)\u001b[0m\u001b[0;34m\u001b[0m\u001b[0;34m\u001b[0m\u001b[0m\n\u001b[1;32m    326\u001b[0m             \u001b[0;32mif\u001b[0m \u001b[0mbatch_index\u001b[0m \u001b[0;34m==\u001b[0m \u001b[0;36m0\u001b[0m\u001b[0;34m:\u001b[0m\u001b[0;34m\u001b[0m\u001b[0;34m\u001b[0m\u001b[0m\n",
            "\u001b[0;32m/usr/local/lib/python3.6/dist-packages/tensorflow/python/keras/backend.py\u001b[0m in \u001b[0;36m__call__\u001b[0;34m(self, inputs)\u001b[0m\n\u001b[1;32m   3790\u001b[0m         \u001b[0mvalue\u001b[0m \u001b[0;34m=\u001b[0m \u001b[0mmath_ops\u001b[0m\u001b[0;34m.\u001b[0m\u001b[0mcast\u001b[0m\u001b[0;34m(\u001b[0m\u001b[0mvalue\u001b[0m\u001b[0;34m,\u001b[0m \u001b[0mtensor\u001b[0m\u001b[0;34m.\u001b[0m\u001b[0mdtype\u001b[0m\u001b[0;34m)\u001b[0m\u001b[0;34m\u001b[0m\u001b[0;34m\u001b[0m\u001b[0m\n\u001b[1;32m   3791\u001b[0m       \u001b[0mconverted_inputs\u001b[0m\u001b[0;34m.\u001b[0m\u001b[0mappend\u001b[0m\u001b[0;34m(\u001b[0m\u001b[0mvalue\u001b[0m\u001b[0;34m)\u001b[0m\u001b[0;34m\u001b[0m\u001b[0;34m\u001b[0m\u001b[0m\n\u001b[0;32m-> 3792\u001b[0;31m     \u001b[0moutputs\u001b[0m \u001b[0;34m=\u001b[0m \u001b[0mself\u001b[0m\u001b[0;34m.\u001b[0m\u001b[0m_graph_fn\u001b[0m\u001b[0;34m(\u001b[0m\u001b[0;34m*\u001b[0m\u001b[0mconverted_inputs\u001b[0m\u001b[0;34m)\u001b[0m\u001b[0;34m\u001b[0m\u001b[0;34m\u001b[0m\u001b[0m\n\u001b[0m\u001b[1;32m   3793\u001b[0m \u001b[0;34m\u001b[0m\u001b[0m\n\u001b[1;32m   3794\u001b[0m     \u001b[0;31m# EagerTensor.numpy() will often make a copy to ensure memory safety.\u001b[0m\u001b[0;34m\u001b[0m\u001b[0;34m\u001b[0m\u001b[0;34m\u001b[0m\u001b[0m\n",
            "\u001b[0;32m/usr/local/lib/python3.6/dist-packages/tensorflow/python/eager/function.py\u001b[0m in \u001b[0;36m__call__\u001b[0;34m(self, *args, **kwargs)\u001b[0m\n\u001b[1;32m   1603\u001b[0m       \u001b[0mTypeError\u001b[0m\u001b[0;34m:\u001b[0m \u001b[0mFor\u001b[0m \u001b[0minvalid\u001b[0m \u001b[0mpositional\u001b[0m\u001b[0;34m/\u001b[0m\u001b[0mkeyword\u001b[0m \u001b[0margument\u001b[0m \u001b[0mcombinations\u001b[0m\u001b[0;34m.\u001b[0m\u001b[0;34m\u001b[0m\u001b[0;34m\u001b[0m\u001b[0m\n\u001b[1;32m   1604\u001b[0m     \"\"\"\n\u001b[0;32m-> 1605\u001b[0;31m     \u001b[0;32mreturn\u001b[0m \u001b[0mself\u001b[0m\u001b[0;34m.\u001b[0m\u001b[0m_call_impl\u001b[0m\u001b[0;34m(\u001b[0m\u001b[0margs\u001b[0m\u001b[0;34m,\u001b[0m \u001b[0mkwargs\u001b[0m\u001b[0;34m)\u001b[0m\u001b[0;34m\u001b[0m\u001b[0;34m\u001b[0m\u001b[0m\n\u001b[0m\u001b[1;32m   1606\u001b[0m \u001b[0;34m\u001b[0m\u001b[0m\n\u001b[1;32m   1607\u001b[0m   \u001b[0;32mdef\u001b[0m \u001b[0m_call_impl\u001b[0m\u001b[0;34m(\u001b[0m\u001b[0mself\u001b[0m\u001b[0;34m,\u001b[0m \u001b[0margs\u001b[0m\u001b[0;34m,\u001b[0m \u001b[0mkwargs\u001b[0m\u001b[0;34m,\u001b[0m \u001b[0mcancellation_manager\u001b[0m\u001b[0;34m=\u001b[0m\u001b[0;32mNone\u001b[0m\u001b[0;34m)\u001b[0m\u001b[0;34m:\u001b[0m\u001b[0;34m\u001b[0m\u001b[0;34m\u001b[0m\u001b[0m\n",
            "\u001b[0;32m/usr/local/lib/python3.6/dist-packages/tensorflow/python/eager/function.py\u001b[0m in \u001b[0;36m_call_impl\u001b[0;34m(self, args, kwargs, cancellation_manager)\u001b[0m\n\u001b[1;32m   1643\u001b[0m       raise TypeError(\"Keyword arguments {} unknown. Expected {}.\".format(\n\u001b[1;32m   1644\u001b[0m           list(kwargs.keys()), list(self._arg_keywords)))\n\u001b[0;32m-> 1645\u001b[0;31m     \u001b[0;32mreturn\u001b[0m \u001b[0mself\u001b[0m\u001b[0;34m.\u001b[0m\u001b[0m_call_flat\u001b[0m\u001b[0;34m(\u001b[0m\u001b[0margs\u001b[0m\u001b[0;34m,\u001b[0m \u001b[0mself\u001b[0m\u001b[0;34m.\u001b[0m\u001b[0mcaptured_inputs\u001b[0m\u001b[0;34m,\u001b[0m \u001b[0mcancellation_manager\u001b[0m\u001b[0;34m)\u001b[0m\u001b[0;34m\u001b[0m\u001b[0;34m\u001b[0m\u001b[0m\n\u001b[0m\u001b[1;32m   1646\u001b[0m \u001b[0;34m\u001b[0m\u001b[0m\n\u001b[1;32m   1647\u001b[0m   \u001b[0;32mdef\u001b[0m \u001b[0m_filtered_call\u001b[0m\u001b[0;34m(\u001b[0m\u001b[0mself\u001b[0m\u001b[0;34m,\u001b[0m \u001b[0margs\u001b[0m\u001b[0;34m,\u001b[0m \u001b[0mkwargs\u001b[0m\u001b[0;34m)\u001b[0m\u001b[0;34m:\u001b[0m\u001b[0;34m\u001b[0m\u001b[0;34m\u001b[0m\u001b[0m\n",
            "\u001b[0;32m/usr/local/lib/python3.6/dist-packages/tensorflow/python/eager/function.py\u001b[0m in \u001b[0;36m_call_flat\u001b[0;34m(self, args, captured_inputs, cancellation_manager)\u001b[0m\n\u001b[1;32m   1744\u001b[0m       \u001b[0;31m# No tape is watching; skip to running the function.\u001b[0m\u001b[0;34m\u001b[0m\u001b[0;34m\u001b[0m\u001b[0;34m\u001b[0m\u001b[0m\n\u001b[1;32m   1745\u001b[0m       return self._build_call_outputs(self._inference_function.call(\n\u001b[0;32m-> 1746\u001b[0;31m           ctx, args, cancellation_manager=cancellation_manager))\n\u001b[0m\u001b[1;32m   1747\u001b[0m     forward_backward = self._select_forward_and_backward_functions(\n\u001b[1;32m   1748\u001b[0m         \u001b[0margs\u001b[0m\u001b[0;34m,\u001b[0m\u001b[0;34m\u001b[0m\u001b[0;34m\u001b[0m\u001b[0m\n",
            "\u001b[0;32m/usr/local/lib/python3.6/dist-packages/tensorflow/python/eager/function.py\u001b[0m in \u001b[0;36mcall\u001b[0;34m(self, ctx, args, cancellation_manager)\u001b[0m\n\u001b[1;32m    596\u001b[0m               \u001b[0minputs\u001b[0m\u001b[0;34m=\u001b[0m\u001b[0margs\u001b[0m\u001b[0;34m,\u001b[0m\u001b[0;34m\u001b[0m\u001b[0;34m\u001b[0m\u001b[0m\n\u001b[1;32m    597\u001b[0m               \u001b[0mattrs\u001b[0m\u001b[0;34m=\u001b[0m\u001b[0mattrs\u001b[0m\u001b[0;34m,\u001b[0m\u001b[0;34m\u001b[0m\u001b[0;34m\u001b[0m\u001b[0m\n\u001b[0;32m--> 598\u001b[0;31m               ctx=ctx)\n\u001b[0m\u001b[1;32m    599\u001b[0m         \u001b[0;32melse\u001b[0m\u001b[0;34m:\u001b[0m\u001b[0;34m\u001b[0m\u001b[0;34m\u001b[0m\u001b[0m\n\u001b[1;32m    600\u001b[0m           outputs = execute.execute_with_cancellation(\n",
            "\u001b[0;32m/usr/local/lib/python3.6/dist-packages/tensorflow/python/eager/execute.py\u001b[0m in \u001b[0;36mquick_execute\u001b[0;34m(op_name, num_outputs, inputs, attrs, ctx, name)\u001b[0m\n\u001b[1;32m     58\u001b[0m     \u001b[0mctx\u001b[0m\u001b[0;34m.\u001b[0m\u001b[0mensure_initialized\u001b[0m\u001b[0;34m(\u001b[0m\u001b[0;34m)\u001b[0m\u001b[0;34m\u001b[0m\u001b[0;34m\u001b[0m\u001b[0m\n\u001b[1;32m     59\u001b[0m     tensors = pywrap_tfe.TFE_Py_Execute(ctx._handle, device_name, op_name,\n\u001b[0;32m---> 60\u001b[0;31m                                         inputs, attrs, num_outputs)\n\u001b[0m\u001b[1;32m     61\u001b[0m   \u001b[0;32mexcept\u001b[0m \u001b[0mcore\u001b[0m\u001b[0;34m.\u001b[0m\u001b[0m_NotOkStatusException\u001b[0m \u001b[0;32mas\u001b[0m \u001b[0me\u001b[0m\u001b[0;34m:\u001b[0m\u001b[0;34m\u001b[0m\u001b[0;34m\u001b[0m\u001b[0m\n\u001b[1;32m     62\u001b[0m     \u001b[0;32mif\u001b[0m \u001b[0mname\u001b[0m \u001b[0;32mis\u001b[0m \u001b[0;32mnot\u001b[0m \u001b[0;32mNone\u001b[0m\u001b[0;34m:\u001b[0m\u001b[0;34m\u001b[0m\u001b[0;34m\u001b[0m\u001b[0m\n",
            "\u001b[0;31mKeyboardInterrupt\u001b[0m: "
          ]
        }
      ]
    },
    {
      "cell_type": "markdown",
      "metadata": {
        "id": "COluWRbDaUMZ",
        "colab_type": "text"
      },
      "source": [
        ""
      ]
    },
    {
      "cell_type": "code",
      "metadata": {
        "id": "9toZlIVrjjcu",
        "colab_type": "code",
        "colab": {}
      },
      "source": [
        ""
      ],
      "execution_count": 0,
      "outputs": []
    },
    {
      "cell_type": "code",
      "metadata": {
        "id": "MHS1uR2SRzSN",
        "colab_type": "code",
        "outputId": "89af6810-7d51-4f3e-fb6a-f836202db63f",
        "colab": {
          "base_uri": "https://localhost:8080/",
          "height": 748
        }
      },
      "source": [
        "# Hard negatvie mining\n",
        "\n",
        "hard_neg_pairs = np.empty((0,2))\n",
        "hard_neg_labels = []\n",
        "for key_1, values_1 in reference_dict.items():\n",
        "  for value_1 in values_1:\n",
        "    value_1 = np.reshape(value_1, (1,) + value_1.shape + (1,))\n",
        "    dist_arr = []#np.empty((0,1), dtype=float)\n",
        "    for key_2, values_2 in reference_dict.items():\n",
        "      if key_1 != key_2:\n",
        "        for value_2 in values_2:\n",
        "          value_2 = np.reshape(value_2, (1,) + value_2.shape + (1,))\n",
        "          dist= model.predict([value_1, value_2], batch_size=1)\n",
        "          dist_arr.append(dist[0])\n",
        "    \n",
        "   \n",
        "\n",
        "\n",
        "    #indexOfKClosest = getIndexOfKclosest(dist_arr, 0.00000 , 3, len(dist_arr))\n",
        "    #print(dist_arr[:,0])\n",
        "    #print(indexOfKClosest)\n",
        "    #tmp = []\n",
        "    #for i in indexOfKClosest: \n",
        "    #  tmp = np.append(tmp, i)\n",
        "    #print(tmp)\n",
        "    #hard_neg = np.append(hard_neg, np.array([tmp]), axis=0)\n",
        "    #for i in indexOfKClosest:\n",
        "    #  print(\"Lan: \", dist_arr[i])\n",
        "\n"
      ],
      "execution_count": 0,
      "outputs": [
        {
          "output_type": "stream",
          "text": [
            "4365\n"
          ],
          "name": "stdout"
        },
        {
          "output_type": "stream",
          "text": [
            "IOPub data rate exceeded.\n",
            "The notebook server will temporarily stop sending output\n",
            "to the client in order to avoid crashing it.\n",
            "To change this limit, set the config variable\n",
            "`--NotebookApp.iopub_data_rate_limit`.\n",
            "\n",
            "Current values:\n",
            "NotebookApp.iopub_data_rate_limit=1000000.0 (bytes/sec)\n",
            "NotebookApp.rate_limit_window=3.0 (secs)\n",
            "\n"
          ],
          "name": "stderr"
        },
        {
          "output_type": "stream",
          "text": [
            "4365\n"
          ],
          "name": "stdout"
        },
        {
          "output_type": "stream",
          "text": [
            "IOPub data rate exceeded.\n",
            "The notebook server will temporarily stop sending output\n",
            "to the client in order to avoid crashing it.\n",
            "To change this limit, set the config variable\n",
            "`--NotebookApp.iopub_data_rate_limit`.\n",
            "\n",
            "Current values:\n",
            "NotebookApp.iopub_data_rate_limit=1000000.0 (bytes/sec)\n",
            "NotebookApp.rate_limit_window=3.0 (secs)\n",
            "\n"
          ],
          "name": "stderr"
        },
        {
          "output_type": "error",
          "ename": "KeyboardInterrupt",
          "evalue": "ignored",
          "traceback": [
            "\u001b[0;31m---------------------------------------------------------------------------\u001b[0m",
            "\u001b[0;31mKeyboardInterrupt\u001b[0m                         Traceback (most recent call last)",
            "\u001b[0;32m<ipython-input-88-c5884e5ba13b>\u001b[0m in \u001b[0;36m<module>\u001b[0;34m()\u001b[0m\n\u001b[1;32m     10\u001b[0m         \u001b[0;32mfor\u001b[0m \u001b[0mvalue_2\u001b[0m \u001b[0;32min\u001b[0m \u001b[0mvalues_2\u001b[0m\u001b[0;34m:\u001b[0m\u001b[0;34m\u001b[0m\u001b[0;34m\u001b[0m\u001b[0m\n\u001b[1;32m     11\u001b[0m           \u001b[0mvalue_2\u001b[0m \u001b[0;34m=\u001b[0m \u001b[0mnp\u001b[0m\u001b[0;34m.\u001b[0m\u001b[0mreshape\u001b[0m\u001b[0;34m(\u001b[0m\u001b[0mvalue_2\u001b[0m\u001b[0;34m,\u001b[0m \u001b[0;34m(\u001b[0m\u001b[0;36m1\u001b[0m\u001b[0;34m,\u001b[0m\u001b[0;34m)\u001b[0m \u001b[0;34m+\u001b[0m \u001b[0mvalue_2\u001b[0m\u001b[0;34m.\u001b[0m\u001b[0mshape\u001b[0m \u001b[0;34m+\u001b[0m \u001b[0;34m(\u001b[0m\u001b[0;36m1\u001b[0m\u001b[0;34m,\u001b[0m\u001b[0;34m)\u001b[0m\u001b[0;34m)\u001b[0m\u001b[0;34m\u001b[0m\u001b[0;34m\u001b[0m\u001b[0m\n\u001b[0;32m---> 12\u001b[0;31m           \u001b[0mdist\u001b[0m\u001b[0;34m=\u001b[0m \u001b[0mmodel\u001b[0m\u001b[0;34m.\u001b[0m\u001b[0mpredict\u001b[0m\u001b[0;34m(\u001b[0m\u001b[0;34m[\u001b[0m\u001b[0mvalue_1\u001b[0m\u001b[0;34m,\u001b[0m \u001b[0mvalue_2\u001b[0m\u001b[0;34m]\u001b[0m\u001b[0;34m,\u001b[0m \u001b[0mbatch_size\u001b[0m\u001b[0;34m=\u001b[0m\u001b[0;36m1\u001b[0m\u001b[0;34m)\u001b[0m\u001b[0;34m\u001b[0m\u001b[0;34m\u001b[0m\u001b[0m\n\u001b[0m\u001b[1;32m     13\u001b[0m           \u001b[0mdist_arr\u001b[0m\u001b[0;34m.\u001b[0m\u001b[0mappend\u001b[0m\u001b[0;34m(\u001b[0m\u001b[0mdist\u001b[0m\u001b[0;34m[\u001b[0m\u001b[0;36m0\u001b[0m\u001b[0;34m]\u001b[0m\u001b[0;34m)\u001b[0m\u001b[0;34m\u001b[0m\u001b[0;34m\u001b[0m\u001b[0m\n\u001b[1;32m     14\u001b[0m \u001b[0;34m\u001b[0m\u001b[0m\n",
            "\u001b[0;32m/usr/local/lib/python3.6/dist-packages/keras/engine/training.py\u001b[0m in \u001b[0;36mpredict\u001b[0;34m(self, x, batch_size, verbose, steps, callbacks, max_queue_size, workers, use_multiprocessing)\u001b[0m\n\u001b[1;32m   1460\u001b[0m                                             \u001b[0mverbose\u001b[0m\u001b[0;34m=\u001b[0m\u001b[0mverbose\u001b[0m\u001b[0;34m,\u001b[0m\u001b[0;34m\u001b[0m\u001b[0;34m\u001b[0m\u001b[0m\n\u001b[1;32m   1461\u001b[0m                                             \u001b[0msteps\u001b[0m\u001b[0;34m=\u001b[0m\u001b[0msteps\u001b[0m\u001b[0;34m,\u001b[0m\u001b[0;34m\u001b[0m\u001b[0;34m\u001b[0m\u001b[0m\n\u001b[0;32m-> 1462\u001b[0;31m                                             callbacks=callbacks)\n\u001b[0m\u001b[1;32m   1463\u001b[0m \u001b[0;34m\u001b[0m\u001b[0m\n\u001b[1;32m   1464\u001b[0m     def train_on_batch(self, x, y,\n",
            "\u001b[0;32m/usr/local/lib/python3.6/dist-packages/keras/engine/training_arrays.py\u001b[0m in \u001b[0;36mpredict_loop\u001b[0;34m(model, f, ins, batch_size, verbose, steps, callbacks)\u001b[0m\n\u001b[1;32m    322\u001b[0m             \u001b[0mbatch_logs\u001b[0m \u001b[0;34m=\u001b[0m \u001b[0;34m{\u001b[0m\u001b[0;34m'batch'\u001b[0m\u001b[0;34m:\u001b[0m \u001b[0mbatch_index\u001b[0m\u001b[0;34m,\u001b[0m \u001b[0;34m'size'\u001b[0m\u001b[0;34m:\u001b[0m \u001b[0mlen\u001b[0m\u001b[0;34m(\u001b[0m\u001b[0mbatch_ids\u001b[0m\u001b[0;34m)\u001b[0m\u001b[0;34m}\u001b[0m\u001b[0;34m\u001b[0m\u001b[0;34m\u001b[0m\u001b[0m\n\u001b[1;32m    323\u001b[0m             \u001b[0mcallbacks\u001b[0m\u001b[0;34m.\u001b[0m\u001b[0m_call_batch_hook\u001b[0m\u001b[0;34m(\u001b[0m\u001b[0;34m'predict'\u001b[0m\u001b[0;34m,\u001b[0m \u001b[0;34m'begin'\u001b[0m\u001b[0;34m,\u001b[0m \u001b[0mbatch_index\u001b[0m\u001b[0;34m,\u001b[0m \u001b[0mbatch_logs\u001b[0m\u001b[0;34m)\u001b[0m\u001b[0;34m\u001b[0m\u001b[0;34m\u001b[0m\u001b[0m\n\u001b[0;32m--> 324\u001b[0;31m             \u001b[0mbatch_outs\u001b[0m \u001b[0;34m=\u001b[0m \u001b[0mf\u001b[0m\u001b[0;34m(\u001b[0m\u001b[0mins_batch\u001b[0m\u001b[0;34m)\u001b[0m\u001b[0;34m\u001b[0m\u001b[0;34m\u001b[0m\u001b[0m\n\u001b[0m\u001b[1;32m    325\u001b[0m             \u001b[0mbatch_outs\u001b[0m \u001b[0;34m=\u001b[0m \u001b[0mto_list\u001b[0m\u001b[0;34m(\u001b[0m\u001b[0mbatch_outs\u001b[0m\u001b[0;34m)\u001b[0m\u001b[0;34m\u001b[0m\u001b[0;34m\u001b[0m\u001b[0m\n\u001b[1;32m    326\u001b[0m             \u001b[0;32mif\u001b[0m \u001b[0mbatch_index\u001b[0m \u001b[0;34m==\u001b[0m \u001b[0;36m0\u001b[0m\u001b[0;34m:\u001b[0m\u001b[0;34m\u001b[0m\u001b[0;34m\u001b[0m\u001b[0m\n",
            "\u001b[0;32m/usr/local/lib/python3.6/dist-packages/tensorflow/python/keras/backend.py\u001b[0m in \u001b[0;36m__call__\u001b[0;34m(self, inputs)\u001b[0m\n\u001b[1;32m   3790\u001b[0m         \u001b[0mvalue\u001b[0m \u001b[0;34m=\u001b[0m \u001b[0mmath_ops\u001b[0m\u001b[0;34m.\u001b[0m\u001b[0mcast\u001b[0m\u001b[0;34m(\u001b[0m\u001b[0mvalue\u001b[0m\u001b[0;34m,\u001b[0m \u001b[0mtensor\u001b[0m\u001b[0;34m.\u001b[0m\u001b[0mdtype\u001b[0m\u001b[0;34m)\u001b[0m\u001b[0;34m\u001b[0m\u001b[0;34m\u001b[0m\u001b[0m\n\u001b[1;32m   3791\u001b[0m       \u001b[0mconverted_inputs\u001b[0m\u001b[0;34m.\u001b[0m\u001b[0mappend\u001b[0m\u001b[0;34m(\u001b[0m\u001b[0mvalue\u001b[0m\u001b[0;34m)\u001b[0m\u001b[0;34m\u001b[0m\u001b[0;34m\u001b[0m\u001b[0m\n\u001b[0;32m-> 3792\u001b[0;31m     \u001b[0moutputs\u001b[0m \u001b[0;34m=\u001b[0m \u001b[0mself\u001b[0m\u001b[0;34m.\u001b[0m\u001b[0m_graph_fn\u001b[0m\u001b[0;34m(\u001b[0m\u001b[0;34m*\u001b[0m\u001b[0mconverted_inputs\u001b[0m\u001b[0;34m)\u001b[0m\u001b[0;34m\u001b[0m\u001b[0;34m\u001b[0m\u001b[0m\n\u001b[0m\u001b[1;32m   3793\u001b[0m \u001b[0;34m\u001b[0m\u001b[0m\n\u001b[1;32m   3794\u001b[0m     \u001b[0;31m# EagerTensor.numpy() will often make a copy to ensure memory safety.\u001b[0m\u001b[0;34m\u001b[0m\u001b[0;34m\u001b[0m\u001b[0;34m\u001b[0m\u001b[0m\n",
            "\u001b[0;32m/usr/local/lib/python3.6/dist-packages/tensorflow/python/eager/function.py\u001b[0m in \u001b[0;36m__call__\u001b[0;34m(self, *args, **kwargs)\u001b[0m\n\u001b[1;32m   1603\u001b[0m       \u001b[0mTypeError\u001b[0m\u001b[0;34m:\u001b[0m \u001b[0mFor\u001b[0m \u001b[0minvalid\u001b[0m \u001b[0mpositional\u001b[0m\u001b[0;34m/\u001b[0m\u001b[0mkeyword\u001b[0m \u001b[0margument\u001b[0m \u001b[0mcombinations\u001b[0m\u001b[0;34m.\u001b[0m\u001b[0;34m\u001b[0m\u001b[0;34m\u001b[0m\u001b[0m\n\u001b[1;32m   1604\u001b[0m     \"\"\"\n\u001b[0;32m-> 1605\u001b[0;31m     \u001b[0;32mreturn\u001b[0m \u001b[0mself\u001b[0m\u001b[0;34m.\u001b[0m\u001b[0m_call_impl\u001b[0m\u001b[0;34m(\u001b[0m\u001b[0margs\u001b[0m\u001b[0;34m,\u001b[0m \u001b[0mkwargs\u001b[0m\u001b[0;34m)\u001b[0m\u001b[0;34m\u001b[0m\u001b[0;34m\u001b[0m\u001b[0m\n\u001b[0m\u001b[1;32m   1606\u001b[0m \u001b[0;34m\u001b[0m\u001b[0m\n\u001b[1;32m   1607\u001b[0m   \u001b[0;32mdef\u001b[0m \u001b[0m_call_impl\u001b[0m\u001b[0;34m(\u001b[0m\u001b[0mself\u001b[0m\u001b[0;34m,\u001b[0m \u001b[0margs\u001b[0m\u001b[0;34m,\u001b[0m \u001b[0mkwargs\u001b[0m\u001b[0;34m,\u001b[0m \u001b[0mcancellation_manager\u001b[0m\u001b[0;34m=\u001b[0m\u001b[0;32mNone\u001b[0m\u001b[0;34m)\u001b[0m\u001b[0;34m:\u001b[0m\u001b[0;34m\u001b[0m\u001b[0;34m\u001b[0m\u001b[0m\n",
            "\u001b[0;32m/usr/local/lib/python3.6/dist-packages/tensorflow/python/eager/function.py\u001b[0m in \u001b[0;36m_call_impl\u001b[0;34m(self, args, kwargs, cancellation_manager)\u001b[0m\n\u001b[1;32m   1643\u001b[0m       raise TypeError(\"Keyword arguments {} unknown. Expected {}.\".format(\n\u001b[1;32m   1644\u001b[0m           list(kwargs.keys()), list(self._arg_keywords)))\n\u001b[0;32m-> 1645\u001b[0;31m     \u001b[0;32mreturn\u001b[0m \u001b[0mself\u001b[0m\u001b[0;34m.\u001b[0m\u001b[0m_call_flat\u001b[0m\u001b[0;34m(\u001b[0m\u001b[0margs\u001b[0m\u001b[0;34m,\u001b[0m \u001b[0mself\u001b[0m\u001b[0;34m.\u001b[0m\u001b[0mcaptured_inputs\u001b[0m\u001b[0;34m,\u001b[0m \u001b[0mcancellation_manager\u001b[0m\u001b[0;34m)\u001b[0m\u001b[0;34m\u001b[0m\u001b[0;34m\u001b[0m\u001b[0m\n\u001b[0m\u001b[1;32m   1646\u001b[0m \u001b[0;34m\u001b[0m\u001b[0m\n\u001b[1;32m   1647\u001b[0m   \u001b[0;32mdef\u001b[0m \u001b[0m_filtered_call\u001b[0m\u001b[0;34m(\u001b[0m\u001b[0mself\u001b[0m\u001b[0;34m,\u001b[0m \u001b[0margs\u001b[0m\u001b[0;34m,\u001b[0m \u001b[0mkwargs\u001b[0m\u001b[0;34m)\u001b[0m\u001b[0;34m:\u001b[0m\u001b[0;34m\u001b[0m\u001b[0;34m\u001b[0m\u001b[0m\n",
            "\u001b[0;32m/usr/local/lib/python3.6/dist-packages/tensorflow/python/eager/function.py\u001b[0m in \u001b[0;36m_call_flat\u001b[0;34m(self, args, captured_inputs, cancellation_manager)\u001b[0m\n\u001b[1;32m   1744\u001b[0m       \u001b[0;31m# No tape is watching; skip to running the function.\u001b[0m\u001b[0;34m\u001b[0m\u001b[0;34m\u001b[0m\u001b[0;34m\u001b[0m\u001b[0m\n\u001b[1;32m   1745\u001b[0m       return self._build_call_outputs(self._inference_function.call(\n\u001b[0;32m-> 1746\u001b[0;31m           ctx, args, cancellation_manager=cancellation_manager))\n\u001b[0m\u001b[1;32m   1747\u001b[0m     forward_backward = self._select_forward_and_backward_functions(\n\u001b[1;32m   1748\u001b[0m         \u001b[0margs\u001b[0m\u001b[0;34m,\u001b[0m\u001b[0;34m\u001b[0m\u001b[0;34m\u001b[0m\u001b[0m\n",
            "\u001b[0;32m/usr/local/lib/python3.6/dist-packages/tensorflow/python/eager/function.py\u001b[0m in \u001b[0;36mcall\u001b[0;34m(self, ctx, args, cancellation_manager)\u001b[0m\n\u001b[1;32m    596\u001b[0m               \u001b[0minputs\u001b[0m\u001b[0;34m=\u001b[0m\u001b[0margs\u001b[0m\u001b[0;34m,\u001b[0m\u001b[0;34m\u001b[0m\u001b[0;34m\u001b[0m\u001b[0m\n\u001b[1;32m    597\u001b[0m               \u001b[0mattrs\u001b[0m\u001b[0;34m=\u001b[0m\u001b[0mattrs\u001b[0m\u001b[0;34m,\u001b[0m\u001b[0;34m\u001b[0m\u001b[0;34m\u001b[0m\u001b[0m\n\u001b[0;32m--> 598\u001b[0;31m               ctx=ctx)\n\u001b[0m\u001b[1;32m    599\u001b[0m         \u001b[0;32melse\u001b[0m\u001b[0;34m:\u001b[0m\u001b[0;34m\u001b[0m\u001b[0;34m\u001b[0m\u001b[0m\n\u001b[1;32m    600\u001b[0m           outputs = execute.execute_with_cancellation(\n",
            "\u001b[0;32m/usr/local/lib/python3.6/dist-packages/tensorflow/python/eager/execute.py\u001b[0m in \u001b[0;36mquick_execute\u001b[0;34m(op_name, num_outputs, inputs, attrs, ctx, name)\u001b[0m\n\u001b[1;32m     58\u001b[0m     \u001b[0mctx\u001b[0m\u001b[0;34m.\u001b[0m\u001b[0mensure_initialized\u001b[0m\u001b[0;34m(\u001b[0m\u001b[0;34m)\u001b[0m\u001b[0;34m\u001b[0m\u001b[0;34m\u001b[0m\u001b[0m\n\u001b[1;32m     59\u001b[0m     tensors = pywrap_tfe.TFE_Py_Execute(ctx._handle, device_name, op_name,\n\u001b[0;32m---> 60\u001b[0;31m                                         inputs, attrs, num_outputs)\n\u001b[0m\u001b[1;32m     61\u001b[0m   \u001b[0;32mexcept\u001b[0m \u001b[0mcore\u001b[0m\u001b[0;34m.\u001b[0m\u001b[0m_NotOkStatusException\u001b[0m \u001b[0;32mas\u001b[0m \u001b[0me\u001b[0m\u001b[0;34m:\u001b[0m\u001b[0;34m\u001b[0m\u001b[0;34m\u001b[0m\u001b[0m\n\u001b[1;32m     62\u001b[0m     \u001b[0;32mif\u001b[0m \u001b[0mname\u001b[0m \u001b[0;32mis\u001b[0m \u001b[0;32mnot\u001b[0m \u001b[0;32mNone\u001b[0m\u001b[0;34m:\u001b[0m\u001b[0;34m\u001b[0m\u001b[0;34m\u001b[0m\u001b[0m\n",
            "\u001b[0;31mKeyboardInterrupt\u001b[0m: "
          ]
        }
      ]
    },
    {
      "cell_type": "code",
      "metadata": {
        "id": "QrqneG2nUZHd",
        "colab_type": "code",
        "outputId": "435759fa-c9f9-4ac1-e18b-58f0bc5b03eb",
        "colab": {
          "base_uri": "https://localhost:8080/",
          "height": 34
        }
      },
      "source": [
        "print(\"%.08f\" %2.8014183e-06)"
      ],
      "execution_count": 0,
      "outputs": [
        {
          "output_type": "stream",
          "text": [
            "0.00000280\n"
          ],
          "name": "stdout"
        }
      ]
    },
    {
      "cell_type": "code",
      "metadata": {
        "id": "656zamG-jc-V",
        "colab_type": "code",
        "outputId": "15fe3cfa-1823-46ad-8006-5f46aca4c64e",
        "colab": {
          "base_uri": "https://localhost:8080/",
          "height": 34
        }
      },
      "source": [
        "type(dist_arr)"
      ],
      "execution_count": 0,
      "outputs": [
        {
          "output_type": "execute_result",
          "data": {
            "text/plain": [
              "list"
            ]
          },
          "metadata": {
            "tags": []
          },
          "execution_count": 33
        }
      ]
    },
    {
      "cell_type": "code",
      "metadata": {
        "id": "RCvoztPCj-Uo",
        "colab_type": "code",
        "outputId": "14a89c13-bc3a-4412-d1b4-724c1c74411a",
        "colab": {
          "base_uri": "https://localhost:8080/",
          "height": 34
        }
      },
      "source": [
        "x = 0.0\n",
        "print(dist_array[:,0].shape)"
      ],
      "execution_count": 0,
      "outputs": [
        {
          "output_type": "stream",
          "text": [
            "(6285,)\n"
          ],
          "name": "stdout"
        }
      ]
    },
    {
      "cell_type": "code",
      "metadata": {
        "id": "oTH9KvExQL2G",
        "colab_type": "code",
        "outputId": "81d57df4-f810-4203-f53a-1239e72f7a50",
        "colab": {
          "base_uri": "https://localhost:8080/",
          "height": 163
        }
      },
      "source": [
        "print(dist_array[:,0])"
      ],
      "execution_count": 0,
      "outputs": [
        {
          "output_type": "error",
          "ename": "NameError",
          "evalue": "ignored",
          "traceback": [
            "\u001b[0;31m---------------------------------------------------------------------------\u001b[0m",
            "\u001b[0;31mNameError\u001b[0m                                 Traceback (most recent call last)",
            "\u001b[0;32m<ipython-input-1-29d57dd73889>\u001b[0m in \u001b[0;36m<module>\u001b[0;34m()\u001b[0m\n\u001b[0;32m----> 1\u001b[0;31m \u001b[0mprint\u001b[0m\u001b[0;34m(\u001b[0m\u001b[0mdist_array\u001b[0m\u001b[0;34m[\u001b[0m\u001b[0;34m:\u001b[0m\u001b[0;34m,\u001b[0m\u001b[0;36m0\u001b[0m\u001b[0;34m]\u001b[0m\u001b[0;34m)\u001b[0m\u001b[0;34m\u001b[0m\u001b[0;34m\u001b[0m\u001b[0m\n\u001b[0m",
            "\u001b[0;31mNameError\u001b[0m: name 'dist_array' is not defined"
          ]
        }
      ]
    },
    {
      "cell_type": "code",
      "metadata": {
        "id": "0Y2ncOfkh3u6",
        "colab_type": "code",
        "outputId": "04be68fc-0dbc-41d2-fd98-58240d23142e",
        "colab": {
          "base_uri": "https://localhost:8080/",
          "height": 163
        }
      },
      "source": [
        "print(getIndexOfKclosest(dist_array[:,0], 0.0001 , 4, len(dist_array[:,0])))"
      ],
      "execution_count": 0,
      "outputs": [
        {
          "output_type": "error",
          "ename": "NameError",
          "evalue": "ignored",
          "traceback": [
            "\u001b[0;31m---------------------------------------------------------------------------\u001b[0m",
            "\u001b[0;31mNameError\u001b[0m                                 Traceback (most recent call last)",
            "\u001b[0;32m<ipython-input-2-005755086df5>\u001b[0m in \u001b[0;36m<module>\u001b[0;34m()\u001b[0m\n\u001b[0;32m----> 1\u001b[0;31m \u001b[0mprint\u001b[0m\u001b[0;34m(\u001b[0m\u001b[0mgetIndexOfKclosest\u001b[0m\u001b[0;34m(\u001b[0m\u001b[0mdist_array\u001b[0m\u001b[0;34m[\u001b[0m\u001b[0;34m:\u001b[0m\u001b[0;34m,\u001b[0m\u001b[0;36m0\u001b[0m\u001b[0;34m]\u001b[0m\u001b[0;34m,\u001b[0m \u001b[0;36m0.0001\u001b[0m \u001b[0;34m,\u001b[0m \u001b[0;36m4\u001b[0m\u001b[0;34m,\u001b[0m \u001b[0mlen\u001b[0m\u001b[0;34m(\u001b[0m\u001b[0mdist_array\u001b[0m\u001b[0;34m[\u001b[0m\u001b[0;34m:\u001b[0m\u001b[0;34m,\u001b[0m\u001b[0;36m0\u001b[0m\u001b[0;34m]\u001b[0m\u001b[0;34m)\u001b[0m\u001b[0;34m)\u001b[0m\u001b[0;34m)\u001b[0m\u001b[0;34m\u001b[0m\u001b[0;34m\u001b[0m\u001b[0m\n\u001b[0m",
            "\u001b[0;31mNameError\u001b[0m: name 'getIndexOfKclosest' is not defined"
          ]
        }
      ]
    },
    {
      "cell_type": "code",
      "metadata": {
        "id": "2NkJ9UTzPi7z",
        "colab_type": "code",
        "colab": {}
      },
      "source": [
        "a = sorted(dist_array[:,0])"
      ],
      "execution_count": 0,
      "outputs": []
    },
    {
      "cell_type": "code",
      "metadata": {
        "id": "hPj3UQWdPoPM",
        "colab_type": "code",
        "outputId": "271abd1e-37b4-48a9-b446-d225a250dfd2",
        "colab": {
          "base_uri": "https://localhost:8080/",
          "height": 34
        }
      },
      "source": [
        "print(\"%.08f\" % dist_array[2,0])"
      ],
      "execution_count": 0,
      "outputs": [
        {
          "output_type": "stream",
          "text": [
            "0.08016455\n"
          ],
          "name": "stdout"
        }
      ]
    },
    {
      "cell_type": "code",
      "metadata": {
        "id": "JZVyrjO2kd0M",
        "colab_type": "code",
        "outputId": "97d86300-286a-4140-c750-7aa92a731dd5",
        "colab": {
          "base_uri": "https://localhost:8080/",
          "height": 34
        }
      },
      "source": [
        "print(dist_arr[26])\n"
      ],
      "execution_count": 0,
      "outputs": [
        {
          "output_type": "stream",
          "text": [
            "0.0041077733\n"
          ],
          "name": "stdout"
        }
      ]
    },
    {
      "cell_type": "code",
      "metadata": {
        "id": "pAB5-hOnUB7n",
        "colab_type": "code",
        "colab": {}
      },
      "source": [
        "a = training_data[0][0]\n",
        "a = np.reshape(a, (1,) + a.shape )"
      ],
      "execution_count": 0,
      "outputs": []
    },
    {
      "cell_type": "code",
      "metadata": {
        "id": "pak7jhkTVj3M",
        "colab_type": "code",
        "outputId": "611d7203-a97f-4eef-c199-b194c77cc0bb",
        "colab": {
          "base_uri": "https://localhost:8080/",
          "height": 34
        }
      },
      "source": [
        "a.shape"
      ],
      "execution_count": 0,
      "outputs": [
        {
          "output_type": "execute_result",
          "data": {
            "text/plain": [
              "(1, 71, 1)"
            ]
          },
          "metadata": {
            "tags": []
          },
          "execution_count": 51
        }
      ]
    },
    {
      "cell_type": "code",
      "metadata": {
        "id": "rTGuXsl3TL8e",
        "colab_type": "code",
        "colab": {}
      },
      "source": [
        "b = model.layers[2]\n",
        "z = b.predict(a, batch_size=1)"
      ],
      "execution_count": 0,
      "outputs": []
    },
    {
      "cell_type": "code",
      "metadata": {
        "id": "wcdeqTG1VtV8",
        "colab_type": "code",
        "outputId": "543d9a1b-b19f-4b59-fed5-3e875098d2b7",
        "colab": {
          "base_uri": "https://localhost:8080/",
          "height": 34
        }
      },
      "source": [
        "z.shape"
      ],
      "execution_count": 0,
      "outputs": [
        {
          "output_type": "execute_result",
          "data": {
            "text/plain": [
              "(1, 128)"
            ]
          },
          "metadata": {
            "tags": []
          },
          "execution_count": 54
        }
      ]
    },
    {
      "cell_type": "code",
      "metadata": {
        "id": "o_GY6oHziQ4Y",
        "colab_type": "code",
        "colab": {}
      },
      "source": [
        "def compareFloatNum(a, b): \n",
        "      \n",
        "    # Correct method to compare \n",
        "    # floating-ponumbers \n",
        "    if (abs(a - b) < 1e-9): \n",
        "        return True\n",
        "    else: \n",
        "        return False\n",
        "def findCrossOver(arr, low, high, x) :  \n",
        "  \n",
        "    # Base cases  \n",
        "    if (float(arr[high]) <= float(x)) : # x is greater than all  \n",
        "        return high \n",
        "          \n",
        "    if (float(arr[low]) > float(x)) : # x is smaller than all  \n",
        "        return low  \n",
        "      \n",
        "    # Find the middle point  \n",
        "    mid = (low + high) // 2 # low + (high - low)// 2  \n",
        "      \n",
        "    # If x is same as middle element,  \n",
        "    # then return mid  \n",
        "    if (float(arr[mid]) <= float(x) and float(arr[mid + 1]) > float(x)) : \n",
        "        return mid  \n",
        "      \n",
        "    # If x is greater than arr[mid], then  \n",
        "    # either arr[mid + 1] is ceiling of x  \n",
        "    # or ceiling lies in arr[mid+1...high]  \n",
        "    if(float(arr[mid]) < float(x)) : \n",
        "        return findCrossOver(arr, mid + 1, high, x) \n",
        "      \n",
        "    return findCrossOver(arr, low, mid - 1, x) \n",
        "  \n",
        "# This function prints k closest elements to x  \n",
        "# in arr[]. n is the number of elements in arr[]  \n",
        "def getIndexOfKclosest(arr, x, k, n) : \n",
        "    result = []\n",
        "    # Find the crossover point  \n",
        "    l = findCrossOver(arr, 0, n - 1, x) \n",
        "    r = l + 1 # Right index to search  \n",
        "    count = 0 # To keep track of count of  \n",
        "              # elements already printed  \n",
        "  \n",
        "    # If x is present in arr[], then reduce  \n",
        "    # left index. Assumption: all elements  \n",
        "    # in arr[] are distinct  \n",
        "    if (float(arr[l]) == float(x)) : \n",
        "        l -= 1\n",
        "  \n",
        "    # Compare elements on left and right of crossover  \n",
        "    # point to find the k closest elements  \n",
        "    while (l >= 0 and r < n and count < k) : \n",
        "          \n",
        "        if (float(x) - float(arr[l]) < float(arr[r]) - float(x)) : \n",
        "            result.append(l)\n",
        "            l -= 1\n",
        "        else : \n",
        "            result.append(r)\n",
        "            #print(arr[r], end = \" \")  \n",
        "            r += 1\n",
        "        count += 1\n",
        "  \n",
        "    # If there are no more elements on right  \n",
        "    # side, then print left elements  \n",
        "    while (count < k and l >= 0) : \n",
        "      #result.append(arr[l])\n",
        "      result.append(l)\n",
        "      l -= 1\n",
        "      count += 1\n",
        "  \n",
        "    # If there are no more elements on left  \n",
        "    # side, then print right elements  \n",
        "    while (count < k and r < n) :  \n",
        "        #result.append(arr[r]) \n",
        "        result.append(r)\n",
        "        r += 1\n",
        "        count += 1\n",
        "    \n",
        "    return result "
      ],
      "execution_count": 0,
      "outputs": []
    },
    {
      "cell_type": "code",
      "metadata": {
        "id": "YhspwQHxiQux",
        "colab_type": "code",
        "outputId": "8186c423-4a44-4eda-b38c-c13a14692ea6",
        "colab": {
          "base_uri": "https://localhost:8080/",
          "height": 34
        }
      },
      "source": [
        "arr =[0.01, 0.02, 0.05, 0.002, 0.7, 0.22] \n",
        "                  \n",
        "n = len(arr) \n",
        "x = 0.001\n",
        "k = 2\n",
        "      \n",
        "print(getIndexOfKclosest(arr, x, k, n))"
      ],
      "execution_count": 0,
      "outputs": [
        {
          "output_type": "stream",
          "text": [
            "[0, 1]\n"
          ],
          "name": "stdout"
        }
      ]
    },
    {
      "cell_type": "code",
      "metadata": {
        "id": "9LTY5aKcDb2W",
        "colab_type": "code",
        "outputId": "2ec9e7aa-0f47-46fd-89a6-0352aaaf38a9",
        "colab": {
          "base_uri": "https://localhost:8080/",
          "height": 34
        }
      },
      "source": [
        "print(0.999999999999999 == 1)"
      ],
      "execution_count": 0,
      "outputs": [
        {
          "output_type": "stream",
          "text": [
            "False\n"
          ],
          "name": "stdout"
        }
      ]
    },
    {
      "cell_type": "code",
      "metadata": {
        "id": "sb6WPzHmKFg4",
        "colab_type": "code",
        "outputId": "a42409ac-aad9-4743-d517-86580339e285",
        "colab": {
          "base_uri": "https://localhost:8080/",
          "height": 340
        }
      },
      "source": [
        "m = Sequential()\n",
        "m.add(Dense(128, activation='relu', input_shape=(71,1)))\n",
        "m.set_weights(model.layers[2].get_weights())"
      ],
      "execution_count": 0,
      "outputs": [
        {
          "output_type": "error",
          "ename": "ValueError",
          "evalue": "ignored",
          "traceback": [
            "\u001b[0;31m---------------------------------------------------------------------------\u001b[0m",
            "\u001b[0;31mValueError\u001b[0m                                Traceback (most recent call last)",
            "\u001b[0;32m<ipython-input-29-714448c9196f>\u001b[0m in \u001b[0;36m<module>\u001b[0;34m()\u001b[0m\n\u001b[1;32m      1\u001b[0m \u001b[0mm\u001b[0m \u001b[0;34m=\u001b[0m \u001b[0mSequential\u001b[0m\u001b[0;34m(\u001b[0m\u001b[0;34m)\u001b[0m\u001b[0;34m\u001b[0m\u001b[0;34m\u001b[0m\u001b[0m\n\u001b[1;32m      2\u001b[0m \u001b[0mm\u001b[0m\u001b[0;34m.\u001b[0m\u001b[0madd\u001b[0m\u001b[0;34m(\u001b[0m\u001b[0mDense\u001b[0m\u001b[0;34m(\u001b[0m\u001b[0;36m128\u001b[0m\u001b[0;34m,\u001b[0m \u001b[0mactivation\u001b[0m\u001b[0;34m=\u001b[0m\u001b[0;34m'relu'\u001b[0m\u001b[0;34m,\u001b[0m \u001b[0minput_shape\u001b[0m\u001b[0;34m=\u001b[0m\u001b[0;34m(\u001b[0m\u001b[0;36m71\u001b[0m\u001b[0;34m,\u001b[0m\u001b[0;36m1\u001b[0m\u001b[0;34m)\u001b[0m\u001b[0;34m)\u001b[0m\u001b[0;34m)\u001b[0m\u001b[0;34m\u001b[0m\u001b[0;34m\u001b[0m\u001b[0m\n\u001b[0;32m----> 3\u001b[0;31m \u001b[0mm\u001b[0m\u001b[0;34m.\u001b[0m\u001b[0mset_weights\u001b[0m\u001b[0;34m(\u001b[0m\u001b[0mmodel\u001b[0m\u001b[0;34m.\u001b[0m\u001b[0mlayers\u001b[0m\u001b[0;34m[\u001b[0m\u001b[0;36m2\u001b[0m\u001b[0;34m]\u001b[0m\u001b[0;34m.\u001b[0m\u001b[0mget_weights\u001b[0m\u001b[0;34m(\u001b[0m\u001b[0;34m)\u001b[0m\u001b[0;34m)\u001b[0m\u001b[0;34m\u001b[0m\u001b[0;34m\u001b[0m\u001b[0m\n\u001b[0m",
            "\u001b[0;32m/usr/local/lib/python3.6/dist-packages/keras/engine/network.py\u001b[0m in \u001b[0;36mset_weights\u001b[0;34m(self, weights)\u001b[0m\n\u001b[1;32m    525\u001b[0m                 \u001b[0mtuples\u001b[0m\u001b[0;34m.\u001b[0m\u001b[0mappend\u001b[0m\u001b[0;34m(\u001b[0m\u001b[0;34m(\u001b[0m\u001b[0msw\u001b[0m\u001b[0;34m,\u001b[0m \u001b[0mw\u001b[0m\u001b[0;34m)\u001b[0m\u001b[0;34m)\u001b[0m\u001b[0;34m\u001b[0m\u001b[0;34m\u001b[0m\u001b[0m\n\u001b[1;32m    526\u001b[0m             \u001b[0mweights\u001b[0m \u001b[0;34m=\u001b[0m \u001b[0mweights\u001b[0m\u001b[0;34m[\u001b[0m\u001b[0mnum_param\u001b[0m\u001b[0;34m:\u001b[0m\u001b[0;34m]\u001b[0m\u001b[0;34m\u001b[0m\u001b[0;34m\u001b[0m\u001b[0m\n\u001b[0;32m--> 527\u001b[0;31m         \u001b[0mK\u001b[0m\u001b[0;34m.\u001b[0m\u001b[0mbatch_set_value\u001b[0m\u001b[0;34m(\u001b[0m\u001b[0mtuples\u001b[0m\u001b[0;34m)\u001b[0m\u001b[0;34m\u001b[0m\u001b[0;34m\u001b[0m\u001b[0m\n\u001b[0m\u001b[1;32m    528\u001b[0m \u001b[0;34m\u001b[0m\u001b[0m\n\u001b[1;32m    529\u001b[0m     \u001b[0;34m@\u001b[0m\u001b[0mproperty\u001b[0m\u001b[0;34m\u001b[0m\u001b[0;34m\u001b[0m\u001b[0m\n",
            "\u001b[0;32m/usr/local/lib/python3.6/dist-packages/keras/backend/tensorflow_backend.py\u001b[0m in \u001b[0;36mbatch_set_value\u001b[0;34m(tuples)\u001b[0m\n\u001b[1;32m   2958\u001b[0m             \u001b[0;31m`\u001b[0m\u001b[0mvalue\u001b[0m\u001b[0;31m`\u001b[0m \u001b[0mshould\u001b[0m \u001b[0mbe\u001b[0m \u001b[0ma\u001b[0m \u001b[0mNumpy\u001b[0m \u001b[0marray\u001b[0m\u001b[0;34m.\u001b[0m\u001b[0;34m\u001b[0m\u001b[0;34m\u001b[0m\u001b[0m\n\u001b[1;32m   2959\u001b[0m     \"\"\"\n\u001b[0;32m-> 2960\u001b[0;31m     \u001b[0mtf_keras_backend\u001b[0m\u001b[0;34m.\u001b[0m\u001b[0mbatch_set_value\u001b[0m\u001b[0;34m(\u001b[0m\u001b[0mtuples\u001b[0m\u001b[0;34m)\u001b[0m\u001b[0;34m\u001b[0m\u001b[0;34m\u001b[0m\u001b[0m\n\u001b[0m\u001b[1;32m   2961\u001b[0m \u001b[0;34m\u001b[0m\u001b[0m\n\u001b[1;32m   2962\u001b[0m \u001b[0;34m\u001b[0m\u001b[0m\n",
            "\u001b[0;32m/usr/local/lib/python3.6/dist-packages/tensorflow/python/keras/backend.py\u001b[0m in \u001b[0;36mbatch_set_value\u001b[0;34m(tuples)\u001b[0m\n\u001b[1;32m   3382\u001b[0m   \u001b[0;32mif\u001b[0m \u001b[0mops\u001b[0m\u001b[0;34m.\u001b[0m\u001b[0mexecuting_eagerly_outside_functions\u001b[0m\u001b[0;34m(\u001b[0m\u001b[0;34m)\u001b[0m\u001b[0;34m:\u001b[0m\u001b[0;34m\u001b[0m\u001b[0;34m\u001b[0m\u001b[0m\n\u001b[1;32m   3383\u001b[0m     \u001b[0;32mfor\u001b[0m \u001b[0mx\u001b[0m\u001b[0;34m,\u001b[0m \u001b[0mvalue\u001b[0m \u001b[0;32min\u001b[0m \u001b[0mtuples\u001b[0m\u001b[0;34m:\u001b[0m\u001b[0;34m\u001b[0m\u001b[0;34m\u001b[0m\u001b[0m\n\u001b[0;32m-> 3384\u001b[0;31m       \u001b[0mx\u001b[0m\u001b[0;34m.\u001b[0m\u001b[0massign\u001b[0m\u001b[0;34m(\u001b[0m\u001b[0mnp\u001b[0m\u001b[0;34m.\u001b[0m\u001b[0masarray\u001b[0m\u001b[0;34m(\u001b[0m\u001b[0mvalue\u001b[0m\u001b[0;34m,\u001b[0m \u001b[0mdtype\u001b[0m\u001b[0;34m=\u001b[0m\u001b[0mdtype\u001b[0m\u001b[0;34m(\u001b[0m\u001b[0mx\u001b[0m\u001b[0;34m)\u001b[0m\u001b[0;34m)\u001b[0m\u001b[0;34m)\u001b[0m\u001b[0;34m\u001b[0m\u001b[0;34m\u001b[0m\u001b[0m\n\u001b[0m\u001b[1;32m   3385\u001b[0m   \u001b[0;32melse\u001b[0m\u001b[0;34m:\u001b[0m\u001b[0;34m\u001b[0m\u001b[0;34m\u001b[0m\u001b[0m\n\u001b[1;32m   3386\u001b[0m     \u001b[0;32mwith\u001b[0m \u001b[0mget_graph\u001b[0m\u001b[0;34m(\u001b[0m\u001b[0;34m)\u001b[0m\u001b[0;34m.\u001b[0m\u001b[0mas_default\u001b[0m\u001b[0;34m(\u001b[0m\u001b[0;34m)\u001b[0m\u001b[0;34m:\u001b[0m\u001b[0;34m\u001b[0m\u001b[0;34m\u001b[0m\u001b[0m\n",
            "\u001b[0;32m/usr/local/lib/python3.6/dist-packages/tensorflow/python/ops/resource_variable_ops.py\u001b[0m in \u001b[0;36massign\u001b[0;34m(self, value, use_locking, name, read_value)\u001b[0m\n\u001b[1;32m    844\u001b[0m     \u001b[0;32mwith\u001b[0m \u001b[0m_handle_graph\u001b[0m\u001b[0;34m(\u001b[0m\u001b[0mself\u001b[0m\u001b[0;34m.\u001b[0m\u001b[0mhandle\u001b[0m\u001b[0;34m)\u001b[0m\u001b[0;34m:\u001b[0m\u001b[0;34m\u001b[0m\u001b[0;34m\u001b[0m\u001b[0m\n\u001b[1;32m    845\u001b[0m       \u001b[0mvalue_tensor\u001b[0m \u001b[0;34m=\u001b[0m \u001b[0mops\u001b[0m\u001b[0;34m.\u001b[0m\u001b[0mconvert_to_tensor\u001b[0m\u001b[0;34m(\u001b[0m\u001b[0mvalue\u001b[0m\u001b[0;34m,\u001b[0m \u001b[0mdtype\u001b[0m\u001b[0;34m=\u001b[0m\u001b[0mself\u001b[0m\u001b[0;34m.\u001b[0m\u001b[0mdtype\u001b[0m\u001b[0;34m)\u001b[0m\u001b[0;34m\u001b[0m\u001b[0;34m\u001b[0m\u001b[0m\n\u001b[0;32m--> 846\u001b[0;31m       \u001b[0mself\u001b[0m\u001b[0;34m.\u001b[0m\u001b[0m_shape\u001b[0m\u001b[0;34m.\u001b[0m\u001b[0massert_is_compatible_with\u001b[0m\u001b[0;34m(\u001b[0m\u001b[0mvalue_tensor\u001b[0m\u001b[0;34m.\u001b[0m\u001b[0mshape\u001b[0m\u001b[0;34m)\u001b[0m\u001b[0;34m\u001b[0m\u001b[0;34m\u001b[0m\u001b[0m\n\u001b[0m\u001b[1;32m    847\u001b[0m       assign_op = gen_resource_variable_ops.assign_variable_op(\n\u001b[1;32m    848\u001b[0m           self.handle, value_tensor, name=name)\n",
            "\u001b[0;32m/usr/local/lib/python3.6/dist-packages/tensorflow/python/framework/tensor_shape.py\u001b[0m in \u001b[0;36massert_is_compatible_with\u001b[0;34m(self, other)\u001b[0m\n\u001b[1;32m   1115\u001b[0m     \"\"\"\n\u001b[1;32m   1116\u001b[0m     \u001b[0;32mif\u001b[0m \u001b[0;32mnot\u001b[0m \u001b[0mself\u001b[0m\u001b[0;34m.\u001b[0m\u001b[0mis_compatible_with\u001b[0m\u001b[0;34m(\u001b[0m\u001b[0mother\u001b[0m\u001b[0;34m)\u001b[0m\u001b[0;34m:\u001b[0m\u001b[0;34m\u001b[0m\u001b[0;34m\u001b[0m\u001b[0m\n\u001b[0;32m-> 1117\u001b[0;31m       \u001b[0;32mraise\u001b[0m \u001b[0mValueError\u001b[0m\u001b[0;34m(\u001b[0m\u001b[0;34m\"Shapes %s and %s are incompatible\"\u001b[0m \u001b[0;34m%\u001b[0m \u001b[0;34m(\u001b[0m\u001b[0mself\u001b[0m\u001b[0;34m,\u001b[0m \u001b[0mother\u001b[0m\u001b[0;34m)\u001b[0m\u001b[0;34m)\u001b[0m\u001b[0;34m\u001b[0m\u001b[0;34m\u001b[0m\u001b[0m\n\u001b[0m\u001b[1;32m   1118\u001b[0m \u001b[0;34m\u001b[0m\u001b[0m\n\u001b[1;32m   1119\u001b[0m   \u001b[0;32mdef\u001b[0m \u001b[0mmost_specific_compatible_shape\u001b[0m\u001b[0;34m(\u001b[0m\u001b[0mself\u001b[0m\u001b[0;34m,\u001b[0m \u001b[0mother\u001b[0m\u001b[0;34m)\u001b[0m\u001b[0;34m:\u001b[0m\u001b[0;34m\u001b[0m\u001b[0;34m\u001b[0m\u001b[0m\n",
            "\u001b[0;31mValueError\u001b[0m: Shapes (1, 128) and (1, 256) are incompatible"
          ]
        }
      ]
    },
    {
      "cell_type": "code",
      "metadata": {
        "id": "Gxgk_GfB5lQ7",
        "colab_type": "code",
        "outputId": "45c5e5eb-bc63-4525-92a4-ee810c44a44c",
        "colab": {
          "base_uri": "https://localhost:8080/",
          "height": 425
        }
      },
      "source": [
        "\n",
        "  #print(data.shape)\n",
        "indices = np.arange(data.shape[0]) # Splits the data into a training set and a \n",
        "                                   # validation set, but first shuffles the data,\n",
        "                                   # because you're deadling with data in which samples\n",
        "                                   # are ordered (all negative first, then all positive)\n",
        "np.random.shuffle(indices)\n",
        "data = data[indices]\n",
        "labels = labels[indices]\n",
        "training_data = data[0:15000]\n",
        "print(training_data.shape)\n",
        "training_labels = labels[0:15000]\n",
        "print(training_labels.shape)\n",
        "validation_data = data[15000:]\n",
        "validation_labels = labels[15000:]\n",
        "\n",
        "# network definition\n",
        "input_shape = training_data.shape[2:]\n",
        "print(input_shape)\n",
        "base_network = create_base_network(input_shape)\n",
        "\n",
        "input_a = Input(shape=input_shape)\n",
        "input_b = Input(shape=input_shape)\n",
        "\n",
        "processed_a = base_network(input_a)\n",
        "processed_b = base_network(input_b)\n",
        "\n",
        "distance = Lambda(cosine_distance, output_shape=cos_dist_output_shape)([processed_a, processed_b])\n",
        "\n",
        "model = Model([input_a, input_b], distance)\n",
        "\n",
        "  #train\n",
        "rms = RMSprop()\n",
        "\n",
        "model.compile(loss=contrastive_loss, optimizer=rms, metrics=['acc'])\n",
        "# define the checkpoint\n",
        "filepath=\"weights-improvement-{epoch:02d}-{loss:.4f}.hdf5\"\n",
        "checkpoint = ModelCheckpoint(filepath, monitor='loss', verbose=1, save_best_only=True, mode='min')\n",
        "callbacks_list = [checkpoint]\n",
        "\n",
        "history = model.fit([training_data[:,0], training_data[:,1]], training_labels[:,0],\n",
        "                    batch_size=128,\n",
        "                    epochs=20,\n",
        "                    validation_data=([validation_data[:,0], validation_data[:,1]], validation_labels[:,0]),\n",
        "                    callbacks_list=callbacks_list)\n",
        "\n",
        "import matplotlib.pyplot as plt\n",
        "\n",
        "acc = history.history['acc']\n",
        "val_acc = history.history['val_acc']\n",
        "loss = history.history['loss']\n",
        "val_loss = history.history['val_loss']\n",
        "\n",
        "epochs = range(1, len(acc) + 1)\n",
        "\n",
        "plt.plot(epochs, acc, 'bo', label='Training acc')\n",
        "plt.plot(epochs, val_acc, 'b', label = 'Validation acc')\n",
        "plt.title('Training and validation accuraccy')\n",
        "plt.legend()\n",
        "plt.figure()\n",
        "plt.plot(epochs, loss, 'bo', label='Training loss')\n",
        "plt.plot(epochs, val_loss, 'b', label='Validation loss')\n",
        "plt.title('Training and validation loss')\n",
        "plt.legend()\n",
        "plt.show()\n",
        "  \n",
        "\n",
        "\n",
        "#if __name__ == \"__main__\":\n",
        "#  main()"
      ],
      "execution_count": 0,
      "outputs": [
        {
          "output_type": "stream",
          "text": [
            "(15000, 2, 71, 1, 1)\n",
            "(15000, 2)\n",
            "(71, 1, 1)\n"
          ],
          "name": "stdout"
        },
        {
          "output_type": "error",
          "ename": "ValueError",
          "evalue": "ignored",
          "traceback": [
            "\u001b[0;31m---------------------------------------------------------------------------\u001b[0m",
            "\u001b[0;31mValueError\u001b[0m                                Traceback (most recent call last)",
            "\u001b[0;32m<ipython-input-19-359e69bf4941>\u001b[0m in \u001b[0;36m<module>\u001b[0;34m()\u001b[0m\n\u001b[1;32m     23\u001b[0m \u001b[0minput_b\u001b[0m \u001b[0;34m=\u001b[0m \u001b[0mInput\u001b[0m\u001b[0;34m(\u001b[0m\u001b[0mshape\u001b[0m\u001b[0;34m=\u001b[0m\u001b[0minput_shape\u001b[0m\u001b[0;34m)\u001b[0m\u001b[0;34m\u001b[0m\u001b[0;34m\u001b[0m\u001b[0m\n\u001b[1;32m     24\u001b[0m \u001b[0;34m\u001b[0m\u001b[0m\n\u001b[0;32m---> 25\u001b[0;31m \u001b[0mprocessed_a\u001b[0m \u001b[0;34m=\u001b[0m \u001b[0mbase_network\u001b[0m\u001b[0;34m(\u001b[0m\u001b[0minput_a\u001b[0m\u001b[0;34m)\u001b[0m\u001b[0;34m\u001b[0m\u001b[0;34m\u001b[0m\u001b[0m\n\u001b[0m\u001b[1;32m     26\u001b[0m \u001b[0mprocessed_b\u001b[0m \u001b[0;34m=\u001b[0m \u001b[0mbase_network\u001b[0m\u001b[0;34m(\u001b[0m\u001b[0minput_b\u001b[0m\u001b[0;34m)\u001b[0m\u001b[0;34m\u001b[0m\u001b[0;34m\u001b[0m\u001b[0m\n\u001b[1;32m     27\u001b[0m \u001b[0;34m\u001b[0m\u001b[0m\n",
            "\u001b[0;32m/usr/local/lib/python3.6/dist-packages/keras/backend/tensorflow_backend.py\u001b[0m in \u001b[0;36msymbolic_fn_wrapper\u001b[0;34m(*args, **kwargs)\u001b[0m\n\u001b[1;32m     73\u001b[0m         \u001b[0;32mif\u001b[0m \u001b[0m_SYMBOLIC_SCOPE\u001b[0m\u001b[0;34m.\u001b[0m\u001b[0mvalue\u001b[0m\u001b[0;34m:\u001b[0m\u001b[0;34m\u001b[0m\u001b[0;34m\u001b[0m\u001b[0m\n\u001b[1;32m     74\u001b[0m             \u001b[0;32mwith\u001b[0m \u001b[0mget_graph\u001b[0m\u001b[0;34m(\u001b[0m\u001b[0;34m)\u001b[0m\u001b[0;34m.\u001b[0m\u001b[0mas_default\u001b[0m\u001b[0;34m(\u001b[0m\u001b[0;34m)\u001b[0m\u001b[0;34m:\u001b[0m\u001b[0;34m\u001b[0m\u001b[0;34m\u001b[0m\u001b[0m\n\u001b[0;32m---> 75\u001b[0;31m                 \u001b[0;32mreturn\u001b[0m \u001b[0mfunc\u001b[0m\u001b[0;34m(\u001b[0m\u001b[0;34m*\u001b[0m\u001b[0margs\u001b[0m\u001b[0;34m,\u001b[0m \u001b[0;34m**\u001b[0m\u001b[0mkwargs\u001b[0m\u001b[0;34m)\u001b[0m\u001b[0;34m\u001b[0m\u001b[0;34m\u001b[0m\u001b[0m\n\u001b[0m\u001b[1;32m     76\u001b[0m         \u001b[0;32melse\u001b[0m\u001b[0;34m:\u001b[0m\u001b[0;34m\u001b[0m\u001b[0;34m\u001b[0m\u001b[0m\n\u001b[1;32m     77\u001b[0m             \u001b[0;32mreturn\u001b[0m \u001b[0mfunc\u001b[0m\u001b[0;34m(\u001b[0m\u001b[0;34m*\u001b[0m\u001b[0margs\u001b[0m\u001b[0;34m,\u001b[0m \u001b[0;34m**\u001b[0m\u001b[0mkwargs\u001b[0m\u001b[0;34m)\u001b[0m\u001b[0;34m\u001b[0m\u001b[0;34m\u001b[0m\u001b[0m\n",
            "\u001b[0;32m/usr/local/lib/python3.6/dist-packages/keras/engine/base_layer.py\u001b[0m in \u001b[0;36m__call__\u001b[0;34m(self, inputs, **kwargs)\u001b[0m\n\u001b[1;32m    461\u001b[0m                                          \u001b[0;34m'You can build it manually via: '\u001b[0m\u001b[0;34m\u001b[0m\u001b[0;34m\u001b[0m\u001b[0m\n\u001b[1;32m    462\u001b[0m                                          '`layer.build(batch_input_shape)`')\n\u001b[0;32m--> 463\u001b[0;31m                 \u001b[0mself\u001b[0m\u001b[0;34m.\u001b[0m\u001b[0mbuild\u001b[0m\u001b[0;34m(\u001b[0m\u001b[0munpack_singleton\u001b[0m\u001b[0;34m(\u001b[0m\u001b[0minput_shapes\u001b[0m\u001b[0;34m)\u001b[0m\u001b[0;34m)\u001b[0m\u001b[0;34m\u001b[0m\u001b[0;34m\u001b[0m\u001b[0m\n\u001b[0m\u001b[1;32m    464\u001b[0m                 \u001b[0mself\u001b[0m\u001b[0;34m.\u001b[0m\u001b[0mbuilt\u001b[0m \u001b[0;34m=\u001b[0m \u001b[0;32mTrue\u001b[0m\u001b[0;34m\u001b[0m\u001b[0;34m\u001b[0m\u001b[0m\n\u001b[1;32m    465\u001b[0m \u001b[0;34m\u001b[0m\u001b[0m\n",
            "\u001b[0;32m/usr/local/lib/python3.6/dist-packages/keras/engine/sequential.py\u001b[0m in \u001b[0;36mbuild\u001b[0;34m(self, input_shape)\u001b[0m\n\u001b[1;32m    220\u001b[0m             \u001b[0mself\u001b[0m\u001b[0;34m.\u001b[0m\u001b[0minputs\u001b[0m \u001b[0;34m=\u001b[0m \u001b[0;34m[\u001b[0m\u001b[0mx\u001b[0m\u001b[0;34m]\u001b[0m\u001b[0;34m\u001b[0m\u001b[0;34m\u001b[0m\u001b[0m\n\u001b[1;32m    221\u001b[0m             \u001b[0;32mfor\u001b[0m \u001b[0mlayer\u001b[0m \u001b[0;32min\u001b[0m \u001b[0mself\u001b[0m\u001b[0;34m.\u001b[0m\u001b[0m_layers\u001b[0m\u001b[0;34m:\u001b[0m\u001b[0;34m\u001b[0m\u001b[0;34m\u001b[0m\u001b[0m\n\u001b[0;32m--> 222\u001b[0;31m                 \u001b[0mx\u001b[0m \u001b[0;34m=\u001b[0m \u001b[0mlayer\u001b[0m\u001b[0;34m(\u001b[0m\u001b[0mx\u001b[0m\u001b[0;34m)\u001b[0m\u001b[0;34m\u001b[0m\u001b[0;34m\u001b[0m\u001b[0m\n\u001b[0m\u001b[1;32m    223\u001b[0m             \u001b[0mself\u001b[0m\u001b[0;34m.\u001b[0m\u001b[0moutputs\u001b[0m \u001b[0;34m=\u001b[0m \u001b[0;34m[\u001b[0m\u001b[0mx\u001b[0m\u001b[0;34m]\u001b[0m\u001b[0;34m\u001b[0m\u001b[0;34m\u001b[0m\u001b[0m\n\u001b[1;32m    224\u001b[0m             \u001b[0mself\u001b[0m\u001b[0;34m.\u001b[0m\u001b[0m_build_input_shape\u001b[0m \u001b[0;34m=\u001b[0m \u001b[0minput_shape\u001b[0m\u001b[0;34m\u001b[0m\u001b[0;34m\u001b[0m\u001b[0m\n",
            "\u001b[0;32m/usr/local/lib/python3.6/dist-packages/keras/layers/wrappers.py\u001b[0m in \u001b[0;36m__call__\u001b[0;34m(self, inputs, initial_state, constants, **kwargs)\u001b[0m\n\u001b[1;32m    435\u001b[0m \u001b[0;34m\u001b[0m\u001b[0m\n\u001b[1;32m    436\u001b[0m         \u001b[0;32mif\u001b[0m \u001b[0minitial_state\u001b[0m \u001b[0;32mis\u001b[0m \u001b[0;32mNone\u001b[0m \u001b[0;32mand\u001b[0m \u001b[0mconstants\u001b[0m \u001b[0;32mis\u001b[0m \u001b[0;32mNone\u001b[0m\u001b[0;34m:\u001b[0m\u001b[0;34m\u001b[0m\u001b[0;34m\u001b[0m\u001b[0m\n\u001b[0;32m--> 437\u001b[0;31m             \u001b[0;32mreturn\u001b[0m \u001b[0msuper\u001b[0m\u001b[0;34m(\u001b[0m\u001b[0mBidirectional\u001b[0m\u001b[0;34m,\u001b[0m \u001b[0mself\u001b[0m\u001b[0;34m)\u001b[0m\u001b[0;34m.\u001b[0m\u001b[0m__call__\u001b[0m\u001b[0;34m(\u001b[0m\u001b[0minputs\u001b[0m\u001b[0;34m,\u001b[0m \u001b[0;34m**\u001b[0m\u001b[0mkwargs\u001b[0m\u001b[0;34m)\u001b[0m\u001b[0;34m\u001b[0m\u001b[0;34m\u001b[0m\u001b[0m\n\u001b[0m\u001b[1;32m    438\u001b[0m \u001b[0;34m\u001b[0m\u001b[0m\n\u001b[1;32m    439\u001b[0m         \u001b[0;31m# Applies the same workaround as in `RNN.__call__`\u001b[0m\u001b[0;34m\u001b[0m\u001b[0;34m\u001b[0m\u001b[0;34m\u001b[0m\u001b[0m\n",
            "\u001b[0;32m/usr/local/lib/python3.6/dist-packages/keras/backend/tensorflow_backend.py\u001b[0m in \u001b[0;36msymbolic_fn_wrapper\u001b[0;34m(*args, **kwargs)\u001b[0m\n\u001b[1;32m     73\u001b[0m         \u001b[0;32mif\u001b[0m \u001b[0m_SYMBOLIC_SCOPE\u001b[0m\u001b[0;34m.\u001b[0m\u001b[0mvalue\u001b[0m\u001b[0;34m:\u001b[0m\u001b[0;34m\u001b[0m\u001b[0;34m\u001b[0m\u001b[0m\n\u001b[1;32m     74\u001b[0m             \u001b[0;32mwith\u001b[0m \u001b[0mget_graph\u001b[0m\u001b[0;34m(\u001b[0m\u001b[0;34m)\u001b[0m\u001b[0;34m.\u001b[0m\u001b[0mas_default\u001b[0m\u001b[0;34m(\u001b[0m\u001b[0;34m)\u001b[0m\u001b[0;34m:\u001b[0m\u001b[0;34m\u001b[0m\u001b[0;34m\u001b[0m\u001b[0m\n\u001b[0;32m---> 75\u001b[0;31m                 \u001b[0;32mreturn\u001b[0m \u001b[0mfunc\u001b[0m\u001b[0;34m(\u001b[0m\u001b[0;34m*\u001b[0m\u001b[0margs\u001b[0m\u001b[0;34m,\u001b[0m \u001b[0;34m**\u001b[0m\u001b[0mkwargs\u001b[0m\u001b[0;34m)\u001b[0m\u001b[0;34m\u001b[0m\u001b[0;34m\u001b[0m\u001b[0m\n\u001b[0m\u001b[1;32m     76\u001b[0m         \u001b[0;32melse\u001b[0m\u001b[0;34m:\u001b[0m\u001b[0;34m\u001b[0m\u001b[0;34m\u001b[0m\u001b[0m\n\u001b[1;32m     77\u001b[0m             \u001b[0;32mreturn\u001b[0m \u001b[0mfunc\u001b[0m\u001b[0;34m(\u001b[0m\u001b[0;34m*\u001b[0m\u001b[0margs\u001b[0m\u001b[0;34m,\u001b[0m \u001b[0;34m**\u001b[0m\u001b[0mkwargs\u001b[0m\u001b[0;34m)\u001b[0m\u001b[0;34m\u001b[0m\u001b[0;34m\u001b[0m\u001b[0m\n",
            "\u001b[0;32m/usr/local/lib/python3.6/dist-packages/keras/engine/base_layer.py\u001b[0m in \u001b[0;36m__call__\u001b[0;34m(self, inputs, **kwargs)\u001b[0m\n\u001b[1;32m    444\u001b[0m                 \u001b[0;31m# Raise exceptions in case the input is not compatible\u001b[0m\u001b[0;34m\u001b[0m\u001b[0;34m\u001b[0m\u001b[0;34m\u001b[0m\u001b[0m\n\u001b[1;32m    445\u001b[0m                 \u001b[0;31m# with the input_spec specified in the layer constructor.\u001b[0m\u001b[0;34m\u001b[0m\u001b[0;34m\u001b[0m\u001b[0;34m\u001b[0m\u001b[0m\n\u001b[0;32m--> 446\u001b[0;31m                 \u001b[0mself\u001b[0m\u001b[0;34m.\u001b[0m\u001b[0massert_input_compatibility\u001b[0m\u001b[0;34m(\u001b[0m\u001b[0minputs\u001b[0m\u001b[0;34m)\u001b[0m\u001b[0;34m\u001b[0m\u001b[0;34m\u001b[0m\u001b[0m\n\u001b[0m\u001b[1;32m    447\u001b[0m \u001b[0;34m\u001b[0m\u001b[0m\n\u001b[1;32m    448\u001b[0m                 \u001b[0;31m# Collect input shapes to build layer.\u001b[0m\u001b[0;34m\u001b[0m\u001b[0;34m\u001b[0m\u001b[0;34m\u001b[0m\u001b[0m\n",
            "\u001b[0;32m/usr/local/lib/python3.6/dist-packages/keras/engine/base_layer.py\u001b[0m in \u001b[0;36massert_input_compatibility\u001b[0;34m(self, inputs)\u001b[0m\n\u001b[1;32m    340\u001b[0m                                      \u001b[0mself\u001b[0m\u001b[0;34m.\u001b[0m\u001b[0mname\u001b[0m \u001b[0;34m+\u001b[0m \u001b[0;34m': expected ndim='\u001b[0m \u001b[0;34m+\u001b[0m\u001b[0;34m\u001b[0m\u001b[0;34m\u001b[0m\u001b[0m\n\u001b[1;32m    341\u001b[0m                                      \u001b[0mstr\u001b[0m\u001b[0;34m(\u001b[0m\u001b[0mspec\u001b[0m\u001b[0;34m.\u001b[0m\u001b[0mndim\u001b[0m\u001b[0;34m)\u001b[0m \u001b[0;34m+\u001b[0m \u001b[0;34m', found ndim='\u001b[0m \u001b[0;34m+\u001b[0m\u001b[0;34m\u001b[0m\u001b[0;34m\u001b[0m\u001b[0m\n\u001b[0;32m--> 342\u001b[0;31m                                      str(K.ndim(x)))\n\u001b[0m\u001b[1;32m    343\u001b[0m             \u001b[0;32mif\u001b[0m \u001b[0mspec\u001b[0m\u001b[0;34m.\u001b[0m\u001b[0mmax_ndim\u001b[0m \u001b[0;32mis\u001b[0m \u001b[0;32mnot\u001b[0m \u001b[0;32mNone\u001b[0m\u001b[0;34m:\u001b[0m\u001b[0;34m\u001b[0m\u001b[0;34m\u001b[0m\u001b[0m\n\u001b[1;32m    344\u001b[0m                 \u001b[0mndim\u001b[0m \u001b[0;34m=\u001b[0m \u001b[0mK\u001b[0m\u001b[0;34m.\u001b[0m\u001b[0mndim\u001b[0m\u001b[0;34m(\u001b[0m\u001b[0mx\u001b[0m\u001b[0;34m)\u001b[0m\u001b[0;34m\u001b[0m\u001b[0;34m\u001b[0m\u001b[0m\n",
            "\u001b[0;31mValueError\u001b[0m: Input 0 is incompatible with layer bidirectional_9: expected ndim=3, found ndim=4"
          ]
        }
      ]
    },
    {
      "cell_type": "code",
      "metadata": {
        "id": "9byvg09_DyK1",
        "colab_type": "code",
        "outputId": "1ba4752a-d55c-49b1-b061-3a42f6473899",
        "colab": {
          "base_uri": "https://localhost:8080/",
          "height": 163
        }
      },
      "source": [
        "y_pred = model.predict([training_data[:, 0], training_data[:, 1]], batch_size=1)"
      ],
      "execution_count": 0,
      "outputs": [
        {
          "output_type": "error",
          "ename": "NameError",
          "evalue": "ignored",
          "traceback": [
            "\u001b[0;31m---------------------------------------------------------------------------\u001b[0m",
            "\u001b[0;31mNameError\u001b[0m                                 Traceback (most recent call last)",
            "\u001b[0;32m<ipython-input-1-bb29bbaff54d>\u001b[0m in \u001b[0;36m<module>\u001b[0;34m()\u001b[0m\n\u001b[0;32m----> 1\u001b[0;31m \u001b[0my_pred\u001b[0m \u001b[0;34m=\u001b[0m \u001b[0mmodel\u001b[0m\u001b[0;34m.\u001b[0m\u001b[0mpredict\u001b[0m\u001b[0;34m(\u001b[0m\u001b[0;34m[\u001b[0m\u001b[0mtraining_data\u001b[0m\u001b[0;34m[\u001b[0m\u001b[0;34m:\u001b[0m\u001b[0;34m,\u001b[0m \u001b[0;36m0\u001b[0m\u001b[0;34m]\u001b[0m\u001b[0;34m,\u001b[0m \u001b[0mtraining_data\u001b[0m\u001b[0;34m[\u001b[0m\u001b[0;34m:\u001b[0m\u001b[0;34m,\u001b[0m \u001b[0;36m1\u001b[0m\u001b[0;34m]\u001b[0m\u001b[0;34m]\u001b[0m\u001b[0;34m,\u001b[0m \u001b[0mbatch_size\u001b[0m\u001b[0;34m=\u001b[0m\u001b[0;36m1\u001b[0m\u001b[0;34m)\u001b[0m\u001b[0;34m\u001b[0m\u001b[0;34m\u001b[0m\u001b[0m\n\u001b[0m",
            "\u001b[0;31mNameError\u001b[0m: name 'model' is not defined"
          ]
        }
      ]
    },
    {
      "cell_type": "code",
      "metadata": {
        "id": "fGn_JtsZSkzV",
        "colab_type": "code",
        "outputId": "123041b5-4f33-444d-ead4-043035b691f5",
        "colab": {
          "base_uri": "https://localhost:8080/",
          "height": 85
        }
      },
      "source": [
        "print(y_pred[0:20])"
      ],
      "execution_count": 0,
      "outputs": [
        {
          "output_type": "stream",
          "text": [
            "[1.0000000e+00 1.0000000e+00 7.8428471e-01 1.0000000e+00 4.4756687e-01\n",
            " 2.0265579e-06 2.7307433e-01 8.9411157e-01 5.9604645e-08 9.6646893e-01\n",
            " 1.0000000e+00 1.0000000e+00 1.8204451e-03 1.0000000e+00 5.3942204e-05\n",
            " 8.0746412e-03 3.2198429e-04 9.6096611e-01 3.8743019e-05 9.9839902e-01]\n"
          ],
          "name": "stdout"
        }
      ]
    },
    {
      "cell_type": "code",
      "metadata": {
        "id": "pgT7JHfY6zrp",
        "colab_type": "code",
        "colab": {}
      },
      "source": [
        "pred = np.empty((0,2), dtype=float)\n",
        "index = 0\n",
        "for i in y_pred:\n",
        "  pred = np.append(pred,[['%.08f' %i, labels[index][1]]], axis=0)\n",
        "  index += 1"
      ],
      "execution_count": 0,
      "outputs": []
    },
    {
      "cell_type": "code",
      "metadata": {
        "id": "-duNOhUK61mY",
        "colab_type": "code",
        "outputId": "3137c9c1-15ff-492d-a66b-6e4ea3eb210d",
        "colab": {
          "base_uri": "https://localhost:8080/",
          "height": 357
        }
      },
      "source": [
        "print(pred[0:20])"
      ],
      "execution_count": 0,
      "outputs": [
        {
          "output_type": "stream",
          "text": [
            "[['1.00000000' '0.0']\n",
            " ['0.17268920' '0.0']\n",
            " ['1.00000000' '0.0']\n",
            " ['0.99957287' '1.0']\n",
            " ['1.00000000' '1.0']\n",
            " ['1.00000000' '0.0']\n",
            " ['1.00000000' '1.0']\n",
            " ['1.00000000' '0.0']\n",
            " ['1.00000000' '0.0']\n",
            " ['1.00000000' '1.0']\n",
            " ['1.00000000' '0.0']\n",
            " ['1.00000000' '1.0']\n",
            " ['1.00000000' '0.0']\n",
            " ['1.00000000' '0.0']\n",
            " ['1.00000000' '1.0']\n",
            " ['1.00000000' '0.0']\n",
            " ['1.00000000' '1.0']\n",
            " ['0.00488019' '1.0']\n",
            " ['1.00000000' '0.0']\n",
            " ['1.00000000' '1.0']]\n"
          ],
          "name": "stdout"
        }
      ]
    },
    {
      "cell_type": "code",
      "metadata": {
        "id": "GXN5WI_E8qN6",
        "colab_type": "code",
        "outputId": "03bb9aef-fadc-459f-b02f-63fad11e1866",
        "colab": {
          "base_uri": "https://localhost:8080/",
          "height": 34
        }
      },
      "source": [
        "pos_count = 0\n",
        "for pair in pred:\n",
        "  if float(pair[0]) < 0.5 and float(pair[1]) == 1:\n",
        "    pos_count += 1\n",
        "print(pos_count)"
      ],
      "execution_count": 0,
      "outputs": [
        {
          "output_type": "stream",
          "text": [
            "34\n"
          ],
          "name": "stdout"
        }
      ]
    },
    {
      "cell_type": "code",
      "metadata": {
        "id": "k_Tl7yb0-Bze",
        "colab_type": "code",
        "outputId": "d1d2974f-d295-48ee-f872-6b13c59d17a3",
        "colab": {
          "base_uri": "https://localhost:8080/",
          "height": 34
        }
      },
      "source": [
        "pos_total = 0\n",
        "for pair in pred:\n",
        "  if float(pair[1]) == 1.0:\n",
        "    pos_total += 1\n",
        "print(pos_total)"
      ],
      "execution_count": 0,
      "outputs": [
        {
          "output_type": "stream",
          "text": [
            "58\n"
          ],
          "name": "stdout"
        }
      ]
    },
    {
      "cell_type": "code",
      "metadata": {
        "id": "yiuitlv9-Saf",
        "colab_type": "code",
        "outputId": "2e18a237-d6fd-4889-cbea-1b35f587dc0d",
        "colab": {
          "base_uri": "https://localhost:8080/",
          "height": 34
        }
      },
      "source": [
        "neg_count = 0\n",
        "for pair in pred:\n",
        "  if float(pair[0]) > 0.5 and float(pair[1]) == 0:\n",
        "    neg_count += 1\n",
        "print(neg_count)"
      ],
      "execution_count": 0,
      "outputs": [
        {
          "output_type": "stream",
          "text": [
            "28\n"
          ],
          "name": "stdout"
        }
      ]
    },
    {
      "cell_type": "code",
      "metadata": {
        "id": "INKQP9mx-jW5",
        "colab_type": "code",
        "outputId": "164db2a5-4fa5-415d-d7f4-7867c8e30702",
        "colab": {
          "base_uri": "https://localhost:8080/",
          "height": 34
        }
      },
      "source": [
        "neg_total = 0 \n",
        "for pair in pred:\n",
        "  if float(pair[1]) == 0.0:\n",
        "    neg_total += 1\n",
        "print(neg_total)"
      ],
      "execution_count": 0,
      "outputs": [
        {
          "output_type": "stream",
          "text": [
            "42\n"
          ],
          "name": "stdout"
        }
      ]
    },
    {
      "cell_type": "code",
      "metadata": {
        "id": "mMPCAHhdJJdk",
        "colab_type": "code",
        "outputId": "87310152-5748-4255-ded9-4aac1ac3872f",
        "colab": {
          "base_uri": "https://localhost:8080/",
          "height": 85
        }
      },
      "source": [
        "#print('%.' y_pred[0:100],'f'))\n",
        "#('%.08f' % x)\n",
        "#for i in y_pred[0:100]:\n",
        " # print('%0.5f' %i)\n",
        "#for i in range(y_pred.)\n",
        "##print(labels[0:20,1])\n",
        "\n",
        "\n",
        "\n",
        "count = 0\n",
        "pred = np.empty((0,2))\n",
        "index = 0\n",
        "for i in y_pred:\n",
        "  if i < 0.5:\n",
        "    pred = np.append(pred, [[1, labels[index][1]]],axis=0)\n",
        "    count += 1\n",
        "  else:\n",
        "    pred = np.append(pred, [[0, labels[index][1]]], axis=0)\n",
        "  index += 1\n",
        "\n",
        "rate = 0\n",
        "for j in pred:\n",
        "  if j[0] == j[1] == 1:\n",
        "    rate +=1\n",
        "\n",
        "total =0\n",
        "for l in pred:\n",
        "  if(l[1] == 1):\n",
        "    total +=1\n",
        "num = 0\n",
        "index = 0\n",
        "for i in labels[0:15000,1]:\n",
        "  if i == 1 and y_pred[index] < 0.5:\n",
        "    num += 1\n",
        "    index +=1\n",
        "  \n",
        "print(total)\n",
        "print(rate)\n",
        "print(num)\n",
        "print(rate/total)"
      ],
      "execution_count": 0,
      "outputs": [
        {
          "output_type": "stream",
          "text": [
            "8266\n",
            "6725\n",
            "6\n",
            "0.8135736752963949\n"
          ],
          "name": "stdout"
        }
      ]
    },
    {
      "cell_type": "code",
      "metadata": {
        "id": "6aF62I5W0N9x",
        "colab_type": "code",
        "outputId": "c2febe19-1bbc-4876-b8ee-0b4b4b4cac3b",
        "colab": {
          "base_uri": "https://localhost:8080/",
          "height": 418
        }
      },
      "source": [
        "index=0\n",
        "for i in y_pred:\n",
        "  if i < 0.5:\n",
        "    pred = np.append(pred, [['%0.2f' %i, labels[index][1]]],axis=0)\n",
        "    count += 1\n",
        "  else:\n",
        "    pred = np.append(pred, [['%0.2f' %i, labels[index][1]]], axis=0)\n",
        "  index += 1\n",
        "print(pred[0:100])"
      ],
      "execution_count": 0,
      "outputs": [
        {
          "output_type": "error",
          "ename": "KeyboardInterrupt",
          "evalue": "ignored",
          "traceback": [
            "\u001b[0;31m---------------------------------------------------------------------------\u001b[0m",
            "\u001b[0;31mKeyboardInterrupt\u001b[0m                         Traceback (most recent call last)",
            "\u001b[0;32m<ipython-input-59-9f1a8695b0d9>\u001b[0m in \u001b[0;36m<module>\u001b[0;34m()\u001b[0m\n\u001b[1;32m      2\u001b[0m \u001b[0;32mfor\u001b[0m \u001b[0mi\u001b[0m \u001b[0;32min\u001b[0m \u001b[0my_pred\u001b[0m\u001b[0;34m:\u001b[0m\u001b[0;34m\u001b[0m\u001b[0;34m\u001b[0m\u001b[0m\n\u001b[1;32m      3\u001b[0m   \u001b[0;32mif\u001b[0m \u001b[0mi\u001b[0m \u001b[0;34m<\u001b[0m \u001b[0;36m0.5\u001b[0m\u001b[0;34m:\u001b[0m\u001b[0;34m\u001b[0m\u001b[0;34m\u001b[0m\u001b[0m\n\u001b[0;32m----> 4\u001b[0;31m     \u001b[0mpred\u001b[0m \u001b[0;34m=\u001b[0m \u001b[0mnp\u001b[0m\u001b[0;34m.\u001b[0m\u001b[0mappend\u001b[0m\u001b[0;34m(\u001b[0m\u001b[0mpred\u001b[0m\u001b[0;34m,\u001b[0m \u001b[0;34m[\u001b[0m\u001b[0;34m[\u001b[0m\u001b[0;34m'%0.2f'\u001b[0m \u001b[0;34m%\u001b[0m\u001b[0mi\u001b[0m\u001b[0;34m,\u001b[0m \u001b[0mlabels\u001b[0m\u001b[0;34m[\u001b[0m\u001b[0mindex\u001b[0m\u001b[0;34m]\u001b[0m\u001b[0;34m[\u001b[0m\u001b[0;36m1\u001b[0m\u001b[0;34m]\u001b[0m\u001b[0;34m]\u001b[0m\u001b[0;34m]\u001b[0m\u001b[0;34m,\u001b[0m\u001b[0maxis\u001b[0m\u001b[0;34m=\u001b[0m\u001b[0;36m0\u001b[0m\u001b[0;34m)\u001b[0m\u001b[0;34m\u001b[0m\u001b[0;34m\u001b[0m\u001b[0m\n\u001b[0m\u001b[1;32m      5\u001b[0m     \u001b[0mcount\u001b[0m \u001b[0;34m+=\u001b[0m \u001b[0;36m1\u001b[0m\u001b[0;34m\u001b[0m\u001b[0;34m\u001b[0m\u001b[0m\n\u001b[1;32m      6\u001b[0m   \u001b[0;32melse\u001b[0m\u001b[0;34m:\u001b[0m\u001b[0;34m\u001b[0m\u001b[0;34m\u001b[0m\u001b[0m\n",
            "\u001b[0;32m<__array_function__ internals>\u001b[0m in \u001b[0;36mappend\u001b[0;34m(*args, **kwargs)\u001b[0m\n",
            "\u001b[0;32m/usr/local/lib/python3.6/dist-packages/numpy/lib/function_base.py\u001b[0m in \u001b[0;36mappend\u001b[0;34m(arr, values, axis)\u001b[0m\n\u001b[1;32m   4691\u001b[0m         \u001b[0mvalues\u001b[0m \u001b[0;34m=\u001b[0m \u001b[0mravel\u001b[0m\u001b[0;34m(\u001b[0m\u001b[0mvalues\u001b[0m\u001b[0;34m)\u001b[0m\u001b[0;34m\u001b[0m\u001b[0;34m\u001b[0m\u001b[0m\n\u001b[1;32m   4692\u001b[0m         \u001b[0maxis\u001b[0m \u001b[0;34m=\u001b[0m \u001b[0marr\u001b[0m\u001b[0;34m.\u001b[0m\u001b[0mndim\u001b[0m\u001b[0;34m-\u001b[0m\u001b[0;36m1\u001b[0m\u001b[0;34m\u001b[0m\u001b[0;34m\u001b[0m\u001b[0m\n\u001b[0;32m-> 4693\u001b[0;31m     \u001b[0;32mreturn\u001b[0m \u001b[0mconcatenate\u001b[0m\u001b[0;34m(\u001b[0m\u001b[0;34m(\u001b[0m\u001b[0marr\u001b[0m\u001b[0;34m,\u001b[0m \u001b[0mvalues\u001b[0m\u001b[0;34m)\u001b[0m\u001b[0;34m,\u001b[0m \u001b[0maxis\u001b[0m\u001b[0;34m=\u001b[0m\u001b[0maxis\u001b[0m\u001b[0;34m)\u001b[0m\u001b[0;34m\u001b[0m\u001b[0;34m\u001b[0m\u001b[0m\n\u001b[0m\u001b[1;32m   4694\u001b[0m \u001b[0;34m\u001b[0m\u001b[0m\n\u001b[1;32m   4695\u001b[0m \u001b[0;34m\u001b[0m\u001b[0m\n",
            "\u001b[0;32m<__array_function__ internals>\u001b[0m in \u001b[0;36mconcatenate\u001b[0;34m(*args, **kwargs)\u001b[0m\n",
            "\u001b[0;31mKeyboardInterrupt\u001b[0m: "
          ]
        }
      ]
    },
    {
      "cell_type": "code",
      "metadata": {
        "id": "IvaLOesT95sI",
        "colab_type": "code",
        "outputId": "31810e6e-64bd-442f-fa49-c45d22e1f5aa",
        "colab": {
          "base_uri": "https://localhost:8080/",
          "height": 1000
        }
      },
      "source": [
        "print(pred[0:100])"
      ],
      "execution_count": 0,
      "outputs": [
        {
          "output_type": "stream",
          "text": [
            "[['1.0' '1.0']\n",
            " ['1.0' '1.0']\n",
            " ['1.0' '1.0']\n",
            " ['1.0' '0.0']\n",
            " ['1.0' '0.0']\n",
            " ['1.0' '0.0']\n",
            " ['0.0' '0.0']\n",
            " ['1.0' '0.0']\n",
            " ['1.0' '0.0']\n",
            " ['1.0' '0.0']\n",
            " ['1.0' '0.0']\n",
            " ['1.0' '0.0']\n",
            " ['1.0' '0.0']\n",
            " ['0.0' '1.0']\n",
            " ['1.0' '0.0']\n",
            " ['0.0' '0.0']\n",
            " ['1.0' '1.0']\n",
            " ['1.0' '1.0']\n",
            " ['0.0' '0.0']\n",
            " ['1.0' '1.0']\n",
            " ['0.0' '0.0']\n",
            " ['1.0' '1.0']\n",
            " ['1.0' '0.0']\n",
            " ['1.0' '0.0']\n",
            " ['1.0' '1.0']\n",
            " ['1.0' '0.0']\n",
            " ['1.0' '1.0']\n",
            " ['1.0' '1.0']\n",
            " ['1.0' '1.0']\n",
            " ['0.0' '0.0']\n",
            " ['1.0' '1.0']\n",
            " ['1.0' '1.0']\n",
            " ['0.0' '0.0']\n",
            " ['1.0' '1.0']\n",
            " ['0.0' '0.0']\n",
            " ['0.0' '0.0']\n",
            " ['1.0' '1.0']\n",
            " ['0.0' '0.0']\n",
            " ['0.0' '0.0']\n",
            " ['1.0' '1.0']\n",
            " ['0.0' '0.0']\n",
            " ['0.0' '0.0']\n",
            " ['0.0' '1.0']\n",
            " ['0.0' '0.0']\n",
            " ['1.0' '1.0']\n",
            " ['1.0' '1.0']\n",
            " ['1.0' '1.0']\n",
            " ['1.0' '0.0']\n",
            " ['0.0' '0.0']\n",
            " ['1.0' '1.0']\n",
            " ['1.0' '1.0']\n",
            " ['1.0' '1.0']\n",
            " ['0.0' '0.0']\n",
            " ['1.0' '1.0']\n",
            " ['1.0' '0.0']\n",
            " ['1.0' '1.0']\n",
            " ['1.0' '0.0']\n",
            " ['0.0' '1.0']\n",
            " ['0.0' '1.0']\n",
            " ['1.0' '0.0']\n",
            " ['1.0' '1.0']\n",
            " ['1.0' '0.0']\n",
            " ['1.0' '0.0']\n",
            " ['0.0' '0.0']\n",
            " ['1.0' '1.0']\n",
            " ['1.0' '1.0']\n",
            " ['1.0' '0.0']\n",
            " ['0.0' '1.0']\n",
            " ['1.0' '1.0']\n",
            " ['1.0' '0.0']\n",
            " ['1.0' '1.0']\n",
            " ['0.0' '1.0']\n",
            " ['0.0' '1.0']\n",
            " ['1.0' '1.0']\n",
            " ['1.0' '0.0']\n",
            " ['1.0' '1.0']\n",
            " ['1.0' '1.0']\n",
            " ['1.0' '1.0']\n",
            " ['1.0' '0.0']\n",
            " ['1.0' '1.0']\n",
            " ['1.0' '0.0']\n",
            " ['0.0' '0.0']\n",
            " ['0.0' '0.0']\n",
            " ['0.0' '0.0']\n",
            " ['0.0' '0.0']\n",
            " ['1.0' '0.0']\n",
            " ['1.0' '1.0']\n",
            " ['1.0' '1.0']\n",
            " ['1.0' '1.0']\n",
            " ['0.0' '0.0']\n",
            " ['1.0' '0.0']\n",
            " ['0.0' '0.0']\n",
            " ['0.0' '1.0']\n",
            " ['1.0' '0.0']\n",
            " ['1.0' '1.0']\n",
            " ['1.0' '1.0']\n",
            " ['1.0' '1.0']\n",
            " ['0.0' '1.0']\n",
            " ['1.0' '1.0']\n",
            " ['0.0' '0.0']]\n"
          ],
          "name": "stdout"
        }
      ]
    },
    {
      "cell_type": "code",
      "metadata": {
        "id": "31LeSMHzAseb",
        "colab_type": "code",
        "colab": {}
      },
      "source": [
        ""
      ],
      "execution_count": 0,
      "outputs": []
    },
    {
      "cell_type": "code",
      "metadata": {
        "id": "XLN8G_4Y5sDA",
        "colab_type": "code",
        "outputId": "ffde6d61-58f7-480c-ae8e-d7227e32bb23",
        "colab": {
          "base_uri": "https://localhost:8080/",
          "height": 34
        }
      },
      "source": [
        "root.attrib"
      ],
      "execution_count": 0,
      "outputs": [
        {
          "output_type": "execute_result",
          "data": {
            "text/plain": [
              "{'drug': 'adcetris', 'track': 'TAC2017_ADR'}"
            ]
          },
          "metadata": {
            "tags": []
          },
          "execution_count": 4
        }
      ]
    },
    {
      "cell_type": "code",
      "metadata": {
        "id": "vH4qF0vXUN4_",
        "colab_type": "code",
        "outputId": "2a265ac3-3fbb-4771-ed36-649d92205a2a",
        "colab": {
          "base_uri": "https://localhost:8080/",
          "height": 34
        }
      },
      "source": [
        "# Create Reference Set\n",
        "\n",
        "reference_dict = {}\n",
        "for tree in trees:\n",
        "  root = tree.getroot()\n",
        "  for reaction in root.iter('Reaction'):\n",
        "    attribs = reaction.attrib    \n",
        "    str_name = attribs.get('str')\n",
        "    child = list(reaction)\n",
        "    normalization = child[0]\n",
        "    attribs = normalization.attrib\n",
        "    \n",
        "    canonical_name = attribs.get('meddra_pt')\n",
        "    canonical_id = attribs.get('meddra_pt_id')\n",
        "    if canonical_id in reference_dict:\n",
        "      values = reference_dict.get(canonical_id)\n",
        "      flag = False\n",
        "      for value in values: \n",
        "        if value == str_name:\n",
        "          flag = True\n",
        "          break            \n",
        "      if flag == False:\n",
        "        values.append(str_name)\n",
        "    else:\n",
        "      if canonical_id is not None:\n",
        "        values = []      \n",
        "        values.append(canonical_name)\n",
        "        values.append(str_name)\n",
        "        reference_dict[canonical_id] = values   \n",
        "\n",
        "print(len(reference_dict))"
      ],
      "execution_count": 0,
      "outputs": [
        {
          "output_type": "stream",
          "text": [
            "1486\n"
          ],
          "name": "stdout"
        }
      ]
    },
    {
      "cell_type": "code",
      "metadata": {
        "id": "tiN-rYAfnlyQ",
        "colab_type": "code",
        "colab": {}
      },
      "source": [
        "#Coppy dict for make syntactic_dict\n",
        "syntactic_dict = copy.deepcopy(reference_dict)"
      ],
      "execution_count": 0,
      "outputs": []
    },
    {
      "cell_type": "code",
      "metadata": {
        "id": "hGAP4RXtsoRi",
        "colab_type": "code",
        "outputId": "9751dd31-2f61-4d2d-eb54-ea39f23ec0cf",
        "colab": {
          "base_uri": "https://localhost:8080/",
          "height": 54
        }
      },
      "source": [
        "print(syntactic_dict)"
      ],
      "execution_count": 0,
      "outputs": [
        {
          "output_type": "stream",
          "text": [
            "{'10029331': ['Neuropathy peripheral', 'peripheral neuropathy', 'neuropathy', 'residual neuropathy', 'neuropathy peripheral', 'peripheral neuritis'], '10002198': ['Anaphylactic reaction', 'anaphylaxis', 'anaphylactic reactions', 'anaphylactic reaction'], '10051792': ['Infusion related reaction', 'infusion reactions', 'infusion-related reactions', 'infusion related reactions', 'adverse events associated with the infusion', 'infusion reaction'], '10061188': ['Haematotoxicity', 'hematologic toxicities', 'hematologic toxicity'], '10021789': ['Infection', 'infections', 'infection', 'worsening of infections', 'unusual infections', 'infection-related adverse reactions', 'infectious adverse events', 'infection adverse events', 'infectious etiology', 'infectious adverse reactions', 'worsening infection', 'complications of infection'], '10030901': ['Opportunistic infection', 'opportunistic infections', 'infections with opportunistic pathogens', 'infections due to other opportunistic pathogens', 'opportunistic viral infection of the brain', 'infections due to opportunistic pathogens', 'residual opportunistic infections', 'opportunistic infection'], '10045170': ['Tumour lysis syndrome', 'tumor lysis syndrome', 'tls'], '10070863': ['Toxicity to various agents', 'increased toxicity', 'toxicities'], '10019851': ['Hepatotoxicity', 'hepatotoxicity', 'hepatic toxicity', 'hepatic effects', 'toxicities hepatic'], '10036807': ['Progressive multifocal leukoencephalopathy', 'progressive multifocal leukoencephalopathy', 'pml'], '10061924': ['Pulmonary toxicity', 'pulmonary toxicity', 'non-infectious pulmonary toxicity', 'noninfectious pulmonary toxicity'], '10040914': ['Skin reaction', 'dermatologic reactions', 'skin reactions', 'cutaneous adverse reactions', 'cutaneous reactions', 'dermatological reactions', 'local skin reactions', 'local skin vesiculation', 'skin reactions in the treated area', 'dermatologic adverse reactions', 'epidermal adverse events', 'dermal adverse events'], '10029354': ['Neutropenia', 'neutropenia', 'neutropenic', 'worsening of neutropenia'], '10034620': ['Peripheral sensory neuropathy', 'peripheral sensory neuropathy', 'peripheral neuropathy sensory', 'peripheral sensoryneuropathy', 'neuropathy sensory'], '10016256': ['Fatigue', 'fatigue', 'fatigue-related events'], '10028813': ['Nausea', 'nausea'], '10002034': ['Anaemia', 'anemia'], '10046306': ['Upper respiratory tract infection', 'upper respiratory tract infection', 'uri', 'upper respiratory infections', 'upper respiratory tract infections', 'infections of the upper respiratory tract', 'upper respiratory infection', 'upper respiratory tractinfection'], '10012735': ['Diarrhoea', 'diarrhea', 'diarrhoea'], '10037660': ['Pyrexia', 'pyrexia', 'fever', 'febrile reactions'], '10037844': ['Rash', 'rash', 'body rash', 'skin rash', 'rashes', 'systemic rash', 'localized rash'], '10043554': ['Thrombocytopenia', 'thrombocytopenia'], '10011224': ['Cough', 'cough', 'coughing', 'increased cough'], '10047700': ['Vomiting', 'vomiting'], '10034580': ['Peripheral motor neuropathy', 'peripheral motor neuropathy'], '10000081': ['Abdominal pain', 'abdominal pain'], '10033371': ['Pain', 'pain', 'increases in pain', 'pain increases'], '10025197': ['Lymphadenopathy', 'lymphadenopathy'], '10019211': ['Headache', 'headache', 'headaches', 'headaches recurrent', 'headaches persistent'], '10013573': ['Dizziness', 'dizziness', 'lightheadedness'], '10008531': ['Chills', 'chills', 'rigors'], '10030124': ['Oedema peripheral', 'edema peripheral', 'peripheral edema', 'edema, peripheral'], '10010774': ['Constipation', 'constipation'], '10037087': ['Pruritus', 'pruritus', 'pruritis', 'itching', 'localized pruritus'], '10001760': ['Alopecia', 'alopecia'], '10029410': ['Night sweats', 'night sweats'], '10013786': ['Dry skin', 'dry skin'], '10013968': ['Dyspnoea', 'dyspnea', 'breathing difficulties', 'respiratory difficulties', 'shortness of breath', 'difficulty breathing', 'gasping respirations', 'dyspnoea', 'dyspneae'], '10068319': ['Oropharyngeal pain', 'oropharyngeal pain'], '10003239': ['Arthralgia', 'arthralgia', 'joint pain', 'arthralgias'], '10028411': ['Myalgia', 'myalgia', 'muscle pain'], '10003988': ['Back pain', 'back pain'], '10033425': ['Pain in extremity', 'pain in extremity', 'pain in extremities', 'thigh pain', 'pain in the injected extremity', 'pain in the treated extremity'], '10028334': ['Muscle spasms', 'muscle spasms', 'muscle spasm', 'spasm of the neck muscles'], '10022437': ['Insomnia', 'insomnia'], '10002855': ['Anxiety', 'anxiety'], '10061428': ['Decreased appetite', 'decreased appetite', 'anorexia', 'decrease appetite', 'appetite decreased'], '10047895': ['Weight decreased', 'weight decreased', 'decreased weight', 'weight decrease'], '10025102': ['Lung infiltration', 'interstitial infiltration of the chest', 'lung infiltration'], '10022611': ['Interstitial lung disease', 'interstitial inflammation of the chest', 'interstitial lung disease', 'ild-like adverse reactions', 'ild', 'acute diffuse infiltrative pulmonary disease'], '10037377': ['Pulmonary embolism', 'pulmonary embolism', 'pulmonary embolus', 'pulmonary emboli', 'pe'], '10035742': ['Pneumonitis', 'pneumonitis', 'non-infectious pneumonitis'], '10035759': ['Pneumothorax', 'pneumothorax'], '10037596': ['Pyelonephritis', 'pyelonephritis'], '10040070': ['Septic shock', 'septic shock'], '10003130': ['Arrhythmia supraventricular', 'supraventricular arrhythmia'], '10046571': ['Urinary tract infection', 'urinary tract infection', 'urinary tract infections', 'utis', 'infections in the urinary tract', 'infections of the urinary tract'], '10042033': ['Stevens-Johnson syndrome', 'stevens-johnson syndrome', 'sjs', 'stevens johnson syndrome'], '10035664': ['Pneumonia', 'pneumonia', 'bronchopneumonia', 'lobar pneumonia', 'pneumonias'], '10001052': ['Acute respiratory distress syndrome', 'acute respiratory distress syndrome', 'ards', 'acute respiratory distress'], '10033775': ['Paraesthesia', 'paraesthesia', 'paresthesia', 'paraesthesias', 'paresthesias', 'parasthesia'], '10016288': ['Febrile neutropenia', 'febrile neutropenia'], '10020635': ['Hyperglycaemia', 'hyperglycemia', 'fasting hyperglycemia'], '10033645': ['Pancreatitis', 'pancreatitis'], '10011906': ['Death', 'fatal', 'death', 'deaths', 'died', 'mortality', 'fatalities', 'fatal outcome', 'increased mortality', 'fatality'], '10044223': ['Toxic epidermal necrolysis', 'toxic epidermal necrolysis', 'ten'], '10023163': ['JC virus infection', 'jc virus infection', 'jc virus', 'jcv', 'jcv in the csf'], '10026923': ['Maternal drugs affecting foetus', 'embryo-fetal toxicity', 'embryofetal toxicity', 'fetal toxicity', 'embryotoxic'], '10016852': ['Foetal damage', 'fetal harm'], '10003997': ['Bacteraemia', 'bacteremia'], '10040047': ['Sepsis', 'sepsis', 'septicemia'], '10019837': ['Hepatocellular injury', 'hepatocellular injury', 'hepatocellular liver injury'], '10054889': ['Transaminases increased', 'elevations of transaminases', 'elevations in transaminases', 'transaminase elevations', 'hepatic transaminases increased', 'transaminases increased', 'transaminase increase', 'transaminase increased', 'liver transaminase elevation', 'serum transaminase elevations', 'liver transaminase elevations', 'elevation of liver transaminases', 'transaminase >8 * uln', 'transaminase >5 * uln', 'transaminase >3 * uln', 'elevated transaminases', 'elevated liver transaminases', 'increased serum transaminases', 'elevations in serum transaminases', 'increase in transaminase levels', 'aminotransferase elevations', 'elevations of hepatic transaminases', 'elevated hepatic transaminases', 'increased transaminases', 'increases in transaminases'], '10005364': ['Blood bilirubin increased', 'elevations of bilirubin', 'bilirubin increased', 'elevations of total bilirubin', 'elevated bilirubin', 'increased blood bilirubin', 'increased total bilirubin', 'total bilirubin greater than 3.0*uln', 'total bilirubin greater than 2*uln', 'blood bilirubin increased', 'elevation of serum bilirubin', 'increased bilirubin', 'elevations in bilirubin', 'elevations of serum bilirubin', 'total bilirubin greater than or equal to 1.5 x uln', 'increase in total bilirubin', 'elevated total bilirubin', 'bilirubin elevations', 'total bilirubin two times the uln', 'total bilirubin elevations', 'total bilirubin elevation', 'increases in total bilirubin', 'bilirubin total increased', 'total bilirubin 2 times the uln', 'high total bilirubin'], '10020751': ['Hypersensitivity', 'hypersensitivity reactions', 'hypersensitivity', 'allergic reactions', 'acute hypersensitivity reactions', 'hypersensitivity reaction', 'systemic hypersensitivity', 'allergy', 'hypersensitivity-related adverse reactions', 'recurrent hypersensitivity reactions', 'systemic immune-mediated reactions', 'immune-mediated reactions', 'allergic-type reactions', 'systemic hypersensitivity reactions', 'allergic reaction', 'localized allergic reactions', 'immune-mediated adverse reactions'], '10016825': ['Flushing', 'flushing', 'flushing of the upper body', 'facial flushing'], '10022067': ['Injection site haemorrhage', 'injection site hemorrhage', 'injection site haemorrhage'], '10022095': ['Injection site reaction', 'injection site problems', 'injection site reaction', 'injection site reactions', 'injection site tightness', 'injection site local tissue reactions', 'subcutaneous injection site reactions', 'injection-site reactions'], '10022066': ['Injection site haematoma', 'injection site hematoma', 'injection site haematoma', 'injection-site hematoma'], '10022052': ['Injection site bruising', 'injection site bruising'], '10069162': ['Gasping syndrome', 'gasping syndrome', 'neonatal gasping syndrome'], '10020772': ['Hypertension', 'transient episode of hypertension', 'hypertension', 'hypertensive adverse reactions', 'high blood pressure', 'supine hypertension', 'worsening hypertension'], '10002424': ['Angioedema', 'angioedema', 'angioedema of the throat', 'angioedema of the tongue', 'angioedema of the mouth', 'angioedema of the face', 'exacerbate angioedema', 'angioneurotic edema', 'angioedema of the lips', 'angioedema of the larynx', 'angio-edema'], '10028034': ['Mouth ulceration', 'oral ulceration', 'mouth ulceration', 'mouth ulcers', 'application site oral ulcers'], '10038435': ['Renal failure', 'renal failure', 'kidney failure', 'renal insufficiency adverse events', 'renal insufficiency'], '10021519': ['Impaired healing', 'impaired wound healing', 'delays wound healing', 'slow healing of the mouth after dental surgery', 'slow healing of the jaw after dental surgery', 'wound healing complications', 'delayed fracture healing'], '10042128': ['Stomatitis', 'stomatitis', 'oral mucositis'], '10030095': ['Oedema', 'edema', 'edema pitting'], '10003549': ['Asthenia', 'asthenia', 'loss of strength', 'loss of energy', 'weakness'], '10062352': ['Respiratory tract infection', 'respiratory tract infection'], '10020603': ['Hypercholesterolaemia', 'hypercholesterolemia'], '10003481': ['Aspartate aminotransferase increased', 'increased aspartate transaminase', 'increased ast', 'aspartate transaminase increased', 'ast increased', 'elevated aspartate transaminase', 'elevated ast', 'increased aspartate aminotransferase', 'sgot greater than 5.0*uln', 'ast greater than 5.0*uln', 'elevations in ast', 'ast elevation', 'increase in ast', 'aspartate aminotransferase increased', 'elevations ast', 'high ast', 'ast >8 * uln', 'ast >5 * uln', 'ast >3 * uln', 'ast levels >8 * uln', 'ast greater than or equal to 3 x uln', 'aspartate aminotransferase 3 times the upper limit of normal', 'ast >5.0 * uln', 'elevations of aspartate aminotransferase', 'increases in ast', 'aspartate aminotransferase elevation', 'elevations in aspartate aminotransferase', 'ast elevations', 'recurrence ast elevations', 'ast increases'], '10024384': ['Leukopenia', 'leukopenia', 'leucopenia'], '10025327': ['Lymphopenia', 'lymphopenia', 'prolonged lymphopenia'], '10001551': ['Alanine aminotransferase increased', 'increased alanine transaminase', 'increased alt', 'alanine transaminase increased', 'alt increased', 'elevated alanine transaminase', 'elevated alt', 'increased alanine aminotransferase', 'sgpt greater than 5.0*uln', 'alt greater than 5.0*uln', 'elevations in alt', 'alt elevation', 'increase in alt', 'alanine aminotransferase increased', 'alt elevations', 'alt values greater than 10 times uln', 'alanine aminotransferase elevation', 'increased alt values', 'increased serum alt', 'elevations alt', 'high alt', 'alanine aminotransferase elevations', 'alt >8 * uln', 'alt >5 * uln', 'alt >3 * uln', 'alt levels >8 * uln', 'serum alanine aminotransferase elevations', 'alt greater than or equal to 3 x uln', 'increase of alt', 'alanine aminotransferase 3 times the upper limit of normal', 'alt >3.0 * uln', 'alanine aminotransferase increase', 'alt increase', 'elevation in alt', 'elevations of alanine aminotransferase', 'increases in alt', 'elevations in alanine aminotransferase', 'recurrence alt elevations', 'high alanine aminotransferase', 'alt increases'], '10020869': ['Hypertriglyceridaemia', 'hypertriglyceridemia'], '10005724': ['Blood potassium decreased', 'decreased potassium', 'potassium decreased', 'decrease in serum potassium', 'decreases in serum potassium', 'blood potassium decreased', 'low potassium'], '10002959': ['Aphthous ulcer', 'aphthous stomatitis'], '10018388': ['Glossodynia', 'glossodynia'], '10018286': ['Gingival pain', 'gingival pain'], '10018386': ['Glossitis', 'glossitis'], '10024572': ['Lip ulceration', 'lip ulceration'], '10028810': ['Nasopharyngitis', 'nasopharyngitis'], '10006451': ['Bronchitis', 'bronchitis', 'acute bronchitis'], '10011781': ['Cystitis', 'cystitis', 'bladder infection'], '10040753': ['Sinusitis', 'sinusitis'], '10074170': ['Candida infection', 'candidiasis', 'candida albicans infection', 'candida albicans infection of the mouth', 'infections of the pharynx with candida albicans'], '10019744': ['Hepatitis C', 'hepatitis c'], '10037383': ['Pulmonary fibrosis', 'pulmonary fibrosis'], '10013781': ['Dry mouth', 'dry mouth'], '10013911': ['Dysgeusia', 'dysgeusia', 'abnormal taste', 'dysguesia', 'taste disorder', 'altered taste', 'alteration of taste'], '10015090': ['Epistaxis', 'epistaxis'], '10060800': ['Hot flush', 'hot flush'], '10033661': ['Pancytopenia', 'pancytopenia'], '10018884': ['Haemoglobin decreased', 'hemoglobin decreased', 'decreased hemoglobin', 'decreases in hemoglobin', 'hemoglobin low', 'low hemoglobin', 'decrease in hemoglobin', 'hgb decrease', 'decrease of hemoglobin', 'fall in hemoglobin level', 'hemoglobin (g/dl) <10', 'hemoglobin (g/dl) <8.5', 'decrease in hemoglobin concentrations', 'additional decrease in hemoglobin concentrations', 'hemoglobin values less than 10 g per dl', 'hemoglobin values less than 8.5 g per dl', 'hemoglobin less than 10 g per dl'], '10047942': ['White blood cell count decreased', 'wbc decreased', 'white blood cell count decreased', 'low wbc counts', 'decreased white blood cell count', 'decreased white blood cells', 'decreased white blood cell counts', 'decreased wbc', 'white blood cells decreased', 'decreased total white blood cell count', 'leukocytes decreased'], '10035528': ['Platelet count decreased', 'platelets decreased', 'decreases in platelets', 'decreased platelets', 'platelet count low', 'platelet count decreased', 'decreased platelet count', 'low platelet counts', 'platelet count decreases', 'decreases in platelet counts', 'decrease of platelets', 'platelet nadirs', 'decreased platelet counts', 'platelet counts of less than 50 * 10 9 per l', 'platelets (* 10 9 /l) <50', 'platelets (* 10 9 /l) <25'], '10025256': ['Lymphocyte count decreased', 'lymphocytes decreased', 'decreased lymphocytes', 'reduction in peripheral lymphocyte count', 'decreased lymphocyte counts', 'lymphocytes (absolute) decreased', 'decreased lymphocyte', 'decrease lymphocyte counts', 'lymphocyte counts decreased', 'lymphocyte counts <0.5x10 9 /l', 'lymphocyte counts <0.5 x 10 9 /l', 'lymphocyte count decreased'], '10029366': ['Neutrophil count decreased', 'neutrophils decreased', 'decreases in neutrophils', 'decreased neutrophils', 'absolute neutrophil count less than 1*10 9 /l', 'neutrophil count decreased', 'decreases in absolute neutrophil count', 'decreases in anc', 'anc less than 0.5x10 9 /l', 'decrease of neutrophils', 'decreased absolute neutrophil count', 'decreased neutrophil counts', 'neutrophils (* 10 9 /l) <0.75', 'neutrophils (* 10 9 /l) <0.5', 'neutrophil counts of less than 0.5 * 10 9 per l'], '10005557': ['Blood glucose increased', 'glucose increased', 'glucose (fasting) increased', 'elevations blood glucose', 'increase in mean blood glucose', 'elevated glucose levels', 'blood glucose increased', 'increase of fasting glucose'], '10005425': ['Blood cholesterol increased', 'cholesterol increased', 'elevations in fasting serum total cholesterol', 'elevations in fasting serum cholesterol', 'total cholesterol >= 261 mg/dl', 'total cholesterol elevations', 'elevated cholesterol'], '10005839': ['Blood triglycerides increased', 'triglycerides increased', 'increased blood triglycerides', 'elevations of plasma triglycerides', 'increased triglyceride levels', 'blood triglycerides increased', 'elevations in fasting serum triglycerides', 'triglycerides, fasting >= 327 mg/dl', 'elevations in triglycerides'], '10005287': ['Blood albumin decreased', 'albumin decreased'], '10005483': ['Blood creatinine increased', 'creatinine increased', 'increased creatinine', 'elevated creatinine', 'elevations of serum creatinine', 'increased blood creatinine', 'serum creatinine increased', 'increases in serum creatinine', 'serum creatinine increases', 'blood creatinine increase', 'increases serum creatinine', 'increases in creatinine', 'increase in serum creatinine', 'increases in creatinine levels', 'blood creatinine increased', 'increase serum creatinine', 'elevations in serum creatinine', 'elevated serum creatinine', 'creatinine increases'], '10059570': ['Blood alkaline phosphatase increased', 'alkaline phosphatase increased', 'increased alkaline phosphatase', 'alkaline phosphatase less than 2*uln', 'increased alp', 'blood alkaline phosphatase increased', 'increased blood alkaline phosphatase', 'alp increased', 'increased serum alkaline phosphatase', 'elevated alkaline phosphatase'], '10005359': ['Blood bicarbonate decreased', 'bicarbonate decreased', 'decreased blood bicarbonate'], '10021058': ['Hypophosphataemia', 'hypophosphatemia'], '10069339': ['Acute kidney injury', 'acute renal failure', 'acute kidney injury', 'renal failure acute'], '10007515': ['Cardiac arrest', 'cardiac arrest', 'asystole'], '10019663': ['Hepatic failure', 'hepatic failure', 'hepatic decompensation', 'liver decompensation', 'liver failure'], '10020993': ['Hypoglycaemia', 'hypoglycemia', 'hypoglycemic events', 'hypoglycemic episode', 'hypoglycemic symptoms', 'symptomatic hypoglycemia'], '10028596': ['Myocardial infarction', 'myocardial infarction', 'myocardial infarctions'], '10007559': ['Cardiac failure congestive', 'congestive heart failure', 'congestive cardiac failure', 'worsening congestive heart failure', 'worsening chf', 'new onset chf', 'cardiac failure congestive', 'exacerbate congestive heart failure', 'chf exacerbations'], '10042434': ['Sudden death', 'sudden death'], '10043607': ['Thrombosis', 'thrombotic events', 'thrombosis', 'vascular risks thrombotic', 'thrombotic complications', 'thrombotic event', 'thrombotic complication'], '10018291': ['Gingival swelling', 'gingival swelling'], '10049398': ['Gingival ulceration', 'gingival ulceration'], '10043991': ['Tongue ulceration', 'tongue ulceration'], '10028116': ['Mucosal inflammation', 'mucosal inflammation'], '10014866': ['Enteritis', 'enteritis'], '10014893': ['Enterocolitis', 'enterocolitis'], '10009887': ['Colitis', 'colitis'], '10012110': ['Defaecation urgency', 'defecation urgency'], '10041969': ['Steatorrhoea', 'steatorrhea'], '10048667': ['Restrictive pulmonary disease', 'restrictive pulmonary disease'], '10025482': ['Malaise', 'malaise'], '10018092': ['Generalised oedema', 'edema general'], '10039083': ['Rhinitis', 'rhinitis'], '10012601': ['Diabetes mellitus', 'diabetes mellitus', 'exacerbation diabetes mellitus', 'new onset of diabetes mellitus', 'new-onset diabetes after transplantation', 'nodat'], '10027599': ['Migraine', 'migraine', 'migraines'], '10036790': ['Productive cough', 'productive cough'], '10013971': ['Dyspnoea exertional', 'dyspnea exertional', 'exertional dyspnea'], '10028694': ['Nail disorder', 'nail disorders', 'nail disorder'], '10052576': ['Pruritus generalised', 'pruritus generalized'], '10048218': ['Xeroderma', 'xeroderma'], '10027339': ['Menstruation irregular', 'irregular menstruation', 'menstrual irregularities', 'unspecified menstrual irregularity', 'menstruation irregular'], '10049471': ['Blood phosphorus decreased', 'phosphate decreased', 'phosphorus low', 'decreased phosphorus', 'low serum phosphorus'], '10005395': ['Blood calcium decreased', 'calcium decreased', 'decreases in serum calcium levels'], '10005802': ['Blood sodium decreased', 'sodium decreased', 'decreases in sodium values', 'decreased sodium', 'serum sodium lower than 110 mmol/l'], '10005725': ['Blood potassium increased', 'potassium increased', 'increases in serum potassium', 'increases in potassium'], '10012174': ['Dehydration', 'dehydration'], '10001053': ['Acute respiratory failure', 'acute respiratory failure'], '10074171': ['Aspergillus infection', 'aspergillosis'], '10037313': ['Pulmonary alveolar haemorrhage', 'pulmonary alveolar hemorrhage', 'diffuse alveolar hemorrhage'], '10001889': ['Alveolitis', 'alveolitis'], '10019022': ['Haemorrhoids', 'hemorrhoids'], '10013950': ['Dysphagia', 'dysphagia', 'swallowing difficulties', 'swallowing difficulty'], '10008479': ['Chest pain', 'chest pain'], '10035598': ['Pleural effusion', 'pleural effusion', 'pleural effusions'], '10023848': ['Laryngeal pain', 'pharyngolaryngeal pain', 'pharyngo-laryngeal pain'], '10039101': ['Rhinorrhoea', 'rhinorrhea'], '10033553': ['Palmar-plantar erythrodysaesthesia syndrome', 'hand-foot syndrome', 'palmar-plantar erythrodysesthesia syndrome', 'ppes'], '10015150': ['Erythema', 'erythema', 'skin erythema', 'local skin erythema', 'redness', 'localized erythema'], '10048886': ['Onychoclasis', 'onychoclasis'], '10040882': ['Skin lesion', 'skin lesion'], '10012432': ['Dermatitis acneiform', 'acneiform dermatitis', 'dermatitis acneiform', 'acneiform rash'], '10015993': ['Eyelid oedema', 'eyelid edema'], '10010741': ['Conjunctivitis', 'conjunctivitis'], '10051055': ['Deep vein thrombosis', 'deep vein thrombosis', 'deep venous thrombosis', 'dvt'], '10043071': ['Tachycardia', 'tachycardia', 'reflex tachycardia'], '10033433': ['Pain in jaw', 'jaw pain', 'persistent jaw pain'], '10055798': ['Haemorrhage', 'hemorrhage', 'bleeding', 'hemorrhagic events', 'bleeding-related adverse reactions', 'bleeding at a critical site', 'non-intracranial bleeding', 'bled', 'bleed at critical site', 'crnm', 'clinically relevant nonmajor bleeding', 'bleeding events', 'bleed', 'non-intracranial bleed', 'bleeds', 'symptomatic bleeding in a critical area', 'symptomatic bleeding in a critical organ', 'mbe', 'hemorrhagic reactions', 'hemorrhages', 'symptomatic bleeding', 'hemorrhagic event'], '10001928': ['Amenorrhoea', 'amenorrhea'], '10006482': ['Bronchospasm', 'bronchospasm'], '10039906': ['Seizure', 'convulsion', 'seizures', 'convulsions', 'seizure disorder', 'seizure'], '10000496': ['Acne', 'acne'], '10027313': ['Menorrhagia', 'menorrhagia'], '10046910': ['Vaginal haemorrhage', 'vaginal hemorrhage'], '10033078': ['Otitis media', 'otitis media'], '10012378': ['Depression', 'depression'], '10005649': ['Blood luteinising hormone increased', 'increased blood luteinizing hormone levels', 'increased blood lh levels'], '10005534': ['Blood follicle stimulating hormone increased', 'increased blood follicle stimulating hormone levels', 'increased blood fsh levels'], '10033132': ['Ovarian cyst', 'ovarian cyst'], '10017888': ['Gastroenteritis', 'gastroenteritis'], '10001488': ['Aggression', 'aggression', 'aggressive thoughts'], '10001497': ['Agitation', 'agitation'], '10000636': ['Activated partial thromboplastin time prolonged', 'elevated partial thromboplastin time', 'activated partial thromboplastin time prolonged'], '10062106': ['Respiratory tract infection viral', 'respiratory tract infection viral', 'viral respiratory tract infection'], '10017918': ['Gastroenteritis viral', 'gastroenteritis viral'], '10017964': ['Gastrointestinal infection', 'gastrointestinal infection'], '10033664': ['Panic attack', 'panic attack'], '10061422': ['Abnormal behaviour', 'abnormal behavior', 'behavioral disturbance', 'impairment in behavior'], '10029898': ['Obsessive-compulsive disorder', 'obsessive compulsive disorder', 'obsessive-compulsive disorder'], '10037858': ['Rash generalised', 'rash generalized', 'generalized rash', 'diffuse rash', 'rashes generalized'], '10037867': ['Rash macular', 'rash macular', 'macular rash', 'rashes macular'], '10037868': ['Rash maculo-papular', 'rash maculo-papular', 'maculo-papular rash', 'maculopapular rash', 'rashes maculo-papular'], '10037876': ['Rash papular', 'rash papular', 'papular rash'], '10012434': ['Dermatitis allergic', 'dermatitis allergic', 'intradermal immune reaction', 'cutaneous immune-mediated reactions', 'immune-mediated cutaneous reactions', 'allergic dermatitis', 'hypersensitivity skin reactions', 'immune-mediated dermatitis'], '10046735': ['Urticaria', 'urticaria', 'generalized urticaria'], '10027327': ['Menstrual disorder', 'menstrual abnormalities', 'menstrual disorder', 'menstrual disorders'], '10013935': ['Dysmenorrhoea', 'dysmenorrhea'], '10027514': ['Metrorrhagia', 'metrorrhagia', 'intracyclic bleeding'], '10007882': ['Cellulitis', 'cellulitis'], '10033647': ['Pancreatitis acute', 'acute pancreatitis', 'pancreatitis acute'], '10008612': ['Cholecystitis', 'cholecystitis', 'chronic acalculous cholecystitis'], '10008629': ['Cholelithiasis', 'cholelithiasis'], '10003178': ['Arterial thrombosis', 'arterial thrombotic events', 'thrombotic arterial events'], '10064332': ['Complex regional pain syndrome', 'reflex sympathetic dystrophy', 'complex regional pain syndrome', 'crps'], '10053692': ['Wound complication', 'wound-related complications', 'wound complications'], '10053123': ['Protein urine present', 'elevations urinary protein', 'urine positive for protein'], '10024592': ['Lipids increased', 'elevations lipids'], '10060945': ['Bacterial infection', 'bacterial infections', 'worsening bacterial infections', 'infections bacterial'], '10017533': ['Fungal infection', 'fungal infections', 'worsening fungal infections', 'mucocutaneous fungal infections', 'infections fungal', 'superficial fungal infection'], '10047461': ['Viral infection', 'viral infections', 'worsening viral infections', 'viral infection', 'viral diseases', 'infections viral', 'transmission of viral diseases'], '10021859': ['Infection protozoal', 'protozoal infections'], '10062207': ['Mycobacterial infection', 'mycobacterial infections'], '10052366': ['Systemic mycosis', 'invasive fungal infections', 'invasive fungal infections disseminated'], '10073755': ['Pneumocystis jirovecii pneumonia', 'pneumocystis jiroveci pneumonia', 'pjp', 'pneumocystosis', 'pcp', 'pneumocystis jirovecii pneumonia'], '10019731': ['Hepatitis B', 'reactivation of hepatitis b virus', 'hepatitis b virus reactivation', 'reactivation of hbv', 'hbv reactivation', 'hepatitis b reactivation', 'exacerbations of hepatitis b'], '10038695': ['Respiratory failure', 'respiratory failure', 'respiratory compromise', 'exacerbation of respiratory compromise'], '10070774': ['Respiratory tract oedema', 'swelling of the airways', 'upper airway edema', 'upper airway swelling'], '10042727': ['Swollen tongue', 'swelling of the tongue', 'swelling of tongue', 'tongue swelling', 'swollen tongue'], '10025082': ['Lung disorder', 'respiratory impairment'], '10048031': ['Wound dehiscence', 'wound dehiscence'], '10048038': ['Wound infection', 'wound infection'], '10021619': ['Incisional hernia', 'incisional hernia'], '10048642': ['Lymphocele', 'lymphocele'], '10040102': ['Seroma', 'seroma'], '10037032': ['Proteinuria', 'proteinuria', 'early proteinuria'], '10062060': ['Hyperlipidaemia', 'hyperlipidemia'], '10024670': ['Liver disorder', 'hepatic impairment', 'liver disorder', 'liver disease'], '10049848': ['Balance disorder', 'balance disorder', 'balance disorders', 'unsteadiness'], '10048393': ['Multiple sclerosis relapse', 'multiple sclerosis relapse'], '10013946': ['Dyspepsia', 'dyspepsia', 'dyspeptic signs and symptoms'], '10010305': ['Confusional state', 'confusional state', 'confusion'], '10028391': ['Musculoskeletal pain', 'musculoskeletal pain'], '10005750': ['Blood pressure increased', 'blood pressure increased', 'elevated blood pressure', 'increases in blood pressure', 'blood pressure increases', 'increased blood pressure', 'increase in blood pressure'], '10022079': ['Injection site irritation', 'injection site irritation'], '10022086': ['Injection site pain', 'injection site pain', 'injection site tenderness', 'injection site stinging', 'injection site burning'], '10016326': ['Feeling cold', 'feeling cold'], '10009244': ['Claustrophobia', 'claustrophobia'], '10028836': ['Neck pain', 'neck pain'], '10059830': ['Infusion site rash', 'infusion site rash'], '10073306': ['Exposure to radiation', 'radiation risk', 'long-term cumulative radiation exposure'], '10028997': ['Neoplasm malignant', 'cancer', 'malignancy', 'malignancies', 'rare malignancies', 'malignant neoplasms', 'tumor growth stimulatory effects on malignant cells', 'carcinomas', 'non-skin carcinomas', 'primary malignancies', 'primary malignancies non-cutaneous', 'non-cutaneous malignancies', 'malignant diseases'], '10065604': ['Suicidal behaviour', 'suicidal behavior', 'suicidal behaviors', 'suicidality'], '10042458': ['Suicidal ideation', 'suicidal ideation', 'suicidal thoughts', 'suicidal thinking', 'suicide risk'], '10073508': ['Drug reaction with eosinophilia and systemic symptoms', 'drug reaction with eosinophilia and systemic symptoms', 'dress', 'multiorgan hypersensitivity', 'drug rash with eosinophilia and systemic symptoms', 'drug rash with eosinophilia and systemic symptoms syndrome', 'dress syndrome'], '10021036': ['Hyponatraemia', 'hyponatremia'], '10060860': ['Neurological symptom', 'neurological adverse reactions', 'neurologic events', 'neurologic disturbances'], '10072268': ['Drug-induced liver injury', 'drug induced liver injury'], '10043730': ['Thyroid function test abnormal', 'abnormal thyroid function tests'], '10041349': ['Somnolence', 'somnolence'], '10013036': ['Diplopia', 'diplopia'], '10047340': ['Vertigo', 'vertigo'], '10003591': ['Ataxia', 'ataxia'], '10047513': ['Vision blurred', 'blurred vision', 'vision blurred'], '10044565': ['Tremor', 'tremor'], '10013887': ['Dysarthria', 'dysarthria'], '10047571': ['Visual impairment', 'visual impairment', 'visual changes', 'impaired vision', 'disturbance of vision', 'visual symptoms', 'visual disturbances', 'change in color vision', 'visual adverse reactions', 'vision impairment'], '10017853': ['Gastritis', 'gastritis'], '10017577': ['Gait disturbance', 'gait disturbance', 'gait instability', 'disturbance in gait', 'difficulty in walking'], '10016173': ['Fall', 'fall', 'falls', 'fall-related injuries'], '10027175': ['Memory impairment', 'memory impairment', 'changes in memory'], '10029864': ['Nystagmus', 'nystagmus'], '10010144': ['Completed suicide', 'suicides', 'suicide', 'suicidal completion'], '10019717': ['Hepatitis', 'hepatitis', 'cytolytic hepatitis'], '10029117': ['Nephritis', 'nephritis'], '10057755': ['Haematology test abnormal', 'hematological abnormalities', 'hematologic abnormalities'], '10028606': ['Myocarditis', 'myocarditis'], '10028653': ['Myositis', 'myositis'], '10014950': ['Eosinophilia', 'eosinophilia'], '10023845': ['Laryngeal oedema', 'laryngeal edema', 'pharyngolaryngeal edema'], '10022116': ['Injury', 'injury', 'permanent injury'], '10020955': ['Hypochloraemia', 'hypochloremia'], '10010947': ['Coordination abnormal', 'disturbance in coordination', 'abnormal coordination', 'coordination disorders', 'incoordination'], '10020765': ['Hypersomnia', 'hypersomnia'], '10039897': ['Sedation', 'sedation', 'potentiation of sedation'], '10024264': ['Lethargy', 'lethargy'], '10057668': ['Cognitive disorder', 'cognitive dysfunction', 'cognitive disorder', 'cognitive impairment'], '10013496': ['Disturbance in attention', 'disturbance in attention', 'difficulty concentrating'], '10001949': ['Amnesia', 'amnesia'], '10002948': ['Aphasia', 'aphasia', 'dysphasia'], '10041466': ['Speech disorder', 'speech disorder', 'speech disorders', 'speech difficulties'], '10050012': ['Bradyphrenia', 'slowness of thought'], '10013395': ['Disorientation', 'disorientation', 'changes in orientation'], '10037213': ['Psychomotor retardation', 'psychomotor retardation'], '10075536': ['Eye symptom', 'eye events', 'ocular adverse reaction', 'ocular adverse reactions', 'ophthalmic adverse reaction', 'ocular manifestations'], '10067125': ['Liver injury', 'liver injury'], '10053791': ['Tri-iodothyronine free decreased', 'decreases in serum t3 free'], '10055162': ['Thyroxine free decreased', 'decreases in serum t4 free'], '10043816': ['Thyroxine decreased', 'decreases in serum t4 total'], '10044594': ['Tri-iodothyronine decreased', 'decreases in serum t3 total'], '10003553': ['Asthma', 'asthma', 'asthma exacerbation', 'bronchial asthma'], '10009033': ['Chronic obstructive pulmonary disease', 'copd', 'copd exacerbation'], '10002383': ['Angina pectoris', 'angina pectoris', 'angina'], '10003658': ['Atrial fibrillation', 'atrial fibrillation'], '10075534': ['Cardiovascular symptom', 'cardiovascular adverse reactions', 'cardiovascular effect', 'cardiovascular manifestations', 'cardiac adverse events', 'cardiovascular events', 'cardiovascular risk', 'adverse cardiovascular effects'], '10006486': ['Bronchospasm paradoxical', 'paradoxical bronchospasm'], '10019303': ['Heart rate increased', 'heart rate increase', 'increases in pulse rate', 'heart rate increased', 'mean heart rate higher by an average of 1 to 2 bpm', 'increase in heart rate', 'increase in hr'], '10033557': ['Palpitations', 'palpitations', 'palpitation'], '10005760': ['Blood pressure systolic increased', 'increases in systolic blood pressure', 'increases systolic blood pressure', 'increase systolic pressure', 'systolic blood pressure >150 mmhg'], '10005739': ['Blood pressure diastolic increased', 'increases in diastolic blood pressure', 'increases diastolic blood pressure', 'increase diastolic pressure', 'diastolic blood pressure >100 mmhg', 'supine diastolic blood pressure >=90 mm hg', 'elevation of supine diastolic blood pressure'], '10049803': ['Blood glucose fluctuation', 'changes in blood glucose'], '10059024': ['Gastrointestinal toxicity', 'gastrointestinal toxicity'], '10005630': ['Blood lactate dehydrogenase increased', 'increased blood lactate dehydrogenase', 'ldh increased'], '10053483': ['Infusion site pain', 'infusion site pain'], '10021015': ['Hypokalaemia', 'hypokalemia'], '10014387': ['Electrocardiogram QT prolonged', 'prolonged qt', 'qtcf interval of greater than 500 milliseconds', 'electrocardiogram qt prolonged', 'prolongation of the qtc interval', 'prolongation qtc cardiac intervals', 'increases in ecg intervals qtc', 'prolongation of the qt interval', 'qt prolongation', 'prolongs qt interval', 'qtc prolongation', 'qtcf increase', 'qt interval prolongation', 'qtc prolonged', 'qt interval effect', 'qt-prolonging', 'increases in qt interval', 'increases in qtc interval', 'qt prolongations', 'additive qt prolongation', 'prolongs the qt interval', 'qtcf prolongation', 'qtcf was increased', 'qt corrected interval prolongation', 'qtcf greater than or equal to 500 ms', 'increase qtcf', 'prolonged qt interval', 'qtc interval prolongation', 'qtc interval increase', 'qtc greater than 500 msec', 'increase from baseline qtc', 'increases in the qtc interval'], '10021097': ['Hypotension', 'hypotension', 'systemic hypotension', 'symptomatic hypotension', 'progressive hypotension'], '10034879': ['Phlebitis', 'phlebitis'], '10028154': ['Multi-organ failure', 'multi-organ failure', 'multiorgan failure'], '10047290': ['Ventricular fibrillation', 'ventricular fibrillation'], '10024690': ['Liver function test abnormal', 'liver function test abnormalities', 'liver function test abnormal', 'liver test abnormalities', 'serum liver test abnormalities', 'hepatobiliary laboratory abnormalities', 'liver test elevation'], '10043275': ['Teratogenicity', 'teratogenicity', 'teratogen'], '10055690': ['Foetal death', 'embryo-fetal lethality', 'fetal death', 'death of the exposed fetus'], '10034835': ['Pharyngitis', 'pharyngitis'], '10025140': ['Lupus nephritis', 'lupus nephritis'], '10037855': ['Rash erythematous', 'erythematous rash', 'rash erythematous', 'rashes erythematous'], '10007649': ['Cardiovascular disorder', 'cardiovascular disease', 'cardiovascular disorders'], '10022000': ['Influenza', 'influenza'], '10029202': ['Nervous system disorder', 'neurological deficits', 'neurological disorders', 'cns events', 'cns thrombosis', 'cns infarction', 'cns ptld', 'anticholinergic central nervous sytem effects', 'anticholinergic cns effects', 'cns anticholinergic effects'], '10040808': ['Skin cancer', 'non-melanoma skin cancers', 'skin cancer', 'skin cancers', 'non-melanoma skin cancer', 'malignancies skin', 'nmsc', 'primary malignancies, cutaneous'], '10016029': ['Face oedema', 'facial edema', 'face edema'], '10006093': ['Bradycardia', 'bradycardia', 'symptomatic bradycardia'], '10061472': ['Psychiatric symptom', 'psychiatric events', 'psychiatric symptoms'], '10069227': ['Product taste abnormal', 'taste following instillation'], '10015946': ['Eye irritation', 'eye irritation', 'ocular irritation'], '10024570': ['Lip swelling', 'swelling of lips', 'lip swelling', 'swelling of the lips'], '10034829': ['Pharyngeal oedema', 'swelling of throat', 'pharyngeal edema', 'swelling of the throat'], '10051625': ['Conjunctival hyperaemia', 'conjunctival redness', 'conjunctival hyperemia', 'hyperemia conjunctival'], '10015958': ['Eye pain', 'eye pain'], '10052140': ['Eye pruritus', 'eye pruritus', 'eye pruritis', 'pruritus eye'], '10076272': ['Overgrowth fungal', 'overgrowth of fungi'], '10052015': ['Cytokine release syndrome', 'cytokine release syndrome', 'crs'], '10029350': ['Neurotoxicity', 'neurological toxicities'], '10049564': ['Impaired driving ability', 'effects on ability to drive', 'driving impairment'], '10060795': ['Hepatic enzyme increased', 'elevated liver enzymes', 'increased liver enzymes', 'elevations in liver enzymes', 'increased hepatic enzymes', 'elevations of liver enzymes', 'elevation of liver enzymes', 'liver enzyme elevation', 'hepatic enzyme increased', 'hepatic enzyme elevations', 'liver enzyme elevations', 'liver chemistry elevations', 'increases in liver enzymes', 'liver enzyme increases'], '10024382': ['Leukoencephalopathy', 'leukoencephalopathy'], '10064687': ['Device related infection', 'device-related infection'], '10014625': ['Encephalopathy', 'encephalopathy'], '10033295': ['Overdose', 'overdose'], '10051017': ['Staphylococcal bacteraemia', 'staphylococcal bacteremia'], '10062959': ['Neutropenic colitis', 'neutropenic colitis', 'neutropenic enterocolitis'], '10047899': ['Weight increased', 'increased weight', 'weight increased', 'weight gain', 'body weight gain', 'gain in body weight', 'weight increasing', 'increases in weight', 'increase in body weight'], '10021027': ['Hypomagnesaemia', 'hypomagnesemia'], '10006002': ['Bone pain', 'bone pain'], '10071390': ['Resting tremor', 'resting tremor'], '10066091': ['Bronchial hyperreactivity', 'bronchial hyperactivity'], '10038687': ['Respiratory distress', 'respiratory distress'], '10047924': ['Wheezing', 'wheezing'], '10037898': ['Rash vesicular', 'vesicular rash', 'rash vesicular'], '10024378': ['Leukocytosis', 'leukocytosis'], '10050685': ['Cytokine storm', 'cytokine storm'], '10021499': ['Immunoglobulins decreased', 'decreased immunoglobulins'], '10017693': ['Gamma-glutamyltransferase increased', 'increased gamma-glutamyl-transferase', 'gamma-glutamyltransferase increased', 'elevations ggt', 'increased gamma gt', 'increased ggt', 'ggt increased', 'increased serum gamma-glutamyl transpeptidase'], '10020942': ['Hypoalbuminaemia', 'hypoalbuminemia'], '10007196': ['Capillary leak syndrome', 'capillary leak syndrome', 'cls'], '10013442': ['Disseminated intravascular coagulation', 'disseminated intravascular coagulation', 'dic'], '10048595': ['Histiocytosis haematophagic', 'hemophagocytic lymphohistiocytosis', 'macrophage activation syndrome', 'hlh', 'mas'], '10001854': ['Altered state of consciousness', 'disturbances in consciousness', 'impairment in consciousness', 'altered consciousness'], '10056520': ['Catheter site infection', 'catheter-site infections'], '10024855': ['Loss of consciousness', 'loss of consciousness'], '10065553': ['Bone marrow failure', 'myelosuppression', 'bone marrow suppression', 'myelosuppressive effects', 'myelosuppression-related adverse reactions'], '10016807': ['Fluid retention', 'fluid retention'], '10029155': ['Nephropathy toxic', 'renal toxicity'], '10002199': ['Anaphylactic shock', 'anaphylactic shock', 'anaphylacticshock'], '10024574': ['Lipase increased', 'lipase greater than 2*uln', 'increased lipase', 'lipase increased', 'elevated lipase', 'elevated total lipase', 'increases in lipase', 'elevations of lipase'], '10034474': ['Pericardial effusion', 'pericardial effusion', 'pericardial effusions'], '10034484': ['Pericarditis', 'pericarditis'], '10043882': ['Tinnitus', 'tinnitus'], '10017955': ['Gastrointestinal haemorrhage', 'gastrointestinal hemorrhage', 'gi bleed', 'gastrointestinal bleeding', 'gastrointestinal bleeds'], '10017788': ['Gastric haemorrhage', 'gastric hemorrhage'], '10046274': ['Upper gastrointestinal haemorrhage', 'upper gastrointestinal hemorrhage', 'upper gi bleeding'], '10008469': ['Chest discomfort', 'chest discomfort', 'chest tightness', 'chest pressure'], '10019795': ['Hepatitis toxic', 'toxic hepatitis'], '10019670': ['Hepatic function abnormal', 'abnormal hepatic function', 'hepatic-related adverse reactions', 'liver function abnormalities', 'abnormal liver function'], '10013700': ['Drug hypersensitivity', 'drug hypersensitivity'], '10003757': ['Atypical pneumonia', 'primary atypical pneumonia', 'atypical pneumonia'], '10005470': ['Blood creatine phosphokinase increased', 'increased blood creatine phosphokinase', 'elevated creatine phosphokinase', 'blood creatinine phosphokinase increased', 'elevated creatine kinase', 'ck elevations', 'creatine kinase >= 10.0 * uln', 'creatine phosphokinase increased', 'cpk increased'], '10020646': ['Hyperkalaemia', 'hyperkalemia'], '10001029': ['Acute pulmonary oedema', 'acute pulmonary edema'], '10037400': ['Pulmonary hypertension', 'pulmonary hypertension'], '10015218': ['Erythema multiforme', 'erythema multiforme'], '10064579': ['Exfoliative rash', 'exfoliative rash'], '10013687': ['Drug eruption', 'drug eruption'], '10037423': ['Pulmonary oedema', 'pulmonary edema'], '10018358': ['Glomerular filtration rate decreased', 'decline in estimated glomerular filtration rate', 'decreases in egfr', 'decreases egfr', 'egfr less than 60 ml/min/1.73 m 2', 'fall in estimated gfr', 'egfr below 80 ml/min/1.73 m 2', 'egfr 30% lower than baseline', 'decreased glomerular filtration rate', 'egfr 30 to less than 60 ml/min/1.73 m 2'], '10062016': ['Immunosuppression', 'immunosuppression', 'immunosuppressant effects'], '10020564': ['Hyperadrenocorticism', 'hypercorticism'], '10001382': ['Adrenal suppression', 'adrenal suppression'], '10049470': ['Bone density decreased', 'reduction in bone mineral density', 'decreased bone density', 'declines in bmd at the total hip', 'declines in bmd at the lumbar spine', 'bmd declines at the femoral neck', 'bmd declines at the distal forearm', 'decreases in bmd', 'decreases in bone mineral density'], '10030963': ['Oral candidiasis', 'oral candidiasis', 'infections of the mouth with candida albicans'], '10013952': ['Dysphonia', 'dysphonia'], '10050346': ['Oropharyngeal candidiasis', 'oropharyngeal candidiasis', 'candida albicans infection of the pharynx'], '10061891': ['Oropharyngitis fungal', 'fungal oropharyngitis'], '10015856': ['Extrasystoles', 'extrasystoles'], '10000087': ['Abdominal pain upper', 'upper abdominal pain', 'abdominal pain upper'], '10039085': ['Rhinitis allergic', 'allergic rhinitis'], '10042602': ['Supraventricular extrasystoles', 'supraventricular extrasystoles'], '10047289': ['Ventricular extrasystoles', 'ventricular extrasystoles'], '10001076': ['Acute sinusitis', 'acute sinusitis'], '10029216': ['Nervousness', 'nervousness'], '10044755': ['Tuberculosis', 'worsening existing tuberculosis', 'tuberculosis infections', 'tuberculosis', 'tb', 'active tuberculosis', 'reactivation of latent tuberculosis', 'reactivation of tuberculosis', 'active tb', 'new tuberculosis infections'], '10021857': ['Infection parasitic', 'worsening parasitic infections'], '10073938': ['Ophthalmic herpes simplex', 'worsening ocular herpes simplex'], '10046980': ['Varicella', 'chickenpox', 'varicella'], '10027011': ['Measles', 'measles'], '10001347': ['Adrenal disorder', 'impaired adrenal function'], '10074052': ['Hypothalamic pituitary adrenal axis suppression', 'hpa dysfunction'], '10001389': ['Adrenocortical insufficiency acute', 'adrenal crisis'], '10003119': ['Arrhythmia', 'cardiac arrhythmias', 'arrhythmias', 'arrhythmia', 'cardiac dysrhythmia', 'cardiac arrhythmia', 'exacerbate arrhythmias'], '10042604': ['Supraventricular tachycardia', 'supraventricular tachycardia'], '10047281': ['Ventricular arrhythmia', 'ventricular arrhythmias'], '10044008': ['Tonsillitis', 'tonsilitis', 'tonsillitis'], '10014011': ['Ear infection', 'ear infection', 'infections in the ear', 'infections of the ear'], '10020642': ['Hyperhidrosis', 'hyperhidrosis', 'diaphoresis', 'hyperhydrosis'], '10020575': ['Hyperammonaemia', 'hyperammonemia'], '10016766': ['Flatulence', 'flatulence'], '10017885': ['Gastrooesophageal reflux disease', 'gastroesophageal reflux disease', 'reflux esophagitis', 'gerd'], '10061116': ['Electrocardiogram change', 'ecg changes'], '10053657': ['Electrocardiogram PR prolongation', 'prolongation pr cardiac intervals', 'increases in ecg intervals pr', 'increase pr interval', 'pr interval increase'], '10014380': ['Electrocardiogram QRS complex prolonged', 'prolongation qrs cardiac intervals', 'increases in ecg intervals qrs'], '10007554': ['Cardiac failure', 'heart failure', 'cardiac failure', 'new heart failure', 'worsening heart failure', 'heart failure, worsening', 'heart failure new onset', 'new onset cardiac failure', 'worsening of pre-existing cardiac failure', 'heart failure events', 'new onset heart failure', 'worsening of heart failure', 'heart failure worsening'], '10022687': ['Intestinal obstruction', 'intestinal obstruction'], '10023874': ['Laryngitis', 'laryngitis'], '10004056': ['Bacteriuria', 'bacteriuria'], '10020608': ['Hypercoagulation', 'thrombophilia'], '10020823': ['Hypertensive heart disease', 'hypertensive heart disease'], '10028600': ['Myocardial ischaemia', 'myocardial ischemia', 'exacerbate ischemic heart disease', 'ischemic cardiac adverse reactions'], '10008190': ['Cerebrovascular accident', 'stroke', 'cerebrovascular accidents', 'cerebrovascular accident', 'strokes'], '10044390': ['Transient ischaemic attack', 'transient ischemic attack', 'transient ischemic attacks'], '10030942': ['Optic neuritis', 'optic neuritis'], '10038867': ['Retinal haemorrhage', 'retinal hemorrhage'], '10046851': ['Uveitis', 'uveitis'], '10001766': ['Alopecia totalis', 'alopecia totalis'], '10057667': ['Bipolar disorder', 'bipolar disorder'], '10042464': ['Suicide attempt', 'suicide attempt', 'attempted suicide', 'suicidal attempt'], '10029164': ['Nephrotic syndrome', 'nephrotic syndrome'], '10012431': ['Dermatitis', 'dermatitis', 'acrodermatitis'], '10015226': ['Erythema nodosum', 'erythema nodosum'], '10043570': ['Thrombophlebitis', 'thrombophlebitis'], '10047115': ['Vasculitis', 'vasculitis'], '10019973': ['Herpes virus infection', 'herpes infections', 'herpetic infections', 'infections herpes', 'herpes'], '10024968': ['Lower respiratory tract infection', 'lower respiratory tract infections', 'lower respiratory tract infection'], '10013453': ['Disseminated tuberculosis', 'miliary tb', 'tuberculosis disseminated'], '10025183': ['Lymph node tuberculosis', 'lymphatic tb'], '10053583': ['Peritoneal tuberculosis', 'peritoneal tb'], '10037440': ['Pulmonary tuberculosis', 'pulmonary tb', 'pulmonary tuberculosis'], '10060055': ['Antinuclear antibody positive', 'ana titers positive', 'ana', 'newly ana-positive'], '10050551': ['Lupus-like syndrome', 'lupus-like syndrome'], '10022061': ['Injection site erythema', 'injection site erythema', 'injection-site erythema'], '10013578': ['Dizziness postural', 'dizziness postural', 'postural dizziness'], '10040400': ['Serum sickness', 'serum sickness'], '10042772': ['Syncope', 'vasovagal syncope', 'syncope', 'fainting'], '10039486': ['Sarcoidosis', 'sarcoidosis'], '10064445': ['Extrapulmonary tuberculosis', 'tuberculosis extrapulmonary', 'extrapulmonary tb'], '10020141': ['Histoplasmosis', 'histoplasmosis'], '10009825': ['Coccidioidomycosis', 'coccidioidomycosis'], '10005098': ['Blastomycosis', 'blastomycosis'], '10020144': ['Histoplasmosis disseminated', 'histoplasmosis disseminated'], '10061266': ['Legionella infection', 'infections legionella'], '10024641': ['Listeriosis', 'infections listeria'], '10053840': ['Bacterial sepsis', 'bacterial sepsis'], '10012305': ['Demyelination', 'demyelinating disease', 'demyelinating disease exacerbation', 'demyelinating disease new onset', 'new onset central nervous system demyelinating disorders', 'new onset cns demyelinating disorders', 'exacerbation of central nervous system demyelinating disorders', 'exacerbation of cns demyelinating disorders', 'central demyelination'], '10066274': ['Cytopenia', 'cytopenias', 'cytopenia'], '10025310': ['Lymphoma', 'lymphomas', 'lymphoma'], '10020206': [\"Hodgkin's disease\", 'hodgkin lymphoma', \"hodgkin's lymphoma\"], '10029547': [\"Non-Hodgkin's lymphoma\", \"non-hodgkin's lymphoma\"], '10066957': ['Hepatosplenic T-cell lymphoma', 'hepatosplenic t-cell lymphoma', 'hstcl'], '10061590': ['Blood disorder', 'adverse reactions of the hematologic system', 'blood disorders'], '10061664': ['Autoimmune disorder', 'formation of autoantibodies', 'autoimmune disorders'], '10021328': ['Ileus', 'ileus'], '10033318': ['Oxygen saturation decreased', 'decreased oxygen saturation'], '10069675': ['Ventilation perfusion mismatch', 'pulmonary shunting'], '10040984': ['Sleep disorder', 'sleep disorder', 'sleep disorders'], '10019842': ['Hepatomegaly', 'hepatomegaly'], '10041660': ['Splenomegaly', 'splenomegaly'], '10025487': ['Malaria', 'malaria'], '10035500': ['Plasmodium falciparum infection', 'plasmodium falciparum infection'], '10034341': ['Peptic ulcer', 'peptic ulcer'], '10000269': ['Abscess', 'abscess'], '10061201': ['Helminthic infection', 'helminthic infection'], '10020376': ['Hookworm infection', 'hookworm infection'], '10021531': ['Impetigo', 'impetigo'], '10067152': ['Oral herpes', 'oral herpes'], '10042343': ['Subcutaneous abscess', 'subcutaneous abscess'], '10018838': ['Haematocrit decreased', 'hematocrit decreased', 'low hematocrit', 'hematocrit below the extended normal range'], '10062047': ['Lymphocyte morphology abnormal', 'lymphocyte morphology abnormal'], '10051608': ['Platelet count increased', 'platelet count increased', 'increased platelet count', 'high platelet counts', 'increases in platelet counts'], '10047943': ['White blood cell count increased', 'white blood cell count increased', 'high wbc counts', 'wbc counts > 100,000 x 10 6 /l', 'wbc increased'], '10009346': ['Clonus', 'clonus'], '10066088': ['Fine motor delay', 'fine motor delay'], '10020745': ['Hyperreflexia', 'hyperreflexia'], '10020937': ['Hypoaesthesia', 'hypoesthesia', 'hypoaesthesia'], '10027951': ['Mood swings', 'mood swings'], '10018867': ['Haematuria', 'hematuria'], '10012441': ['Dermatitis bullous', 'bullous eruption', 'bullous skin disorders', 'skin bullous lesions', 'bullous lesions', 'bullous skin reactions', 'bullous rash', 'bullous exanthema', 'dermal bullous manifestations'], '10076705': ['Perforation', 'perforations'], '10016717': ['Fistula', 'fistula', 'fistulas', 'fistula formation', 'non-gi fistulas'], '10061169': ['Embolism', 'thromboembolic events', 'thromboembolic complications', 'thromboembolic arterial events', 'cardiovascular thromboembolic events'], '10064658': ['Osteonecrosis of jaw', 'osteonecrosis of the jaw', 'onj'], '10071066': ['Posterior reversible encephalopathy syndrome', 'reversible posterior leukoencephalopathy syndrome', 'rpls', 'posterior reversible encephalopathy syndrome', 'pres'], '10031009': ['Oral pain', 'oral pain'], '10019030': ['Hair colour changes', 'hair color changes', 'hair color depigmentation', 'hair color graying'], '10020947': ['Hypocalcaemia', 'hypocalcemia', 'symptomatic hypocalcemia', 'hypocalcemia exacerbated'], '10020578': ['Hyperbilirubinaemia', 'hyperbilirubinemia', 'indirect hyperbilirubinemia'], '10065787': ['Tracheal fistula', 'tracheal fistula formation', 'fistulas tracheal'], '10005833': ['Blood thyroid stimulating hormone increased', 'increased levels of thyroid stimulating hormone', 'elevations of tsh', 'tsh increased'], '10050819': ['Musculoskeletal chest pain', 'musculoskeletal chest pain'], '10020649': ['Hyperkeratosis', 'hyperkeratosis'], '10065918': ['Prehypertension', 'pre-hypertension'], '10018001': ['Gastrointestinal perforation', 'gastrointestinal perforations', 'gi perforations', 'gastrointestinal perforation'], '10018964': ['Haemoptysis', 'hemoptysis'], '10017877': ['Gastrointestinal fistula', 'gastrointestinal fistulas', 'gi fistulas', 'gi fistula', 'gastrointestinal fistula'], '10065835': ['Oesophageal fistula', 'fistulas esophageal'], '10014522': ['Embolism venous', 'venous thromboembolism', 'vte', 'venous thromboembolic events', 'embolic and thrombotic events, venous', 'thromboembolic venous events'], '10014513': ['Embolism arterial', 'arterial thromboembolism', 'arterial thromboembolic events', 'ates'], '10031252': ['Osteomyelitis', 'osteomyelitis'], '10031149': ['Osteitis', 'osteitis'], '10051728': ['Bone erosion', 'bone erosion'], '10048762': ['Tooth infection', 'tooth infection'], '10034539': ['Periodontitis', 'periodontal infection'], '10044055': ['Toothache', 'toothache'], '10018282': ['Gingival erosion', 'gingival erosion'], '10067275': ['Vasogenic cerebral oedema', 'subcortical vasogenic edema'], '10052293': ['Haemorrhagic anaemia', 'hemorrhagic anemia'], '10034754': ['Petechiae', 'petechiae'], '10043563': ['Thrombocytosis', 'thrombocytosis'], '10027141': ['Melaena', 'melena'], '10018836': ['Haematochezia', 'hematochezia', 'blood in stool'], '10002216': ['Anaphylactoid reaction', 'anaphylactoid reaction', 'anaphylactoid reactions', 'anaphylactoid'], '10009657': ['Clostridium difficile colitis', 'clostridium difficile colitis', 'clostridium difficile -associated diarrhea', 'cdad'], '10064899': ['Vulvovaginal mycotic infection', 'vulvovaginal mycotic infection', 'vulvovaginal mycotic infections', 'vaginal mycotic infection'], '10022595': ['International normalised ratio increased', 'international normalized ratio increased'], '10051373': ['Wound haemorrhage', 'wound hemorrhage'], '10065304': ['Spontaneous haematoma', 'spontaneous hematoma'], '10038192': ['Red man syndrome', 'red-man syndrome'], '10001547': ['Alanine aminotransferase abnormal', 'abnormalities in alt', 'alanine aminotransferase abnormal', 'alt abnormalities', 'abnormalities of alt'], '10003477': ['Aspartate aminotransferase abnormal', 'abnormalities in ast', 'ast abnormalities', 'abnormalities of ast'], '10058477': ['Blood bilirubin abnormal', 'abnormalities in bilirubin', 'abnormalities of total bilirubin', 'abnormalities of bilirubin'], '10000060': ['Abdominal distension', 'abdominal distension', 'abdominal distention'], '10000097': ['Abdominal tenderness', 'abdominal tenderness'], '10027110': ['Megacolon', 'megacolon'], '10027417': ['Metabolic acidosis', 'metabolic acidosis'], '10050082': ['Injection site coldness', 'injection site coldness'], '10006784': ['Burning sensation', 'burning sensation'], '10068318': ['Oropharyngeal discomfort', 'oropharyngeal discomfort'], '10022078': ['Injection site inflammation', 'injection site inflammation'], '10022062': ['Injection site extravasation', 'injection site extravasation'], '10022093': ['Injection site pruritus', 'injection site pruritus', 'injection site itching'], '10022112': ['Injection site warmth', 'injection site warmth'], '10038669': ['Respiratory arrest', 'respiratory arrest'], '10011703': ['Cyanosis', 'cyanosis'], '10023891': ['Laryngospasm', 'laryngospasm'], '10030041': ['Ocular hyperaemia', 'ocular hyperemia', 'red eye'], '10023644': ['Lacrimation increased', 'lacrimation increased', 'increased lacrimation', 'lacrimation'], '10010071': ['Coma', 'coma', 'hyperosmolar coma'], '10036653': ['Presyncope', 'presyncope'], '10034018': ['Parosmia', 'parosmia'], '10062575': ['Muscle contracture', 'muscle contracture'], '10028372': ['Muscular weakness', 'muscle weakness', 'muscular weakness', 'generalized muscle weakness', 'weaken neck muscles', 'progressive weakness on one side of the body'], '10039424': ['Salivary hypersecretion', 'salivary hypersecretion'], '10034902': ['Phlebitis superficial', 'superficial phlebitis'], '10067467': ['Nephrogenic systemic fibrosis', 'nephrogenic systemic fibrosis', 'nsf'], '10016642': ['Fibrosis', 'fibrosis'], '10075535': ['Respiratory symptom', 'respiratory manifestations'], '10075531': ['Cutaneous symptom', 'cutaneous manifestations'], '10009192': ['Circulatory collapse', 'circulatory collapse'], '10075941': ['Administration site irritation', 'administration tissue irritation', 'administration irritation'], '10017626': ['Gallbladder disorder', 'gallbladder disease'], '10038908': ['Retinal vein thrombosis', 'retinal vein thrombosis', 'retinal-vein thrombosis'], '10014733': ['Endometrial cancer', 'endometrial cancer'], '10012267': ['Dementia', 'dementia'], '10062108': ['Retinal vascular thrombosis', 'retinal vascular thrombosis'], '10006187': ['Breast cancer', 'breast cancer', 'tumors worsened breast', 'malignancies to the breast'], '10033128': ['Ovarian cancer', 'ovarian cancer'], '10051420': ['Thyroxin binding globulin increased', 'increased thyroid-binding globulin levels', 'increased tbg levels', 'increased tbg', 'increased thyroid-binding globulin', 'elevated tbg'], '10037070': ['Prothrombin time shortened', 'accelerated prothrombin time'], '10000637': ['Activated partial thromboplastin time shortened', 'accelerated partial thromboplastin time'], '10035518': ['Platelet aggregation increased', 'accelerated platelet aggregation time'], '10037051': ['Prothrombin level increased', 'increased factors ii'], '10009770': ['Coagulation factor VIII level increased', 'increased factors viii coagulant activity'], '10009748': ['Coagulation factor IX level increased', 'increased factors ix'], '10009776': ['Coagulation factor X level increased', 'increased factors x'], '10009784': ['Coagulation factor XII level increased', 'increased factors xii'], '10049547': ['Antithrombin III decreased', 'decreased levels of antithrombin iii', 'decreased antithrombin iii activity', 'decreased anti-thrombin iii'], '10005521': ['Blood fibrinogen increased', 'increased levels of fibrinogen', 'increased levels of fibrinogen activity'], '10059618': ['Plasminogen activator inhibitor increased', 'increased plasminogen antigen'], '10035495': ['Plasminogen increased', 'increased plasminogen activity'], '10063161': ['Thyroid hormones increased', 'increased circulating total thyroid hormone'], '10043818': ['Thyroxine increased', 'increased t4 levels'], '10044596': ['Tri-iodothyronine increased', 'increased t3 levels'], '10044601': ['Tri-iodothyronine uptake decreased', 't3 resin uptake decreased'], '10072935': ['Corticosteroid binding globulin increased', 'elevated corticosteroid binding globulin', 'elevated cbg'], '10059659': ['Sex hormone binding globulin increased', 'elevated sex hormone-binding globulin', 'elevated shbg'], '10020610': ['Hypercorticoidism', 'increased total circulating corticosteroids', 'increased mineralocorticoid levels'], '10005688': ['Blood oestrogen increased', 'increased total circulating sex steroids'], '10005814': ['Blood testosterone decreased', 'testosterone decreased'], '10030229': ['Oestradiol decreased', 'estradiol decreased'], '10037016': ['Protein total increased', 'plasma proteins increased'], '10001808': ['Alpha-1 anti-trypsin increased', 'increased alpha-1-antitrypsin'], '10008219': ['Ceruloplasmin increased', 'increased ceruloplasmin'], '10020061': ['High density lipoprotein increased', 'increased plasma high-density lipoprotein', 'increased hdl', 'increased hdl2 cholesterol subfraction concentrations'], '10024909': ['Low density lipoprotein decreased', 'reduced low-density lipoprotein cholesterol concentrations', 'reduced ldl cholesterol concentrations'], '10018429': ['Glucose tolerance impaired', 'impaired glucose tolerance', 'glucose intolerance'], '10011033': ['Corneal oedema', 'corneal edema'], '10052129': ['Ciliary hyperaemia', 'ciliary hyperemia', 'limbal hyperemia'], '10034960': ['Photophobia', 'photophobia', 'light sensitivity'], '10036346': ['Posterior capsule opacification', 'posterior capsule opacification'], '10053781': ['Anterior chamber cell', 'anterior chamber cells'], '10052127': ['Anterior chamber flare', 'anterior chamber flare'], '10010726': ['Conjunctival oedema', 'conjunctival edema'], '10005148': ['Blepharitis', 'blepharitis'], '10047531': ['Visual acuity reduced', 'reduced visual acuity', 'decreased visual acuity', 'visual acuity loss', 'abnormal visual acuity'], '10037508': ['Punctate keratitis', 'punctate keratitis'], '10015943': ['Eye inflammation', 'eye inflammation', 'intraocular inflammation', 'acute eye inflammation', 'worsening eye inflammation'], '10022955': ['Iritis', 'iritis'], '10063072': ['Application site discomfort', 'application site discomfort'], '10003046': ['Application site irritation', 'application site irritation'], '10011040': ['Corneal pigmentation', 'corneal pigmentation'], '10052118': ['Corneal striae', 'corneal striae'], '10015084': ['Episcleritis', 'episcleritis'], '10057385': ['Eyelid irritation', 'eyelid irritation'], '10052132': ['Eyelid margin crusting', 'eyelid crusting'], '10061549': ['Sensation of foreign body', 'foreign body sensation'], '10025415': ['Macular oedema', 'macular edema'], '10059096': ['Scleral hyperaemia', 'sclera hyperemia'], '10022806': ['Intraocular pressure increased', 'increased iop', 'intraocular pressure increase', 'iop increase', 'increased intraocular pressure', 'intraocular pressure increased', 'increases in intraocular pressure', 'acute increases in intraocular pressure'], '10013774': ['Dry eye', 'dry eye', 'dry eyes'], '10022941': ['Iridocyclitis', 'iridocyclitis'], '10054266': ['Injection site discomfort', 'injection site discomfort'], '10015916': ['Eye disorder', 'eye disorders', 'eye disorder'], '10015995': ['Eyelid ptosis', 'eyelid ptosis', 'ptosis'], '10000389': ['Accommodation disorder', 'reduced visual accommodation', 'accommodation disorder'], '10061130': ['Eyelid disorder', 'eyelid disorder'], '10016322': ['Feeling abnormal', 'feeling abnormal'], '10051267': ['Facial paresis', 'facial paresis'], '10028289': ['Muscle atrophy', 'muscle atrophy'], '10019301': ['Heart rate decreased', 'reduction in heart rate', 'heart rate decrease', 'decline in heart rate', 'heart rates below 40 beats per minute', 'decrease in heart rate', 'heart rate less than 50 beats per minute', 'heart rate of less than 50 beats per minute'], '10018870': ['Blood urine present', 'blood present in urine', 'blood urine present'], '10074586': ['Injection site hypoaesthesia', 'injection site numbness'], '10022088': ['Injection site paraesthesia', 'injection site tingling'], '10053425': ['Injection site swelling', 'injection site swelling', 'swelling of the injected hand'], '10012442': ['Dermatitis contact', 'contact dermatitis', 'allergic contact dermatitis', 'irritant dermatitis'], '10061334': ['Partial seizures', 'partial seizures'], '10050584': ['Contusion', 'contusion', 'bruising'], '10020852': ['Hypertonia', 'hypertonia'], '10013082': ['Discomfort', 'sensation of heaviness', 'discomfort', 'sensation of pressure'], '10022004': ['Influenza like illness', 'influenza-like illness', 'flu-like illness', 'influenza-like symptoms', 'flu-like symptoms'], '10002027': ['Amyotrophy', 'amyotrophy'], '10063560': ['Excessive granulation tissue', 'excessive granulation tissue'], '10046543': ['Urinary incontinence', 'urinary incontinence'], '10011384': ['Creutzfeldt-Jakob disease', 'creutzfeldt-jakob disease', 'cjd'], '10003504': ['Aspiration', 'aspiration'], '10044100': ['Total lung capacity decreased', 'loss of breathing capacity'], '10031127': ['Orthostatic hypotension', 'orthostatic hypotension', 'systolic orthostatic hypotension'], '10038153': ['Red blood cell count decreased', 'low rbc counts', 'rbc decreased'], '10035526': ['Platelet count abnormal', 'abnormal platelet counts'], '10047940': ['White blood cell count abnormal', 'abnormal wbc counts'], '10030289': ['Oligohydramnios', 'oligohydramnios'], '10037407': ['Pulmonary hypoplasia', 'fetal lung hypoplasia'], '10010356': ['Congenital anomaly', 'fetal skeletal deformations', 'birth defects'], '10028934': ['Neonatal disorder', 'neonatal adverse effects'], '10027534': ['Microcephaly', 'neonatal skull hypoplasia'], '10049778': ['Neonatal anuria', 'neonatal anuria'], '10049223': ['Neonatal hypotension', 'neonatal hypotension'], '10038447': ['Renal failure neonatal', 'neonatal renal failure'], '10011912': ['Death neonatal', 'neonatal death'], '10062237': ['Renal impairment', 'changes in renal function', 'impairment in renal function', 'renal-related adverse reactions', 'renal impairment-related adverse reaction', 'adverse renal function', 'renal impairment', 'renal function decline', 'renal-related adverse events', 'renal function abnormalities', 'impaired renal function', 'renal adverse events', 'deteriorating renal function', 'renal function impairment', 'new onset renal impairment', 'worsening renal impairment', 'renal adverse reactions', 'renal adverse reaction', 'renal function declined'], '10018985': ['Haemorrhage intracranial', 'bleeding intracranial', 'intracranial bleed', 'intracranial bleeding', 'ich', 'intracranial hemorrhage', 'hemorrhage intracranial'], '10048992': ['Spinal cord haemorrhage', 'bleeding intraspinal'], '10015926': ['Eye haemorrhage', 'bleeding intraocular', 'ocular hemorrhage', 'eye hemorrhage'], '10034476': ['Pericardial haemorrhage', 'bleeding pericardial', 'pericardial bleeding'], '10018829': ['Haemarthrosis', 'bleeding intra-articular', 'bleeding into an operated joint', 'intra-articular bleeding'], '10028309': ['Muscle haemorrhage', 'bleeding intramuscular', 'muscle hemorrhage'], '10038980': ['Retroperitoneal haemorrhage', 'bleeding retroperitoneal', 'retroperitoneal bleeding'], '10010121': ['Compartment syndrome', 'compartment syndrome'], '10008111': ['Cerebral haemorrhage', 'intracerebral bleeding', 'cerebral hemorrhage', 'intracerebral bleeds'], '10022840': ['Intraventricular haemorrhage', 'intraventricular bleeding', 'intraventricular hemorrhage'], '10042364': ['Subdural haemorrhage', 'subdural bleeding', 'subdural bleeds'], '10042316': ['Subarachnoid haemorrhage', 'subarachnoid bleeding', 'subarachnoid bleeds'], '10019016': ['Haemorrhagic stroke', 'hemorrhagic stroke', 'hemorrhagic strokes', 'haemorrhagic stroke'], '10050953': ['Lower gastrointestinal haemorrhage', 'lower gi bleeding', 'lower gastrointestinal hemorrhage'], '10038063': ['Rectal haemorrhage', 'rectal bleeding', 'rectal hemorrhage'], '10060934': ['Allergic oedema', 'allergic edema'], '10071229': ['Procedural haemorrhage', 'surgical site bleeding', 'operative hemorrhage'], '10048861': ['Anaemia postoperative', 'postoperative anemia'], '10018852': ['Haematoma', 'hematoma', 'hematomas'], '10049710': ['Urethral haemorrhage', 'urethral hemorrhage'], '10051077': ['Post procedural haemorrhage', 'postprocedural hemorrhage', 'post procedural hemorrhage'], '10063188': ['Post procedural haematoma', 'postprocedural hematoma'], '10065902': ['Vessel puncture site haematoma', 'vessel puncture site hematoma', 'vessel puncture-site hematoma'], '10051099': ['Catheter site haemorrhage', 'catheter site hemorrhage'], '10062300': ['Procedural hypotension', 'procedural hypotension'], '10018830': ['Haematemesis', 'hematemesis', 'haematemesis'], '10048629': ['Wound secretion', 'wound secretion'], '10051100': ['Incision site haemorrhage', 'incision-site hemorrhage'], '10059241': ['Incision site haematoma', 'incision-site hematoma'], '10018276': ['Gingival bleeding', 'gingival bleeding', 'gingival hemorrhage'], '10010719': ['Conjunctival haemorrhage', 'conjunctival hemorrhage'], '10054787': ['Haemorrhoidal haemorrhage', 'hemorrhoidal hemorrhage'], '10049555': ['Anal haemorrhage', 'anal hemorrhage'], '10044522': ['Traumatic haematoma', 'traumatic hematoma'], '10034544': ['Periorbital haematoma', 'periorbital hematoma'], '10027295': ['Menometrorrhagia', 'menometrorrhagia'], '10061178': ['Genital haemorrhage', 'genital hemorrhage'], '10014080': ['Ecchymosis', 'ecchymosis', 'ecchymoses'], '10064265': ['Skin haemorrhage', 'skin hemorrhage'], '10061880': ['Occult blood positive', 'occult blood positive'], '10061878': ['Occult blood', 'occult blood'], '10038182': ['Red blood cells urine positive', 'red blood cells urine positive'], '10076051': ['Spinal cord haematoma', 'spinal hematoma', 'spinal hematomas'], '10015769': ['Extradural haematoma', 'epidural hematoma', 'epidural hematomas'], '10033799': ['Paralysis', 'long-term paralysis', 'permanent paralysis'], '10070840': ['Gastrointestinal tract irritation', 'increased sensitivity to the gastrointestinal tract'], '10016334': ['Feeling hot', 'feeling hot', 'warmth'], '10038683': ['Respiratory disorder', 'respiratory disorders', 'respiratory effects', 'acute exacerbation of respiratory compromise'], '10001540': ['Akathisia', 'akathisia'], '10006578': ['Bundle branch block', 'bundle branch block', 'temporary bundle branch block'], '10030973': ['Oral discomfort', 'oral discomfort'], '10005620': ['Blood iron increased', 'elevation of serum iron'], '10041232': ['Sneezing', 'sneezing'], '10033546': ['Pallor', 'pallor'], '10038743': ['Restlessness', 'restlessness'], '10040560': ['Shock', 'shock'], '10053613': ['Type IV hypersensitivity reaction', 'hypersensitivity delayed reactions'], '10062688': ['Transaminases abnormal', 'transaminases abnormal'], '10024769': ['Local reaction', 'local reactions', 'local tolerability reaction'], '10000059': ['Abdominal discomfort', 'abdominal discomfort', 'stomach discomfort', 'gastrointestinal complaints', 'gastrointestinal discomfort'], '10009802': ['Coagulopathy', 'coagulopathy'], '10061216': ['Infarction', 'infarct'], '10023379': ['Ketoacidosis', 'ketoacidosis'], '10072043': ['Central nervous system haemorrhage', 'cns hemorrhage'], '10008138': ['Cerebral venous thrombosis', 'cerebral venous thrombosis'], '10033650': ['Pancreatitis haemorrhagic', 'hemorrhagic pancreatitis'], '10042567': ['Superior sagittal sinus thrombosis', 'sagittal sinus thrombosis'], '10009736': ['Coagulation factor decreased', 'coagulation proteins decreased'], '10005520': ['Blood fibrinogen decreased', 'decreased fibrinogen'], '10037005': ['Protein C decreased', 'decreased protein c activity'], '10051120': ['Protein S decreased', 'decreased protein s activity'], '10014801': ['Endophthalmitis', 'endophthalmitis'], '10038848': ['Retinal detachment', 'retinal detachments', 'retinal detachment'], '10007739': ['Cataract', 'cataract', 'cataracts', 'non-congenital cataracts'], '10047654': ['Vitreous floaters', 'vitreous floaters'], '10047650': ['Vitreous detachment', 'vitreous detachment'], '10011010': ['Corneal epithelium defect', 'corneal epithelium defect'], '10052501': ['Detachment of retinal pigment epithelium', 'detachment of the retinal pigment epithelium', 'retinal pigment epithelial detachments', 'rped'], '10051116': ['Foreign body sensation in eyes', 'foreign body sensation in eyes'], '10062971': ['Retinal pigment epithelial tear', 'retinal pigment epithelium tear'], '10038897': ['Retinal tear', 'retinal tear'], '10028735': ['Nasal congestion', 'nasal congestion'], '10052904': ['Musculoskeletal stiffness', 'musculoskeletal stiffness'], '10015832': ['Extrapyramidal disorder', 'extrapyramidal disorder', 'eps', 'eps-related adverse events', 'extrapyramidal symptoms', 'eps-related events'], '10014328': ['Ejaculation failure', 'ejaculation failure'], '10006100': ['Bradykinesia', 'bradykinesia'], '10013916': ['Dyskinesia', 'dyskinesia', 'involuntary movements', 'dyskinesias'], '10013983': ['Dystonia', 'dystonia', 'dystonic symptoms', 'acute dystonia'], '10034010': ['Parkinsonism', 'parkinsonism'], '10022972': ['Iron deficiency anaemia', 'iron deficiency anemia'], '10003671': ['Atrioventricular block', 'atrioventricular block', 'atrioventricular blocks', '2:1 av blocks', '2:1 av block', 'av block'], '10007556': ['Cardiac failure acute', 'cardiac failure acute'], '10021114': ['Hypothyroidism', 'hypothyroidism'], '10010744': ['Conjunctivitis allergic', 'conjunctivitis allergic'], '10015967': ['Eye swelling', 'eye swelling'], '10024214': ['Lenticular opacities', 'lenticular opacities', 'non-congenital lens opacities'], '10020565': ['Hyperaemia', 'hyperemia'], '10016092': ['Faecal incontinence', 'fecal incontinence'], '10013836': ['Duodenal ulcer', 'duodenal ulcer'], '10020028': ['Hiatus hernia', 'hiatus hernia'], '10020601': ['Hyperchlorhydria', 'hyperchlorhydria'], '10043458': ['Thirst', 'thirst'], '10020843': ['Hyperthermia', 'hyperthermia'], '10029368': ['Neutrophil count increased', 'neutrophil count increased'], '10021654': ['Increased appetite', 'increased appetite', 'appetite increased'], '10044074': ['Torticollis', 'torticollis'], '10037211': ['Psychomotor hyperactivity', 'psychomotor hyperactivity'], '10058920': ['Restless legs syndrome', 'restless legs syndrome'], '10012239': ['Delusion', 'delusion'], '10020400': ['Hostility', 'hostility'], '10024419': ['Libido decreased', 'libido decreased'], '10033864': ['Paranoia', 'paranoia'], '10002652': ['Anorgasmia', 'anorgasmia'], '10026749': ['Mania', 'mania', 'activation of mania'], '10007776': ['Catatonia', 'catatonia', 'catatonic signs'], '10006550': ['Bulimia nervosa', 'bulimia nervosa'], '10012218': ['Delirium', 'delirium'], '10036069': ['Polydipsia psychogenic', 'polydipsia psychogenic'], '10061215': ['Impulse-control disorder', 'impulse-control disorder'], '10057840': ['Major depression', 'major depression'], '10013990': ['Dysuria', 'dysuria', 'discomfort with urination'], '10036018': ['Pollakiuria', 'pollakiuria', 'increased urination', 'urinary frequency'], '10014928': ['Enuresis', 'enuresis'], '10029148': ['Nephrolithiasis', 'nephrolithiasis'], '10046555': ['Urinary retention', 'urinary retention', 'worsening of urinary retention'], '10061461': ['Erectile dysfunction', 'erectile dysfunction', 'penile detumescence', 'detumescence'], '10043345': ['Testicular pain', 'testicular pain'], '10006298': ['Breast pain', 'breast pain'], '10018800': ['Gynaecomastia', 'gynecomastia'], '10055870': ['Postmenopausal haemorrhage', 'postmenopausal hemorrhage'], '10036978': ['Prostatitis', 'prostatitis'], '10040742': ['Sinus congestion', 'sinus congestion'], '10028740': ['Nasal dryness', 'nasal dryness'], '10013789': ['Dry throat', 'dry throat'], '10040979': ['Sleep apnoea syndrome', 'sleep apnea syndrome'], '10038967': ['Retrograde ejaculation', 'retrograde ejaculation'], '10029282': ['Neuroleptic malignant syndrome', 'neuroleptic malignant syndrome', 'nms'], '10043118': ['Tardive dyskinesia', 'tardive dyskinesia'], '10058108': ['Dyslipidaemia', 'dyslipidemia'], '10058097': ['Metabolic disorder', 'metabolic changes'], '10036661': ['Priapism', 'priapism'], '10061296': ['Motor dysfunction', 'motor impairment', 'impair motor skills', 'loss of motor function'], '10008196': ['Cerebrovascular disorder', 'cerebrovascular adverse events', 'cerebrovascular event'], '10020741': ['Hyperpyrexia', 'hyperpyrexia'], '10028330': ['Muscle rigidity', 'muscle rigidity', 'rigidity'], '10048294': ['Mental status changes', 'altered mental status', 'mental status changes'], '10003840': ['Autonomic nervous system imbalance', 'autonomic instability'], '10019304': ['Heart rate irregular', 'irregular pulse'], '10005746': ['Blood pressure fluctuation', 'irregular blood pressure'], '10028629': ['Myoglobinuria', 'myoglobinuria'], '10039020': ['Rhabdomyolysis', 'rhabdomyolysis'], '10001507': ['Agranulocytosis', 'agranulocytosis'], '10005780': ['Blood prolactin increased', 'elevates prolactin levels', 'plasma prolactin levels increase', 'elevated plasma prolactin levels', 'prolactin elevation', 'blood prolactin increased', 'prolactin elevations', 'increase in prolactin levels', 'increases in prolactin levels', 'elevate prolactin levels'], '10020737': ['Hyperprolactinaemia', 'hyperprolactinemia', 'long-standing hyperprolactinemia'], '10005562': ['Blood gonadotrophin decreased', 'suppress hypothalamic gnrh', 'reduced pituitary gonadotropin secretion'], '10074268': ['Reproductive toxicity', 'inhibit reproductive function'], '10058359': ['Hypogonadism', 'impairing gonadalsteroidogenesis', 'hypogonadism', 'impairing gonadal steroidogenesis'], '10017600': ['Galactorrhoea', 'galactorrhea'], '10023236': ['Judgement impaired', 'impair judgment'], '10043431': ['Thinking abnormal', 'impair thinking', 'changes in thinking'], '10061180': ['Genital infection fungal', 'genital mycotic infections', 'fungal genital infection', 'genital mycotic infection', 'genital infection fungal', 'genital infections fungal', 'mycotic genital infections'], '10024910': ['Low density lipoprotein increased', 'increases in low-density lipoprotein cholesterol', 'increased ldl-c', 'increases in ldl-c', 'increases in low-density lipoprotein', 'increased low-density lipoprotein cholesterol', 'increase in low-density lipoprotein cholesterol', 'ldl-c increased', 'elevations in fasting serum ldl', 'elevations in fasting serum low density lipoproteins', 'ldl cholesterol >= 190 mg/dl', 'low density lipoprotein increased', 'ldl increased'], '10005003': ['Bladder cancer', 'bladder cancer', 'bladder cancers'], '10061977': ['Genital infection female', 'female genital mycotic infections', 'genital mycotic infections females', 'females genital mycotic infections'], '10046914': ['Vaginal infection', 'vaginal infection'], '10047784': ['Vulvovaginal candidiasis', 'vulvovaginal candidiasis'], '10047794': ['Vulvovaginitis', 'vulvovaginitis'], '10048461': ['Genital infection', 'genital infection'], '10018143': ['Genital candidiasis', 'genital candidiasis'], '10047780': ['Vulvitis', 'vulvitis'], '10061182': ['Genitourinary tract infection', 'genitourinary tract infection'], '10047732': ['Vulval abscess', 'vulval abscess'], '10062167': ['Vaginitis bacterial', 'vaginitis bacterial'], '10052238': ['Escherichia urinary tract infection', 'escherichia urinary tract infection'], '10044668': ['Trigonitis', 'trigonitis'], '10046480': ['Urethritis', 'urethritis'], '10023424': ['Kidney infection', 'kidney infection'], '10036142': ['Polyuria', 'polyuria', 'osmotic diuresis'], '10059896': ['Urine output increased', 'urine output increased'], '10062521': ['Genital infection male', 'genital mycotic infections males', 'genital infection male', 'male genital mycotic infections', 'males genital mycotic infections'], '10004078': ['Balanoposthitis', 'balanitis', 'balanoposthitis', 'posthitis'], '10004074': ['Balanitis candida', 'balanitis candida', 'candidal balanitis'], '10061912': ['Penile infection', 'penile infection'], '10067741': ['Balanoposthitis infective', 'balanoposthitis infective'], '10021137': ['Hypovolaemia', 'reductions in intravascular volume', 'volume depletion', 'hypovolemia', 'intravascular volume contraction', 'volume depletion-related adverse reactions', 'volume depletion-related adverse reaction'], '10017076': ['Fracture', 'bone fractures', 'fractures', 'fracture', 'bone fracture', 'non-pathologic fractures', 'non-pathological fracture'], '10005555': ['Blood glucose decreased', 'capillary glucose value <54 mg/dl', 'plasma glucose value <54 mg/dl', 'capillary glucose measurement <63 mg/dl', 'plasma glucose measurement <63 mg/dl', 'plasma glucose of less than or equal to 70 mg/dl', 'capillary glucose of less than or equal to 70 mg/dl', 'plasma glucose concentration <=70 mg/dl'], '10018840': ['Haematocrit increased', 'increases in mean hematocrit values', 'hematocrit values >55%', 'increase in hematocrit', 'hematocrit increased'], '10049221': ['Haematocrit abnormal', 'changes in hematocrit'], '10050196': ['Blood phosphorus increased', 'increases in mean serum phosphorus levels', 'increases in serum phosphate', 'serum phosphate levels increased'], '10020711': ['Hyperphosphataemia', 'hyperphosphatemia'], '10024588': ['Lipids abnormal', 'changes in mean lipid values', 'lipid metabolic effects', 'lipid abnormalities'], '10005423': ['Blood cholesterol abnormal', 'changes for total cholesterol', 'abnormalities of fasting cholesterol'], '10024901': ['Low density lipoprotein abnormal', 'changes for ldl cholesterol', 'changes in ldl-c'], '10008796': ['Chromaturia', 'chromaturia'], '10005867': ['Blood zinc decreased', 'decreased plasma zinc concentrations'], '10003285': ['Arthropathy', 'arthropathy', 'inflammatory arthropathy'], '10021093': ['Hypospadias', 'hypospadias'], '10033712': ['Papilloedema', 'papilledema'], '10048955': ['Retinal toxicity', 'retinal toxicity'], '10017822': ['Gastric ulcer', 'gastric ulcer'], '10034023': ['Parotid gland enlargement', 'parotid gland enlargement'], '10023126': ['Jaundice', 'jaundice'], '10054216': ['Cryptococcal cutaneous infection', 'cryptococcal cutaneous infection'], '10063946': ['Encephalitis enteroviral', 'enteroviral encephalitis'], '10017553': ['Furuncle', 'furuncle'], '10019780': ['Hepatitis infectious', 'infectious hepatitis'], '10037888': ['Rash pustular', 'rash pustular', 'local skin pustulation', 'skin pustulation'], '10061762': ['Chondropathy', 'chondropathy'], '10044684': ['Trismus', 'trismus'], '10008072': ['Cerebellar syndrome', 'cerebellar syndrome'], '10022773': ['Intracranial pressure increased', 'intracranial pressure increased'], '10049215': ['Psychomotor skills impaired', 'psychomotor skills impaired'], '10063636': ['Pyramidal tract syndrome', 'pyramidal tract syndrome'], '10006514': ['Bruxism', 'bruxism'], '10018473': ['Glycosuria', 'glycosuria', 'abnormalities of glycosuria'], '10018906': ['Haemoglobinuria', 'hemoglobinuria'], '10034545': ['Periorbital oedema', 'periorbital edema'], '10034972': ['Photosensitivity reaction', 'photosensitivity reaction', 'photosensitivity-related adverse reactions', 'photosensitivity'], '10019617': ['Henoch-Schonlein purpura', 'henoch-schonlein purpura'], '10018262': ['Giardiasis', 'giardiasis'], '10004685': ['Bilirubin conjugated increased', 'increased conjugated bilirubin'], '10005370': ['Blood bilirubin unconjugated increased', 'increased unconjugated blood bilirubin'], '10019974': ['Herpes zoster', 'herpes zoster'], '10064882': ['Procedural pain', 'procedural pain'], '10048908': ['Seasonal allergy', 'seasonal allergy'], '10037884': ['Rash pruritic', 'rash pruritic', 'pruritic rash'], '10031118': ['Oropharyngeal swelling', 'oropharyngeal swelling'], '10049765': ['Bradyarrhythmia', 'bradyarrhythmia'], '10004146': ['Basal cell carcinoma', 'basal cell carcinoma'], '10056131': ['Tinea versicolour', 'tinea versicolor'], '10000614': ['Actinic keratosis', 'actinic keratosis'], '10040907': ['Skin papilloma', 'skin papilloma'], '10014184': ['Eczema', 'eczema'], '10059245': ['Angiopathy', 'vascular events', 'vascular disorders', 'angiopathy'], '10061256': ['Ischaemic stroke', 'ischemic strokes', 'ischemic stroke'], '10062585': ['Peripheral arterial occlusive disease', 'peripheral arterial occlusive disease'], '10003674': ['Atrioventricular block first degree', 'atrioventricular conduction', 'av conduction delays', 'first-degree av block', 'first degree av block'], '10061922': ['Pulmonary function test decreased', 'decrease in pulmonary function tests', 'decrease in pft'], '10003677': ['Atrioventricular block second degree', 'second-degree av blocks', 'av blocks mobitz types i', 'av blocks wenckebach'], '10010276': ['Conduction disorder', 'conduction abnormalities'], '10003673': ['Atrioventricular block complete', 'third-degree av block'], '10029470': ['Nodal rhythm', 'junctional escape', 'nodal rhythm'], '10065038': ['Herpes zoster disseminated', 'disseminated primary herpes zoster'], '10019953': ['Herpes simplex encephalitis', 'herpes simplex encephalitis'], '10019948': ['Herpes simplex', 'herpes simplex infections', 'herpes simplex'], '10014581': ['Encephalitis', 'encephalitis'], '10011486': ['Cryptococcal infections', 'cryptococcal infections'], '10027209': ['Meningitis cryptococcal', 'cryptococcal meningitis'], '10013050': ['Disability', 'disability'], '10061598': ['Immunodeficiency', 'compromised immune system'], '10009696': ['Clumsiness', 'clumsiness of limbs'], '10034719': ['Personality change', 'personality changes', 'personality change'], '10016987': ['Forced expiratory volume decreased', 'reductions in forced expiratory volume over 1 second', 'reductions in fev1', 'reduction for fev1'], '10065906': ['Carbon monoxide diffusing capacity decreased', 'reductions in diffusion lung capacity for carbon monoxide', 'reductions in dlco', 'dlco reduction', 'decrease of dlco'], '10016985': ['Forced expiratory volume abnormal', 'changes in fev1'], '10040844': ['Skin exfoliation', 'exfoliative skin disorders', 'exfoliating lesions', 'local skin flaking', 'local skin scaling', 'skin flaking', 'skin scaling', 'skin exfoliation', 'peeling skin'], '10023332': ['Keratitis', 'keratitis'], '10034016': ['Paronychia', 'paronychia'], '10059056': ['Ventricular dysfunction', 'ventricular dysfunction'], '10052337': ['Diastolic dysfunction', 'diastolic dysfunction'], '10049694': ['Left ventricular dysfunction', 'left ventricular dysfunction'], '10013012': ['Dilatation ventricular', 'ventricular dilation'], '10064594': ['Oral mucosa erosion', 'oral mucosa erosion'], '10061297': ['Mucosal erosion', 'mucosal erosion'], '10028124': ['Mucosal ulceration', 'mucosal ulceration'], '10000513': ['Acne pustular', 'acne pustular'], '10061304': ['Nail infection', 'nail infection'], '10061303': ['Nail bed infection', 'nail bed infection'], '10008417': ['Cheilitis', 'cheilitis'], '10005191': ['Blister', 'skin blistering lesions', 'blistering lesions', 'skin vesiculation'], '10012455': ['Dermatitis exfoliative', 'skin exfoliating lesions', 'exfoliative dermatitis', 'dermatitis exfoliative'], '10001890': ['Alveolitis allergic', 'alveolitis allergic'], '10041658': ['Splenic rupture', 'splenic rupture'], '10040642': ['Sickle cell anaemia with crisis', 'sickle cell crisis', 'sickle cell crises'], '10018873': ['Haemoconcentration', 'hemoconcentration'], '10028980': ['Neoplasm', 'growth factor for tumor', 'tumors'], '10028561': ['Myeloid metaplasia', 'myeloid malignancies'], '10028533': ['Myelodysplastic syndrome', 'myelodysplasia', 'myelodysplastic syndrome'], '10036105': ['Polyneuropathy', 'polyneuropathy'], '10049151': ['Neutropenic sepsis', 'neutropenic sepsis'], '10022998': ['Irritability', 'irritability'], '10016330': ['Feeling drunk', 'feeling drunk'], '10006242': ['Breast enlargement', 'breast enlargement'], '10052302': ['Impaired work ability', 'impair ability to operate complex machinery'], '10006279': ['Breast neoplasm', 'tumors breast'], '10061019': ['Brain neoplasm', 'tumors brain', 'tumors worsened brain'], '10062042': ['Lung neoplasm', 'tumors lung'], '10061588': ['Adrenal neoplasm', 'tumors adrenal'], '10014737': ['Endometrial cancer stage 0', 'endometrial carcinoma in situ'], '10060862': ['Prostate cancer', 'tumors worsened prostate', 'prostate cancers'], '10060921': ['Abdominal abscess', 'intra-abdominal abscess'], '10060931': ['Adenovirus infection', 'adenovirus'], '10050167': ['Lymph node abscess', 'lymph node abscess'], '10047482': ['Viral upper respiratory tract infection', 'viral upper respiratory tract infection'], '10011831': ['Cytomegalovirus infection', 'infections cytomegalovirus', 'cytomegalovirus', 'cytomegalovirus infection', 'infections cmv', 'cytomegalovirus infections', 'cmv infections', 'infection cmv'], '10061663': ['Atypical mycobacterial infection', 'atypical mycobacterial infections'], '10011968': ['Decreased immune responsiveness', 'interfere with normal immune response'], '10039801': ['Second primary malignancy', 'second primary malignancies', 'second malignancies', 'second primary malignancy'], '10040872': ['Skin infection', 'skin infections', 'skin infection', 'secondary infections of the skin'], '10042361': ['Subdural haematoma', 'subdural hematoma', 'subdural hematomas'], '10005861': ['Blood uric acid increased', 'elevated uric acid levels'], '10020903': ['Hyperuricaemia', 'hyperuricemia'], '10023572': ['Laceration', 'laceration', 'skin laceration', 'skin tear'], '10003662': ['Atrial flutter', 'atrial flutter', 'atrial flutter with 1:1 atrioventricular conduction'], '10070531': ['Foetal growth restriction', 'reduced fetal weights'], '10043709': ['Thyroid disorder', 'thyroid dysfunction'], '10038907': ['Retinal vein occlusion', 'retinal-vein occlusion', 'retinal vein occlusion'], '10036051': ['Polycythaemia', 'polycythemia'], '10002016': ['Amylase increased', 'amylase increased', 'blood amylase increased', 'amylase >2.0 * uln', 'increased amylase', 'increases in pancreatic amylase', 'elevations of amylase'], '10020679': ['Hypernatraemia', 'hypernatremia'], '10018888': ['Haemoglobin increased', 'hemoglobin increased', 'hemoglobin above the upper limit of normal'], '10020583': ['Hypercalcaemia', 'hypercalcemia'], '10020802': ['Hypertensive crisis', 'hypertensive crisis'], '10047249': ['Venous thrombosis', 'venous thrombotic events', 'venous thrombosis', 'thrombotic venous events'], '10038827': ['Retinal artery occlusion', 'retinal artery occlusion'], '10020850': ['Hyperthyroidism', 'hyperthyroidism'], '10005169': ['Blindness', 'blindness', 'vision loss', 'visual loss'], '10038776': ['Retching', 'retching'], '10041052': ['Sluggishness', 'sluggishness'], '10018916': ['Haemolytic anaemia', 'hemolytic anemia'], '10019708': ['Hepatic steatosis', 'hepatic steatosis', 'steatosis'], '10065042': ['Immune reconstitution inflammatory syndrome', 'immune reconstitution syndrome'], '10000125': ['Abnormal dreams', 'abnormal dreams'], '10029412': ['Nightmare', 'nightmares'], '10062315': ['Lipohypertrophy', 'lipohypertrophy', 'dorsocervical fat enlargement', 'buffalo hump'], '10037083': ['Prurigo', 'prurigo'], '10042682': ['Swelling face', 'swelling face', 'facial swelling'], '10049287': ['Lipodystrophy acquired', 'acquired lipodystrophy'], '10053159': ['Organ failure', 'organ dysfunction'], '10048474': ['Fat redistribution', 'redistribution of body fat', 'fat redistribution'], '10055164': ['Body fat disorder', 'accumulation of body fat'], '10024604': ['Lipoatrophy', 'body fat peripheral wasting'], '10065941': ['Central obesity', 'central obesity'], '10056866': ['Facial wasting', 'facial wasting'], '10011655': ['Cushingoid', 'cushingoid appearance'], '10061218': ['Inflammation', 'inflammatory response'], '10058806': ['Mycobacterium avium complex infection', 'mycobacterium avium infection'], '10004161': [\"Basedow's disease\", \"graves' disease\"], '10036102': ['Polymyositis', 'polymyositis'], '10018767': ['Guillain-Barre syndrome', 'guillain-barre syndrome'], '10056530': ['Vulvovaginal pruritus', 'vulvovaginal pruritus'], '10033649': ['Pancreatitis chronic', 'pancreatitis chronic'], '10036087': ['Polymorphic light eruption', 'polymorphic light eruption'], '10042496': ['Sunburn', 'sunburn'], '10005481': ['Blood creatinine abnormal', 'changes in serum creatinine', 'changes in creatinine levels'], '10018356': ['Glomerular filtration rate abnormal', 'changes in egfr'], '10034878': ['Phimosis', 'phimosis'], '10061394': ['Upper limb fracture', 'fractures upper extremities'], '10005655': ['Blood magnesium increased', 'increases in serum magnesium', 'serum magnesium levels increased'], '10005652': ['Blood magnesium abnormal', 'change in serum magnesium levels'], '10054823': ['Blood phosphorus abnormal', 'change in serum phosphate levels'], '10063967': ['Non-high-density lipoprotein cholesterol increased', 'increases in non-hdl-c'], '10018879': ['Haemoglobin abnormal', 'changes in hemoglobin'], '10056396': ['Asymptomatic bacteriuria', 'asymptomatic bacteriuria'], '10008323': ['Cervicitis', 'cervicitis'], '10065582': ['Urogenital infection fungal', 'urogenital infection fungal'], '10029446': ['Nocturia', 'nocturia'], '10049571': ['Scrotal abscess', 'scrotal abscess'], '10036067': ['Polydipsia', 'polydipsia'], '10005734': ['Blood pressure decreased', 'blood pressure decreased', 'transient decreases in sitting blood pressure'], '10005758': ['Blood pressure systolic decreased', 'blood pressure systolic decreased'], '10017944': ['Gastrointestinal disorder', 'gastrointestinal adverse reactions', 'gastrointestinal disorders', 'gastrointestinal symptoms', 'gastrointestinal events', 'gi reactions', 'gi adverse reactions', 'gastrointestinal reactions', 'gi events', 'gastrointestinal disease'], '10059482': ['Neutropenic infection', 'neutropenic infections'], '10014418': ['Electrolyte imbalance', 'electrolyte imbalance'], '10029984': ['Obstructive uropathy', 'obstructive uropathy'], '10022013': ['Ingrowing nail', 'ingrown toenails', 'ingrown toenail'], '10003036': ['Application site dermatitis', 'application site dermatitis'], '10048941': ['Application site vesicles', 'application site vesicles', 'skin reactions in the treated area vesiculation', 'application site blisters'], '10003051': ['Application site pain', 'application site pain', 'application-associated pain'], '10022107': ['Injection site urticaria', 'injection site urticaria'], '10043521': ['Throat irritation', 'throat irritation'], '10059421': ['Bacterial test positive', 'bacteria in sputum'], '10040744': ['Sinus headache', 'sinus headache'], '10057009': ['Pharyngeal erythema', 'pharyngeal erythema'], '10035623': ['Pleuritic pain', 'pleuritic pain'], '10048610': ['Cardiotoxicity', 'cardiac toxicities'], '10043648': ['Thrombotic thrombocytopenic purpura', 'thrombotic thrombocytopenic purpura', 'ttp'], '10018932': ['Haemolytic uraemic syndrome', 'hemolytic uremic syndrome', 'hus'], '10034607': ['Peripheral neuropathies NEC', 'peripheral neuropathies nec'], '10058179': ['Hypertensive emergency', 'hypertensive emergency'], '10054996': ['Infusion site reaction', 'infusion site reaction', 'infusion site reactions'], '10011878': ['Deafness', 'deafness'], '10061818': ['Disease progression', 'disease progression'], '10035226': ['Plasma cell myeloma', 'multiple myeloma'], '10061024': ['Cardiac disorder', 'cardiac disorders', 'acute exacerbation of cardiac compromise', 'exacerbation of cardiac compromise', 'cardiac risk'], '10038428': ['Renal disorder', 'renal disorders'], '10050528': ['Ejection fraction decreased', 'decreased ejection fraction', 'decrease in lvef', 'absolute decrease in lvef'], '10038748': ['Restrictive cardiomyopathy', 'restrictive cardiomyopathy'], '10064911': ['Pulmonary arterial hypertension', 'pulmonary arterial hypertension', 'pah'], '10043089': ['Tachypnoea', 'tachypnea'], '10028347': ['Muscle twitching', 'muscle twitching'], '10051093': ['Cardiopulmonary failure', 'acute cardiorespiratory failure', 'cardiorespiratory failure'], '10024648': ['Livedo reticularis', 'livedo reticularis'], '10037833': ['Rales', 'rales'], '10038731': ['Respiratory tract irritation', 'respiratory tract irritation'], '10009866': ['Cold sweat', 'cold sweat'], '10043528': ['Throat tightness', 'throat tightness', 'tightness of the throat'], '10024770': ['Local swelling', 'local swelling'], '10016803': ['Fluid overload', 'fluid overload'], '10021143': ['Hypoxia', 'hypoxia'], '10034568': ['Peripheral coldness', 'peripheral coldness'], '10042241': ['Stridor', 'stridor'], '10002974': ['Apnoea', 'apnea'], '10020705': ['Hyperparathyroidism', 'hyperparathyroidism'], '10018372': ['Glomerulonephritis membranous', 'membranous glomerulonephritis'], '10040893': ['Skin necrosis', 'necrotizing skin lesions', 'skin necrosis', 'dermal necrotic manifestations'], '10049418': ['Sudden cardiac death', 'sudden cardiac death'], '10053614': ['Type III immune complex mediated reaction', 'type iii immune-mediated reactions'], '10049187': ['Red blood cell sedimentation rate increased', 'elevated erythrocyte sedimentation rate'], '10013678': ['Drug effect decreased', 'reduced clinical efficacy'], '10003550': ['Asthenic conditions', 'asthenic conditions'], '10020764': ['Hypersensitivity vasculitis', 'leukocytoclastic vasculitis'], '10049993': ['Cardiac death', 'cardiovascular death', 'cardiovascular death arrhythmic', 'cardiovascular deaths'], '10000804': ['Acute hepatic failure', 'acute liver failure', 'fulminant hepatic failure'], '10001017': ['Acute prerenal failure', 'pre-renal azotemia'], '10013908': ['Dysfunctional uterine bleeding', 'irregular uterine bleeding', 'dysfunctional uterine bleeding'], '10006313': ['Breast tenderness', 'breast tenderness'], '10027940': ['Mood altered', 'mood changes', 'mood altered'], '10012374': ['Depressed mood', 'depressed mood'], '10013982': ['Dysthymic disorder', 'dysthymic disorder'], '10011469': ['Crying', 'crying'], '10049872': ['Breast discomfort', 'breast discomfort'], '10069195': ['Abnormal withdrawal bleeding', 'abnormal withdrawal bleeding'], '10046788': ['Uterine haemorrhage', 'uterine hemorrhage', 'uterine bleeding'], '10054196': ['Affect lability', 'affect lability'], '10033136': ['Ovarian cyst ruptured', 'ruptured ovarian cyst'], '10052285': ['Focal nodular hyperplasia', 'focal nodular hyperplasia of the liver'], '10046798': ['Uterine leiomyoma', 'uterine leiomyoma'], '10008614': ['Cholecystitis acute', 'acute cholecystitis'], '10008132': ['Cerebral thrombosis', 'cerebral thrombosis'], '10008570': ['Chloasma', 'chloasma'], '10061023': ['Carbohydrate metabolism disorder', 'carbohydrate metabolic effects'], '10019629': ['Hepatic adenoma', 'rupture of hepatic adenomas'], '10061249': ['Intra-abdominal haemorrhage', 'intra-abdominal hemorrhage'], '10030295': ['Oligomenorrhoea', 'oligomenorrhea'], '10003041': ['Application site erythema', 'application site erythema', 'skin reactions in the treated area erythema'], '10051358': ['Post transplant lymphoproliferative disorder', 'ptld', 'post-transplant lymphoproliferative disorder', 'non-cnsptld'], '10065381': ['Polyomavirus-associated nephropathy', 'polyoma virus nephropathy', 'bk virus-associated nephropathy', 'polyoma virus-associated nephropathy', 'pvan'], '10074860': ['Transplant dysfunction', 'graft dysfunction'], '10061036': ['Central nervous system infection', 'cns infections'], '10010185': ['Complications of transplanted kidney', 'complications of transplanted kidney'], '10017543': ['Fungal skin infection', 'skin fungal infections'], '10057366': ['Human polyomavirus infection', 'infections polyoma virus'], '10001935': ['American trypanosomiasis', 'chagas encephalitis'], '10051597': ['Cerebral aspergillosis', 'cerebral aspergillosis'], '10057293': ['West Nile viral infection', 'west nile encephalitis'], '10038540': ['Renal tubular necrosis', 'renal tubular necrosis', 'acute tubular necrosis'], '10063209': ['Chronic allograft nephropathy', 'chronic allograft nephropathy'], '10003192': ['Arteriovenous fistula thrombosis', 'arteriovenous fistula thrombosis'], '10038378': ['Renal artery stenosis', 'renal artery stenosis'], '10020524': ['Hydronephrosis', 'hydronephrosis'], '10021866': ['Infection susceptibility increased', 'increased susceptibility to infection'], '10074495': ['Renal transplant failure', 'kidney graft loss'], '10044439': ['Transplant rejection', 'acute rejection graft', 'graft rejections', 'post-transplant acute rejection', 'graft rejection'], '10048748': ['Graft loss', 'graft loss'], '10055181': ['BK virus infection', 'bk virus infection'], '10012335': ['Dependence', 'physical dependence'], '10013663': ['Drug dependence', 'psychological dependence'], '10013642': ['Drooling', 'drooling'], '10021113': ['Hypothermia', 'hypothermia'], '10002942': ['Apathy', 'apathy'], '10019063': ['Hallucination', 'hallucination', 'hallucinations'], '10038678': ['Respiratory depression', 'respiratory depression'], '10024558': ['Lip oedema', 'lip edema'], '10043269': ['Tension headache', 'tension headache'], '10017367': ['Frequent bowel movements', 'frequent bowel movement', 'frequent bowel movements', 'frequent stools'], '10044016': ['Tooth abscess', 'tooth abscess'], '10016936': ['Folliculitis', 'folliculitis'], '10003053': ['Application site pruritus', 'application site pruritus'], '10049041': ['Application site infection', 'application site infection'], '10039509': ['Scab', 'local skin crusting', 'skin crusting'], '10053262': ['Skin swelling', 'local skin swelling', 'skin swelling'], '10040840': ['Skin erosion', 'local skin erosion', 'skin erosion'], '10040943': ['Skin ulcer', 'local skin ulceration', 'skin ulceration', 'dermal ulceration'], '10055116': ['Chemical eye injury', 'chemical conjunctivitis'], '10015911': ['Eye burns', 'corneal burn'], '10066209': ['Application site scab', 'skin reactions in the treated area crusting'], '10053424': ['Application site swelling', 'skin reactions in the treated area swelling', 'application site swelling'], '10049044': ['Application site pustules', 'skin reactions in the treated area postulation'], '10065577': ['Application site erosion', 'skin reactions in the treated area erosion', 'application site excoriation'], '10003059': ['Application site ulcer', 'skin reactions in the treated area ulceration'], '10038853': ['Retinal disorder', 'retinal abnormalities', 'abnormalities of the retina'], '10040829': ['Skin discolouration', 'skin discoloration'], '10013752': ['Drug withdrawal convulsions', 'withdrawal seizures'], '10061920': ['Psychotic disorder', 'psychotic disorder', 'psychosis'], '10046542': ['Urinary hesitation', 'urinary hesitation'], '10028622': ['Myoclonus', 'myoclonus'], '10021021': ['Hypokinesia', 'hypokinesia'], '10015535': ['Euphoric mood', 'euphoric mood'], '10038419': ['Renal colic', 'renal colic'], '10038857': ['Retinal dystrophy', 'retinal abnormalities similar to retinal pigment dystrophies', 'retinal abnormalities similar to pigment dystrophies', 'funduscopic features similar to retinal pigment dystrophies', 'retinal dystrophy'], '10057430': ['Retinal injury', 'damage to the photoreceptors', 'damage to photoreceptors'], '10038845': ['Retinal degeneration', 'retinal pigmentary abnormalities', 'focal retinal pigment epithelium clumping'], '10039696': ['Scleral discolouration', 'scleral discoloration', 'discoloration of the sclera'], '10028692': ['Nail discolouration', 'nail discoloration'], '10054877': ['Mucosal discolouration', 'mucous membrane discoloration'], '10038894': ['Retinal pigmentation', 'perivascular pigmentation in the retinal periphery', 'perivascular pigmentation bone spicule pattern in the retinal periphery'], '10059663': ['Retinogram abnormal', 'abnormalities in the electroretinogram'], '10014456': ['Electrooculogram abnormal', 'abnormalities in electrooculogram'], '10060956': ['Angiogram abnormal', 'abnormal fluorescein angiography'], '10047555': ['Visual field defect', 'diminished sensitivity on visual field', 'visual field defect'], '10030996': ['Oral mucosal discolouration', 'discoloration of the palate'], '10010712': ['Conjunctival discolouration', 'discoloration of the conjunctiva'], '10024549': ['Lip discolouration', 'lip discoloration'], '10075267': ['Skin texture abnormal', 'skin abnormalities'], '10037249': ['Psychotic behaviour', 'psychotic symptoms', 'psychotic behavior'], '10019075': ['Hallucination, visual', 'visual hallucinations'], '10019070': ['Hallucination, auditory', 'auditory hallucinations'], '10019079': ['Hallucinations, mixed', 'mixed hallucinations'], '10053155': ['Epigastric discomfort', 'epigastric discomfort'], '10030216': ['Oesophagitis', 'esophagitis'], '10017865': ['Gastritis erosive', 'erosive gastritis'], '10017866': ['Gastritis haemorrhagic', 'hemorrhagic gastritis'], '10067786': ['Haemorrhagic erosive gastritis', 'hemorrhagic erosive gastritis'], '10061459': ['Gastrointestinal ulcer', 'gastrointestinal ulcer'], '10030201': ['Oesophageal ulcer', 'esophageal ulcer'], '10053748': ['Cardiac valve replacement complication', 'prosthetic heart valve thrombosis'], '10014498': ['Embolic stroke', 'thromboembolic stroke'], '10040108': ['Serotonin syndrome', 'serotonin syndrome'], '10019009': ['Haemorrhagic disorder', 'abnormal bleeding'], '10002500': ['Angle closure glaucoma', 'angle closure glaucoma', 'angle-closure glaucoma', 'angle closure attack', 'worsening of narrow-angle glaucoma'], '10021030': ['Hypomania', 'hypomania', 'activation of hypomania'], '10013754': ['Drug withdrawal syndrome', 'discontinuation syndrome'], '10014962': ['Eosinophilic pneumonia', 'eosinophilic pneumonia'], '10057672': ['Male sexual dysfunction', 'male sexual function disorders'], '10016338': ['Feeling jittery', 'feeling jittery'], '10048232': ['Yawning', 'yawning'], '10028521': ['Mydriasis', 'mydriasis'], '10040477': ['Sexual dysfunction', 'sexual function adverse reactions', 'sexual dysfunction'], '10031085': ['Orgasm abnormal', 'orgasm abnormal'], '10014325': ['Ejaculation delayed', 'ejaculation delayed'], '10014326': ['Ejaculation disorder', 'ejaculation disorder'], '10012357': ['Depersonalisation', 'depersonalization'], '10011086': ['Coronary artery occlusion', 'coronary occlusion'], '10010264': ['Condition aggravated', 'clinical worsening'], '10023533': ['Labile blood pressure', 'labile blood pressure'], '10029323': ['Neuromyopathy', 'neuromuscular symptoms'], '10053198': ['Inappropriate antidiuretic hormone secretion', 'syndrome of inappropriate antidiuretic hormone secretion', 'siadh'], '10016454': ['Femur fracture', 'atypical subtrochanteric femoral fractures', 'atypical diaphyseal femoral fractures', 'femoral atypical fractures of the shaft', 'fractures in the femoral shaft'], '10041591': ['Spinal osteoarthritis', 'spinal osteoarthritis'], '10039674': ['Sciatica', 'sciatica'], '10056519': ['Abdominal infection', 'infections in the abdomen', 'infections of the abdomen'], '10014665': ['Endocarditis', 'endocarditis'], '10015145': ['Erysipelas', 'erysipelas'], '10070884': ['Atypical femur fracture', 'atypical femoral fractures', 'atypical femoral fracture'], '10018160': ['Genital neoplasm malignant female', 'malignancies to the reproductive system'], '10017940': ['Gastrointestinal carcinoma', 'malignancies to the gastrointestinal system'], '10005703': ['Blood parathyroid hormone increased', 'elevation in serum pth', 'elevations of serum parathyroid hormone'], '10063000': ['Low turnover osteopathy', 'suppression of bone turnover'], '10005954': ['Bone development abnormal', 'suppression of bone remodeling'], '10072395': ['Atypical fracture', 'atypical fractures'], '10036206': ['Portal vein thrombosis', 'portal vein thromboses', 'portal vein thrombosis', 'pvt', 'portal venous thrombosis'], '10047626': ['Vitamin D deficiency', 'vitamin d deficiency'], '10067477': ['Cytogenetic abnormality', 'cytogenetic abnormality'], '10008817': ['Chromosome analysis abnormal', 'changes in chromosome 7'], '10043645': ['Thrombotic microangiopathy', 'thrombotic microangiopathy'], '10003445': ['Ascites', 'ascites'], '10019713': ['Hepatic vein thrombosis', 'thrombotic events of the portal venous system'], '10049043': ['Application site papules', 'application site papules'], '10003055': ['Application site reaction', 'application site reactions', 'application site reactions sublingual area'], '10003050': ['Application site oedema', 'application site edema'], '10048943': ['Application site dryness', 'application site dryness'], '10050104': ['Application site urticaria', 'application site urticaria'], '10050103': ['Application site paraesthesia', 'application site paresthesia'], '10050100': ['Application site hyperaesthesia', 'application site hyperesthesia'], '10003060': ['Application site warmth', 'application site warmth'], '10003033': ['Application site anaesthesia', 'application site anesthesia'], '10050114': ['Application site bruise', 'application site bruising'], '10049042': ['Application site inflammation', 'application site inflammation'], '10064578': ['Application site exfoliation', 'application site exfoliation', 'application site peeling', 'application site sloughing'], '10020568': ['Hyperaesthesia', 'hyperesthesia'], '10040904': ['Skin odour abnormal', 'abnormal skin odor', 'skin odor abnormal'], '10052076': ['Haemodynamic instability', 'hemodynamic effects'], '10057371': ['Hypoaesthesia oral', 'oral hypoesthesia'], '10057372': ['Paraesthesia oral', 'oral paresthesia', 'oral paraesthesia'], '10020651': ['Hyperkinesia', 'hyperkinesia'], '10030071': ['Oculogyric crisis', 'oculogyration'], '10005159': ['Blepharospasm', 'blepharospasm'], '10026863': ['Masked facies', 'masked facies'], '10050820': ['Oral dysaesthesia', 'oral dysesthesia'], '10000084': ['Abdominal pain lower', 'abdominal pain lower'], '10060378': ['Hyperinsulinaemia', 'hyperinsulinemia'], '10005614': ['Blood insulin increased', 'blood insulin increased'], '10050031': ['Muscle strain', 'muscle strain'], '10002368': ['Anger', 'anger'], '10004939': ['Bipolar I disorder', 'bipolar i disorder'], '10054089': ['Depressive symptom', 'depressive symptoms'], '10037076': ['Protrusion tongue', 'protrusion of the tongue', 'protrusion tongue'], '10067954': ['Oromandibular dystonia', 'oromandibular dystonia'], '10028293': ['Muscle contractions involuntary', 'muscle contractions involuntary'], '10005779': ['Blood prolactin decreased', 'decreases in prolactin levels', 'decrease in prolactin'], '10049998': ['Idiosyncratic drug reaction', 'idiosyncratic drug reaction'], '10008589': ['Choking', 'choking'], '10070912': ['Pharyngeal dyskinesia', 'oropharyngeal muscular dysfunction'], '10049040': ['Weight fluctuation', 'weight change', 'changes in body weight'], '10005778': ['Blood prolactin abnormal', 'abnormal prolactin levels'], '10005911': ['Body temperature increased', 'body temperature increases'], '10052314': ['Lymphatic disorder', 'lymphatic disorders'], '10025650': ['Malignant melanoma', 'melanoma', 'primary malignant melanomas', 'primary melanoma'], '10000830': ['Acute leukaemia', 'acute leukemia'], '10008943': ['Chronic leukaemia', 'chronic leukemia'], '10042971': ['T-cell lymphoma', 'rare type of t-cell lymphoma'], '10029266': ['Neuroendocrine carcinoma of the skin', 'merkel cell carcinoma'], '10028245': ['Multiple sclerosis', 'multiple sclerosis', 'ms'], '10061811': ['Demyelinating polyneuropathy', 'peripheral demyelinating disorders', 'peripheral demyelinating polyneuropathy'], '10002967': ['Aplastic anaemia', 'aplastic anemia'], '10002388': ['Angina unstable', 'unstable angina'], '10015120': ['Erection increased', 'erection increased'], '10014363': ['Electrocardiogram abnormal', 'electrocardiogram abnormal', 'ecg abnormal'], '10023676': ['Lactic acidosis', 'lactic acidosis'], '10059193': ['Acute hepatitis B', 'acute exacerbations of hepatitis b', 'acute exacerbation of hepatitis b'], '10005956': ['Bone disorder', 'bone effects'], '10058117': ['Ocular icterus', 'ocular icterus'], '10040865': ['Skin hyperpigmentation', 'hyperpigmentation on the palms', 'hyperpigmentation on the soles'], '10050676': ['Red blood cells urine', 'urine rbc'], '10011372': ['Creatinine renal clearance decreased', 'decrease estimated creatinine clearance', 'decreases in estimated creatinine clearance', 'declines in estimated creatinine clearance'], '10059571': ['Blood alkaline phosphatase abnormal', 'abnormalities of alkaline phosphatase'], '10005554': ['Blood glucose abnormal', 'abnormalities of serum glucose'], '10061313': ['Neutrophil count abnormal', 'abnormalities of neutrophils'], '10005837': ['Blood triglycerides abnormal', 'abnormalities of fasting triglycerides'], '10031250': ['Osteomalacia', 'osteomalacia'], '10028641': ['Myopathy', 'myopathy'], '10016219': ['Fanconi syndrome', 'fanconi syndrome'], '10038537': ['Renal tubular disorder', 'proximal renal tubulopathy', 'renal tubular injury', 'proximal renal tubular dysfunction'], '10048302': ['Tubulointerstitial nephritis', 'interstitial nephritis', 'interstitial nephritis acute', 'tubulointerstitial nephritis'], '10029147': ['Nephrogenic diabetes insipidus', 'nephrogenic diabetes insipidus'], '10062624': ['High turnover osteopathy', 'increased bone turnover'], '10007269': ['Carcinogenicity', 'tumor promotion in braf wild-type melanoma'], '10007636': ['Cardiomyopathy', 'cardiomyopathy'], '10061137': ['Ocular toxicity', 'ocular toxicities'], '10059516': ['Skin toxicity', 'skin toxicity'], '10018444': ['Glucose-6-phosphate dehydrogenase deficiency', 'glucose-6-phosphate dehydrogenase deficiency'], '10033713': ['Papilloma', 'papilloma'], '10041834': ['Squamous cell carcinoma of skin', 'cuscc', 'squamous cell carcinoma of the skin', 'cutaneous squamous cell carcinoma', 'cutaneous squamous cell carcinomas', 'scc'], '10023347': ['Keratoacanthoma', 'keratoacanthoma', 'keratoacanthomas'], '10025282': ['Lymphoedema', 'lymphedema'], '10006145': ['Brain stem haemorrhage', 'brain stem hemorrhage'], '10047655': ['Vitreous haemorrhage', 'vitreous hemorrhage'], '10005184': ['Blindness transient', 'transient blindness'], '10052747': ['Adenocarcinoma pancreas', 'kras mutation-positive pancreatic adenocarcinoma'], '10061451': ['Colorectal cancer', 'recurrent nras mutation-positive colorectal carcinoma'], '10018336': ['Glioblastoma', 'glioblastoma'], '10043744': ['Thyroid neoplasm', 'thyroid c-cell tumors'], '10022094': ['Injection site rash', 'injection site rash', 'injection-site rash'], '10022071': ['Injection site hypersensitivity', 'injection site hypersensitivity'], '10003011': ['Appendicitis', 'appendicitis'], '10027105': ['Medullary thyroid cancer', 'medullary thyroid carcinoma', 'mtc'], '10001582': ['Albumin urine present', 'albumin urine present'], '10014945': ['Eosinophil count increased', 'increase in mean eosinophil counts'], '10010933': ['Coombs direct test positive', \"direct coombs' test seroconversion\", \"seroconversion from a negative to a positive direct coombs' test result\", \"seroconverted from a negative to a positive direct coombs' test result\"], '10013538': ['Diverticulitis', 'diverticulitis'], '10023003': ['Irritable bowel syndrome', 'irritable bowel syndrome'], '10061877': ['Obstructive airways disorder', 'airway obstruction'], '10058046': ['Post procedural complication', 'central nervous system effects', 'acute respiratory complications'], '10015866': ['Extravasation', 'extravasation injury', 'extravasation', 'extravasations'], '10052268': ['Catheter site pain', 'catheter site pain'], '10018910': ['Haemolysis', 'hemolysis'], '10022090': ['Injection site phlebitis', 'injection site phlebitis'], '10053663': ['Infusion site phlebitis', 'infusion site phlebitis'], '10053664': ['Infusion site pruritus', 'infusion site pruritus'], '10065473': ['Infusion site irritation', 'infusion site irritation'], '10053505': ['Infusion site swelling', 'infusion site swelling'], '10049673': ['Precancerous cells present', 'pre-malignant diseases'], '10057970': ['Toxic skin eruption', 'toxic skin reactions', 'toxic skin eruption', 'toxicoderma'], '10028576': ['Myeloproliferative disorder', 'myeloproliferative disorders'], '10000880': ['Acute myeloid leukaemia', 'acute myeloid leukemia'], '10006417': ['Bronchial carcinoma', 'bronchial carcinoma'], '10042674': ['Swelling', 'swelling'], '10049939': ['Faecal volume increased', 'fecal volume increased'], '10047708': ['Vomiting projectile', 'vomiting projectile'], '10017999': ['Gastrointestinal pain', 'gastrointestinal pain'], '10015137': ['Eructation', 'eructation'], '10040752': ['Sinus tachycardia', 'sinus tachycardia', 'persistence of sinus tachycardia'], '10045240': ['Type I hypersensitivity', 'immediate hypersensitivity reactions'], '10031161': ['Osteoarthritis', 'osteoarthritis'], '10007617': ['Cardio-respiratory arrest', 'cardio-respiratory arrest', 'cardiorespiratory arrest'], '10074585': ['Application site hypoaesthesia', 'application site hypoesthesia'], '10037632': ['Pyoderma', 'pyoderma'], '10049796': ['Excoriation', 'excoriation'], '10053615': ['Thermal burn', 'thermal burn'], '10011859': ['Dandruff', 'dandruff'], '10012373': ['Depressed level of consciousness', 'central nervous system depression'], '10074667': ['Immune thrombocytopenic purpura', 'idiopathic thrombocytopenic purpura'], '10007586': ['Cardiac murmur', 'cardiac murmur'], '10040741': ['Sinus bradycardia', 'sinus bradycardia'], '10026865': ['Mass', 'mass'], '10003246': ['Arthritis', 'arthritis'], '10023230': ['Joint stiffness', 'joint stiffness'], '10023232': ['Joint swelling', 'joint swelling'], '10049816': ['Muscle tightness', 'muscle tightness'], '10019465': ['Hemiparesis', 'hemiparesis'], '10050515': ['Hyposmia', 'hyposmia'], '10051078': ['Lacunar infarction', 'lacunar infarction'], '10027374': ['Mental impairment', 'mental impairment'], '10027566': ['Micturition urgency', 'urinary urgency'], '10057392': ['Paranasal sinus hypersecretion', 'paranasal sinus hypersecretion'], '10052251': ['Respiratory tract congestion', 'respiratory tract congestion'], '10068773': ['Mechanical urticaria', 'dermographism'], '10019044': ['Hair growth abnormal', 'hair growth abnormal'], '10037549': ['Purpura', 'purpura', 'dermal hemorrhagic manifestations'], '10062080': ['Pigmentation disorder', 'skin altered pigmentation'], '10005464': ['Blood creatine increased', 'creatine increased'], '10005803': ['Blood sodium increased', 'sodium increased'], '10014408': ['Electroencephalogram abnormal', 'eeg abnormal'], '10027004': ['Mean cell volume increased', 'mcv increased'], '10005851': ['Blood urea increased', 'blood urea increased'], '10050760': ['Blood urea nitrogen/creatinine ratio increased', 'bun/creatinine ratio increased'], '10036975': ['Prostatic specific antigen increased', 'psa increased'], '10059895': ['Urine output decreased', 'urine output decreased'], '10063557': ['Coagulation test abnormal', 'coagulation test abnormal'], '10037063': ['Prothrombin time prolonged', 'prothrombin time prolonged'], '10067534': ['Urinary casts present', 'urinary casts'], '10047967': ['White blood cells urine positive', 'urine positive for white blood cells'], '10018627': ['Gout', 'gout flare', 'gout flares'], '10047518': ['Vision disorders', 'vision disorders', 'vision disorder'], '10012671': ['Diabetic ketoacidosis', 'diabetic ketoacidosis'], '10029223': ['Neuralgia', 'neuralgia'], '10040026': ['Sensory disturbance', 'sensory disturbance'], '10038423': ['Renal cyst', 'renal cyst', 'renal cysts', 'renal cysts complex'], '10013886': ['Dysaesthesia', 'dysesthesia'], '10054786': ['Skin burning sensation', 'burning sensation in skin'], '10034962': ['Photopsia', 'photopsia'], '10011732': ['Cyst', 'local cystic invasion beyond the kidney'], '10030910': ['Optic atrophy', 'optic atrophy'], '10061322': ['Optic nerve disorder', 'optic nerve disorder'], '10059001': ['Brow ptosis', 'brow ptosis'], '10016059': ['Facial pain', 'facial pain'], '10028300': ['Muscle disorder', 'muscle disorder'], '10048961': ['Localised oedema', 'localized swelling', 'localized edema'], '10064996': ['Ulcerative keratitis', 'corneal ulceration'], '10011039': ['Corneal perforation', 'corneal perforation'], '10043248': ['Tendon rupture', 'tendon ruptures', 'flexor tendon rupture of the finger', 'tendon rupture', 'flexor tendon ruptures'], '10061225': ['Limb injury', 'injury to the injected extremity', 'injury to the injected finger', 'injury to the injected hand', 'ligaments of the hand damage'], '10052530': ['Fracture of penis', 'corporal rupture', 'penile fracture'], '10070656': ['Penile haematoma', 'penile hematoma'], '10034305': ['Penile haemorrhage', 'penile ecchymoses', 'penile hemorrhage', 'penile ecchymosis'], '10034336': ['Penis disorder', 'penile \"popping\" sound', 'penile \"popping\" sensation', 'adverse reactions of the penis', 'popping sensation in the penis', 'penis snapping', 'penis cracking'], '10034319': ['Penile swelling', 'penile swelling'], '10034310': ['Penile pain', 'penile pain'], '10071152': ['Injection related reaction', 'adverse reaction of the injected extremity'], '10022085': ['Injection site oedema', 'injection site edema'], '10049021': ['Axillary mass', 'axillary mass'], '10043224': ['Tenderness', 'tenderness'], '10025182': ['Lymph node pain', 'lymph node pain'], '10048750': ['Axillary pain', 'axillary pain'], '10065433': ['Ligament rupture', 'tendon rupture of the finger', 'pulley rupture'], '10005372': ['Blood blister', 'blood blister'], '10073352': ['Penile contusion', 'penile bruising'], '10066774': ['Penile oedema', 'penile edema'], '10039759': ['Scrotal swelling', 'scrotal swelling'], '10052898': ['Penile blister', 'penile blister'], '10037093': ['Pruritus genital', 'pruritus genital'], '10056303': ['Painful erection', 'painful erection'], '10022111': ['Injection site vesicles', 'injection site vesicles'], '10013941': ['Dyspareunia', 'dyspareunia'], '10054107': ['Nodule', 'nodule'], '10050822': ['Suprapubic pain', 'suprapubic pain'], '10068036': ['Penis injury', 'penile injury', 'injury to the penis', 'corpora cavernosa of the penis damage'], '10043242': ['Tendon injury', 'tendons of the hand damage'], '10061223': ['Ligament injury', 'ligament damage', 'ligament injury'], '10061567': ['Sensory level abnormal', 'sensory abnormality of the hand'], '10041549': ['Spinal cord compression', 'spinal cord compression'], '10007821': ['Cauda equina syndrome', 'cauda equina syndrome'], '10057167': ['Mental impairment disorders', 'mental impairment disorders'], '10061229': ['Lung infection', 'lung infection'], '10013969': ['Dyspnoea at rest', 'dyspnea at rest'], '10060820': ['Joint injury', 'joint injuries'], '10075761': ['Autoimmune colitis', 'immune-mediated enterocolitis'], '10003827': ['Autoimmune hepatitis', 'immune-mediated hepatitis'], '10070439': ['Autoimmune neuropathy', 'immune-mediated neuropathies', 'autoimmune central neuropathy'], '10003818': ['Endocrine autoimmune disorders', 'immune-mediated endocrinopathies', 'immune-mediated endocrinopathy'], '10022694': ['Intestinal perforation', 'intestinal perforation'], '10014695': ['Endocrine disorder', 'endocrinopathy', 'endocrinopathies'], '10021067': ['Hypopituitarism', 'hypopituitarism'], '10001367': ['Adrenal insufficiency', 'adrenal insufficiency', 'adrenocortical insufficiency'], '10027199': ['Meningitis', 'meningitis'], '10023799': ['Large intestinal ulcer', 'large intestinal ulcer'], '10061343': ['Peritoneal disorder', 'peritoneal signs'], '10028140': ['Mucous stools', 'mucus in stool'], '10028417': ['Myasthenia gravis', 'myasthenia gravis'], '10011652': [\"Cushing's syndrome\", \"cushing's syndrome\"], '10062767': ['Hypophysitis', 'hypophysitis'], '10043207': ['Temporal arteritis', 'temporal arteritis'], '10036099': ['Polymyalgia rheumatica', 'polymyalgia rheumatica'], '10039705': ['Scleritis', 'scleritis'], '10037153': ['Psoriasis', 'psoriasis'], '10049046': ['Autoimmune thyroiditis', 'autoimmune thyroiditis'], '10067587': ['Neurosensory hypoacusis', 'neurosensory hypoacusis'], '10053635': ['Extraocular muscle disorder', 'ocular myositis'], '10021333': ['Ileus paralytic', 'ileus paralytic'], '10048685': ['Oral infection', 'oropharyngeal infection'], '10049059': ['Urinary tract infection fungal', 'fungal urinary tract infection'], '10061090': ['Coombs test positive', 'positive coombs test'], '10025258': ['Lymphocyte count increased', 'lymphocyte count increased'], '10040831': ['Skin disorder', 'skin disorder'], '10049438': ['General physical health deterioration', 'general physical health deterioration'], '10007610': ['Cardiac tamponade', 'cardiac tamponade'], '10061318': ['Oesophageal disorder', 'esophageal disorder'], '10021118': ['Hypotonia', 'hypotonia'], '10036628': ['Presbyopia', 'presbyopia'], '10065341': ['Ventricular tachyarrhythmia', 'ventricular tachyarrhythmias'], '10044066': ['Torsade de pointes', 'torsade de pointes'], '10020571': ['Hyperaldosteronism', 'mineralocorticoid excess'], '10053156': ['Musculoskeletal discomfort', 'joint discomfort', 'muscle discomfort'], '10018735': ['Groin pain', 'groin pain']}\n"
          ],
          "name": "stdout"
        }
      ]
    },
    {
      "cell_type": "code",
      "metadata": {
        "id": "292wUUU3lzPy",
        "colab_type": "code",
        "outputId": "edd8a281-bb32-40eb-ae0e-50b8a06080d2",
        "colab": {
          "base_uri": "https://localhost:8080/",
          "height": 54
        }
      },
      "source": [
        "# get the vocabulary of query entity names\n",
        "text = \"\"\n",
        "maxlen = 0\n",
        "for key, values in reference_dict.items():\n",
        "  for value in values:\n",
        "    text = text + value\n",
        "\n",
        "vocab = sorted(set(text))\n",
        "char_to_int = dict((c,i) for i,c in enumerate(vocab))\n",
        "print(char_to_int)"
      ],
      "execution_count": 0,
      "outputs": [
        {
          "output_type": "stream",
          "text": [
            "{' ': 0, '\"': 1, '%': 2, \"'\": 3, '(': 4, ')': 5, '*': 6, ',': 7, '-': 8, '.': 9, '/': 10, '0': 11, '1': 12, '2': 13, '3': 14, '4': 15, '5': 16, '6': 17, '7': 18, '8': 19, '9': 20, ':': 21, '<': 22, '=': 23, '>': 24, 'A': 25, 'B': 26, 'C': 27, 'D': 28, 'E': 29, 'F': 30, 'G': 31, 'H': 32, 'I': 33, 'J': 34, 'K': 35, 'L': 36, 'M': 37, 'N': 38, 'O': 39, 'P': 40, 'Q': 41, 'R': 42, 'S': 43, 'T': 44, 'U': 45, 'V': 46, 'W': 47, 'X': 48, 'Y': 49, 'a': 50, 'b': 51, 'c': 52, 'd': 53, 'e': 54, 'f': 55, 'g': 56, 'h': 57, 'i': 58, 'j': 59, 'k': 60, 'l': 61, 'm': 62, 'n': 63, 'o': 64, 'p': 65, 'q': 66, 'r': 67, 's': 68, 't': 69, 'u': 70, 'v': 71, 'w': 72, 'x': 73, 'y': 74, 'z': 75}\n"
          ],
          "name": "stdout"
        }
      ]
    },
    {
      "cell_type": "code",
      "metadata": {
        "id": "oXVEG8xE7JEx",
        "colab_type": "code",
        "outputId": "127c8d9e-ad2e-4cd4-a0e9-044bd4e976f5",
        "colab": {
          "base_uri": "https://localhost:8080/",
          "height": 34
        }
      },
      "source": [
        "len(char_to_int)"
      ],
      "execution_count": 0,
      "outputs": [
        {
          "output_type": "execute_result",
          "data": {
            "text/plain": [
              "76"
            ]
          },
          "metadata": {
            "tags": []
          },
          "execution_count": 21
        }
      ]
    },
    {
      "cell_type": "code",
      "metadata": {
        "id": "gPhd2bw7zssb",
        "colab_type": "code",
        "outputId": "f2155171-1932-443d-df77-6fedb297470e",
        "colab": {
          "base_uri": "https://localhost:8080/",
          "height": 34
        }
      },
      "source": [
        "# find max len sequence\n",
        "for key, values in reference_dict.items():\n",
        "  for value in values:\n",
        "    if maxlen < len(value):\n",
        "      maxlen = len(value)\n",
        "print(maxlen)"
      ],
      "execution_count": 0,
      "outputs": [
        {
          "output_type": "stream",
          "text": [
            "71\n"
          ],
          "name": "stdout"
        }
      ]
    },
    {
      "cell_type": "code",
      "metadata": {
        "id": "wE-wUvqzct_N",
        "colab_type": "code",
        "colab": {}
      },
      "source": [
        "# convert char sequence to int sequence in reference set and pad sequence\n",
        "for key, values in reference_dict.items():\n",
        "  i = 0\n",
        "  for sequence in values:\n",
        "    value = [char_to_int[c] for c in sequence]\n",
        "    values[i] = value\n",
        "    i += 1\n",
        "  reference_dict[key] = pad_sequences(values,71)\n"
      ],
      "execution_count": 0,
      "outputs": []
    },
    {
      "cell_type": "code",
      "metadata": {
        "id": "EkPq7lCSJ9sw",
        "colab_type": "code",
        "colab": {}
      },
      "source": [
        "print(reference_dict)"
      ],
      "execution_count": 0,
      "outputs": []
    },
    {
      "cell_type": "code",
      "metadata": {
        "id": "f8ld3toDdbOp",
        "colab_type": "code",
        "colab": {}
      },
      "source": [
        "# Prepare 3 sub dataset\n",
        "\n",
        "# 1.Semantic\n",
        "# Number of entities in reference set\n",
        "# Positive pairs\n",
        "\n",
        "sematic_pairs = np.empty((0,2,71), dtype='object')\n",
        "soft_labels = np.empty((0))\n",
        "\n",
        "for key, values in reference_dict.items():\n",
        "#for list in embeddings:\n",
        "  pos_pairs = [i for i in combinations(values,2)]\n",
        "  for pos_pair in pos_pairs:\n",
        "    pos_pair = np.array([pos_pair],dtype='object')\n",
        "    sematic_pairs = np.append(sematic_pairs, pos_pair, axis=0)\n",
        "    soft_labels = np.append(soft_labels, [1], axis=0)\n"
      ],
      "execution_count": 0,
      "outputs": []
    },
    {
      "cell_type": "code",
      "metadata": {
        "id": "CSqPcNVsl9kS",
        "colab_type": "code",
        "outputId": "31f69a4d-5b38-453e-fa3b-f6838d8bada6",
        "colab": {
          "base_uri": "https://localhost:8080/",
          "height": 34
        }
      },
      "source": [
        "sematic_pairs.shape"
      ],
      "execution_count": 0,
      "outputs": [
        {
          "output_type": "execute_result",
          "data": {
            "text/plain": [
              "(8804, 2, 71)"
            ]
          },
          "metadata": {
            "tags": []
          },
          "execution_count": 40
        }
      ]
    },
    {
      "cell_type": "code",
      "metadata": {
        "id": "Vlwxhyb-yrV8",
        "colab_type": "code",
        "outputId": "03226ac8-8ea9-43e7-8d6c-2b4164857ce9",
        "colab": {
          "base_uri": "https://localhost:8080/",
          "height": 136
        }
      },
      "source": [
        "print(sematic_pairs[:,0])"
      ],
      "execution_count": 0,
      "outputs": [
        {
          "output_type": "stream",
          "text": [
            "[[0 0 0 ... 67 50 61]\n",
            " [0 0 0 ... 67 50 61]\n",
            " [0 0 0 ... 67 50 61]\n",
            " ...\n",
            " [0 0 0 ... 64 67 69]\n",
            " [0 0 0 ... 64 67 69]\n",
            " [0 0 0 ... 50 58 63]]\n"
          ],
          "name": "stdout"
        }
      ]
    },
    {
      "cell_type": "code",
      "metadata": {
        "id": "8uGgQltrseH0",
        "colab_type": "code",
        "colab": {}
      },
      "source": [
        "# Negative sematic pairs\n",
        "sampled_list_1 = random.sample(list(reference_dict.items()), 100)\n",
        "sampled_list_2 = random.sample(list(reference_dict.items()), 100)\n",
        "\n",
        "for key_1, values_1 in sampled_list_1:\n",
        "  for key_2, values_2 in sampled_list_2:\n",
        "    if  key_1 != key_2:\n",
        "      value_1 = random.sample(list(values_1), 1)\n",
        "      value_2 = random.sample(list(values_2), 1)\n",
        "      neg_pair = np.empty((0,71))\n",
        "      neg_pair = np.append(neg_pair,value_1,axis=0)\n",
        "      neg_pair = np.append(neg_pair,value_2,axis=0)\n",
        "      neg_pair = np.array([neg_pair])\n",
        "      sematic_pairs = np.append(sematic_pairs,neg_pair,axis=0)\n",
        "      \n",
        "\n",
        "      soft_labels = np.append(soft_labels, [0], axis=0) "
      ],
      "execution_count": 0,
      "outputs": []
    },
    {
      "cell_type": "code",
      "metadata": {
        "id": "dkCSICnuFdRj",
        "colab_type": "code",
        "outputId": "5415c500-580a-402a-e40b-ad8fb4c5e13d",
        "colab": {
          "base_uri": "https://localhost:8080/",
          "height": 34
        }
      },
      "source": [
        "sematic_pairs.shape"
      ],
      "execution_count": 0,
      "outputs": [
        {
          "output_type": "execute_result",
          "data": {
            "text/plain": [
              "(18796, 2, 71)"
            ]
          },
          "metadata": {
            "tags": []
          },
          "execution_count": 43
        }
      ]
    },
    {
      "cell_type": "code",
      "metadata": {
        "id": "aDykpmR6VXWe",
        "colab_type": "code",
        "outputId": "50f92224-dd88-49e3-de8a-5bfedb1e4f1d",
        "colab": {
          "base_uri": "https://localhost:8080/",
          "height": 34
        }
      },
      "source": [
        "soft_labels.shape"
      ],
      "execution_count": 0,
      "outputs": [
        {
          "output_type": "execute_result",
          "data": {
            "text/plain": [
              "(18793,)"
            ]
          },
          "metadata": {
            "tags": []
          },
          "execution_count": 17
        }
      ]
    },
    {
      "cell_type": "code",
      "metadata": {
        "id": "z7a9i64vNku7",
        "colab_type": "code",
        "colab": {}
      },
      "source": [
        "# Create Syntatic Variations\n",
        "#  To capture the most common forms of noise occurring on the same name, we make the following three modifications based on our\n",
        "#   observation of the most frequent variations in the query names:\n",
        "#     – Replace all but alphanumerical characters with space, e.g., <infusion-related reactions, infusion related reactions, y>\n",
        "#     – Converting to upper and lower cases, e.g., <Neuropathy peripheral, neuropathy peripheral, y>,\n",
        "#     - Swap two words, e.g., <peripheral neuropathy, neuropathy peripheral>\n",
        "\n",
        "import re\n",
        "\n",
        "#re.sub(r'[^A-Za-z0-9 ]+', '', s)\n",
        "syntactic_pairs = np.empty((0,2))\n",
        "for key, values in syntactic_dict.items():\n",
        "  for i, string in enumerate(values):\n",
        "    #1. Find all sequence contain characters which are not alphanumerical. If '-' character then replace with ' '. Else remove.   \n",
        "    if re.search('^[A-Za-z0-9 ]+', string):     \n",
        "      if string.find(\"-\") != -1:\n",
        "        pair = []\n",
        "        tmp = string\n",
        "        pair = np.append(pair, string)\n",
        "        pair = np.append(pair, tmp.replace(\"-\",\"\"))\n",
        "        syntactic_pairs = np.append(syntactic_pairs, [pair],axis=0)      \n",
        "\n",
        "    #2. Convert upper and lower cases.\n",
        "    if  string.islower() == False:\n",
        "      pair = []\n",
        "      tmp = string\n",
        "      pair = np.append(pair, string)\n",
        "      pair = np.append(pair, tmp.lower())\n",
        "      syntactic_pairs = np.append(syntactic_pairs, [pair],axis=0)\n",
        "\n",
        "    #3. Swap twos words\n",
        "    if len(string.split()) == 2:\n",
        "      pair = []\n",
        "      modified_str = string.split()[1] + \" \" + string.split()[0]\n",
        "      pair = np.append(pair, string)\n",
        "      pair = np.append(pair, modified_str)\n",
        "      syntactic_pairs = np.append(syntactic_pairs, [pair],axis=0)\n"
      ],
      "execution_count": 0,
      "outputs": []
    },
    {
      "cell_type": "code",
      "metadata": {
        "id": "rqd_ldDmDOxX",
        "colab_type": "code",
        "outputId": "7722ef17-3a5d-4a72-a461-bdafa161a023",
        "colab": {
          "base_uri": "https://localhost:8080/",
          "height": 51
        }
      },
      "source": [
        "print(type(syntactic_pairs))\n",
        "print(syntactic_pairs.shape)"
      ],
      "execution_count": 0,
      "outputs": [
        {
          "output_type": "stream",
          "text": [
            "<class 'numpy.ndarray'>\n",
            "(3451, 2)\n"
          ],
          "name": "stdout"
        }
      ]
    },
    {
      "cell_type": "code",
      "metadata": {
        "id": "YxhRuAwMmYQK",
        "colab_type": "code",
        "colab": {}
      },
      "source": [
        "syntactic_labels = []\n",
        "jarowinkler = JaroWinkler()\n",
        "for pair in syntactic_pairs:\n",
        "  similarity = jarowinkler.similarity(pair[0], pair[1])\n",
        "  syntactic_labels.append(similarity)"
      ],
      "execution_count": 0,
      "outputs": []
    },
    {
      "cell_type": "code",
      "metadata": {
        "id": "oM-4upnz6OLp",
        "colab_type": "code",
        "outputId": "32f690fa-52f5-4acd-d576-7ffdac825a14",
        "colab": {
          "base_uri": "https://localhost:8080/",
          "height": 54
        }
      },
      "source": [
        "print(syntactic_labels)"
      ],
      "execution_count": 0,
      "outputs": [
        {
          "output_type": "stream",
          "text": [
            "[0.9682539682539683, 0.6349206349206349, 0.6349206349206349, 0.5380116959064327, 0.6349206349206349, 0.5842105263157894, 0.8515873015873016, 0.7161531279178338, 0.7676767676767677, 0.7357609710550888, 0.9455555555555555, 0.5892255892255892, 0.9911242603550297, 0.8143589743589743, 0.6122004357298475, 0.9555555555555556, 0.6545454545454544, 0.7627450980392156, 0.9259259259259259, 0.708994708994709, 0.9929251700680273, 0.5842105263157894, 0.6432748538011696, 0.955862977602108, 0.7832988267770876, 0.7777777777777777, 0.7832988267770876, 0.9682539682539683, 0.9210256410256411, 0.5462962962962963, 0.9523809523809524, 0.6342592592592592, 0.6055555555555555, 0.7333333333333334, 0.9841269841269842, 0.9629629629629629, 0.4973544973544974, 0.4973544973544974, 0.9908172635445364, 0.9487179487179488, 0.7459207459207459, 0.806060606060606, 0.7380952380952381, 0.7489035087719298, 0.8080808080808081, 0.9393939393939394, 0.9532019704433498, 0.781904761904762, 0.8061002178649237, 0.9047619047619048, 0.9896694214876033, 0.7687400318979266, 0.888888888888889, 0.8492063492063492, 0.9797979797979798, 0.9259259259259259, 0.9047619047619048, 0.5220588235294118, 0.8333333333333334, 0.40740740740740744, 0.5555555555555555, 0.7128205128205128, 0.7056277056277057, 0.9583333333333334, 0.8666666666666667, 0.6707070707070706, 0.9166666666666666, 0.949667616334283, 0.9523809523809524, 0.7985347985347985, 0.7985347985347985, 0.8333333333333334, 0.7056277056277057, 0.9555555555555556, 0.9166666666666666, 0.5842105263157894, 0.5787878787878787, 0.9259259259259259, 0.888888888888889, 0.9607843137254902, 0.7394957983193278, 0.7738095238095237, 0.7738095238095237, 0.7394957983193278, 0.9444444444444443, 0.9166666666666666, 0.4444444444444444, 0.9166666666666666, 0.9444444444444443, 0.47222222222222215, 0.47222222222222215, 0.9166666666666666, 0.4166666666666667, 0.4166666666666667, 0.9166666666666666, 0.6515151515151515, 0.5793650793650794, 0.4238095238095238, 0.8087719298245614, 0.943355119825708, 0.7800925925925926, 0.7800925925925926, 0.9333333333333332, 0.6666666666666666, 0.9047619047619048, 0.393939393939394, 0.9259259259259259, 0.5555555555555555, 0.5555555555555555, 0.9607843137254902, 0.5166666666666667, 0.9487179487179488, 0.5230769230769231, 0.6446886446886446, 0.5555555555555555, 0.9166666666666666, 0.9047619047619048, 0.8845315904139434, 0.5925925925925926, 0.6037037037037037, 0.6122004357298475, 0.6037037037037037, 0.9583333333333334, 0.6401515151515151, 0.6401515151515151, 0.6401515151515151, 0.48888888888888893, 0.9607843137254902, 0.6892911010558068, 0.7394957983193278, 0.8483333333333333, 0.9886587771203156, 0.9629629629629629, 0.46296296296296297, 0.46296296296296297, 0.5381263616557734, 0.7211538461538461, 0.9393939393939394, 0.9886587771203156, 0.8237179487179488, 0.9444444444444443, 0.9523809523809524, 0.9444444444444443, 0.5, 0.6111111111111112, 0.8214624881291548, 0.7401795735129069, 0.7418142780461622, 0.9710144927536232, 0.9901620370370371, 0.8383838383838383, 0.7388888888888889, 0.9901620370370371, 0.7497685185185186, 0.9259259259259259, 0.7277777777777779, 0.9221288515406162, 0.9444444444444443, 0.9649122807017543, 0.7489035087719298, 0.7489035087719298, 0.9523809523809524, 0.6954365079365079, 0.9444444444444443, 0.8666666666666667, 0.4551282051282051, 0.5009746588693957, 0.9743589743589745, 0.9259259259259259, 0.6666666666666666, 0.978494623655914, 0.9886621315192744, 0.7161531279178338, 0.7000000000000001, 0.6761904761904761, 0.9487179487179488, 0.5299145299145299, 0.5333333333333333, 0.9393939393939394, 0.888888888888889, 0.9682539682539683, 0.7357609710550888, 0.7357609710550888, 0.9710144927536232, 0.7797101449275362, 0.6692242114236998, 0.7797101449275362, 0.7786131996658313, 0.806060606060606, 0.7306397306397306, 0.773148148148148, 0.7797101449275362, 0.9038888888888889, 0.5980861244019139, 0.5046296296296297, 0.5980861244019139, 0.5787878787878787, 0.9583333333333334, 0.778149386845039, 0.6195286195286195, 0.7533333333333333, 0.7872463768115942, 0.9950869236583523, 0.9945213379469435, 0.9898666666666667, 0.7663492063492064, 0.9905482041587901, 0.7463768115942028, 0.64349376114082, 0.9917355371900827, 0.9166666666666666, 0.5638888888888889, 0.9076923076923077, 0.8194993412384717, 0.9913194444444444, 0.7777777777777777, 0.8997584541062803, 0.9911783238815375, 0.7069243156199678, 0.8194993412384717, 0.8916666666666666, 0.5416666666666666, 0.5277777777777778, 0.9444444444444443, 0.8167641325536062, 0.7893939393939394, 0.9333333333333332, 0.5507936507936507, 0.704093567251462, 0.9834710743801653, 0.9583333333333334, 0.75, 0.7572649572649572, 0.75, 0.5, 0.9487179487179488, 0.5494505494505494, 0.6467236467236467, 0.5714285714285715, 0.7489035087719298, 0.9138888888888889, 0.48214285714285715, 0.9333333333333332, 0.7056277056277057, 0.888888888888889, 0.37606837606837606, 0.9166666666666666, 0.8983855650522318, 0.9182539682539682, 0.8291005291005291, 0.7459207459207459, 0.7459207459207459, 0.7929292929292929, 0.7459207459207459, 0.7658730158730158, 0.3333333333333333, 0.7658730158730158, 0.7762237762237763, 0.9333333333333332, 0.9393939393939394, 0.6031746031746031, 0.8288770053475935, 0.6794871794871794, 0.6794871794871794, 0.8611111111111112, 0.7459207459207459, 0.7658730158730158, 0.7658730158730158, 0.3333333333333333, 0.7222222222222223, 0.6794871794871794, 0.9682539682539683, 0.9733333333333333, 0.4890350877192982, 0.4890350877192982, 0.7578347578347578, 0.9523809523809524, 0.6761904761904761, 0.6612685560053981, 0.9393939393939394, 0.9209401709401709, 0.80982905982906, 0.80982905982906, 0.9259259259259259, 0.9010989010989011, 0.7056277056277057, 0.7380952380952381, 0.9555555555555556, 0.9333333333333332, 0.7211538461538461, 0.9166666666666666, 0.46274509803921565, 0.9259259259259259, 0.9607843137254902, 0.4803921568627451, 0.8787878787878789, 0.8787878787878789, 0.8787878787878789, 0.9629629629629629, 0.44973544973544977, 0.44973544973544977, 0.9259259259259259, 0.40740740740740744, 0.40740740740740744, 0.9259259259259259, 0.7056277056277057, 0.7380952380952381, 0.6837606837606837, 0.9259259259259259, 0.9259259259259259, 0.40740740740740744, 0.48148148148148145, 0.9444444444444443, 0.9682539682539683, 0.5079365079365079, 0.47142857142857136, 0.47142857142857136, 0.7380952380952381, 0.7380952380952381, 0.6851851851851851, 0.9791666666666666, 0.7578347578347578, 0.7578347578347578, 0.6090909090909091, 0.9722222222222223, 0.6612685560053981, 0.6612685560053981, 0.48888888888888893, 0.9743589743589745, 0.5613275613275613, 0.5613275613275613, 0.5222222222222223, 0.9743589743589745, 0.5507936507936507, 0.5507936507936507, 0.9710144927536232, 0.5637254901960784, 0.9753086419753085, 0.5921855921855922, 0.7431372549019608, 0.9770114942528737, 0.7991718426501034, 0.9255599472990778, 0.45751633986928103, 0.9743589743589745, 0.7431372549019608, 0.7431372549019608, 0.6154970760233919, 0.7851851851851852, 0.9814814814814815, 0.6794871794871794, 0.6794871794871794, 0.9112060778727445, 0.6825396825396824, 0.8774509803921569, 0.9649122807017543, 0.8754578754578755, 0.5079365079365079, 0.5714285714285715, 0.9555555555555556, 0.5015873015873016, 0.5015873015873016, 0.7893939393939394, 0.7000000000000001, 0.6467236467236467, 0.9487179487179488, 0.6578947368421052, 0.7851851851851852, 0.7961570593149542, 0.7037037037037037, 0.9682539682539683, 0.6349206349206349, 0.6349206349206349, 0.6147186147186147, 0.8676923076923077, 0.7948717948717948, 0.7156862745098039, 0.9444444444444443, 0.6111111111111112, 0.6111111111111112, 0.9333333333333332, 0.6650326797385621, 0.7896825396825397, 0.6944444444444445, 0.6721014492753623, 0.9399509803921569, 0.5588235294117647, 0.64349376114082, 0.9463937621832358, 0.5508771929824561, 0.5677830940988836, 0.9607843137254902, 0.7394957983193278, 0.7660130718954248, 0.9666666666666667, 0.7000000000000001, 0.7431372549019608, 0.8842592592592592, 0.9209401709401709, 0.9047619047619048, 0.9649122807017543, 0.704093567251462, 0.6851851851851851, 0.9444444444444443, 0.9532019704433498, 0.9047619047619048, 0.9629629629629629, 0.7800925925925926, 0.6923076923076922, 0.9166666666666666, 0.9607843137254902, 0.6254901960784314, 0.6254901960784314, 0.9922916666666667, 0.9166666666666666, 0.9583333333333334, 0.75, 0.75, 0.9649122807017543, 0.5508771929824561, 0.708994708994709, 0.708994708994709, 0.9487179487179488, 0.6794871794871794, 0.7056277056277057, 0.6794871794871794, 0.9666666666666667, 0.7000000000000001, 0.6777777777777777, 0.9259259259259259, 0.9696969696969697, 0.7511961722488039, 0.7511961722488039, 0.7929292929292929, 0.7511961722488039, 0.9743589743589745, 0.6154970760233919, 0.7056277056277057, 0.5944444444444444, 0.9710144927536232, 0.5751633986928105, 0.9696969696969697, 0.7222222222222222, 0.7222222222222222, 0.9733333333333333, 0.4473684210526316, 0.8727272727272727, 0.9733333333333333, 0.9682539682539683, 0.4708994708994709, 0.9777777777777779, 0.9333333333333332, 0.9444444444444443, 0.9259259259259259, 0.4898550724637681, 0.41269841269841273, 0.9333333333333332, 0.39999999999999997, 0.39999999999999997, 0.9583333333333334, 0.5297619047619048, 0.5297619047619048, 0.5220588235294118, 0.9523809523809524, 0.7658730158730158, 0.779251848629839, 0.9905482041587901, 0.7733459357277883, 0.9393939393939394, 0.9933297277807824, 0.960686600221484, 0.98559670781893, 0.5462962962962963, 0.9931972789115646, 0.9166666666666666, 0.6467236467236467, 0.44973544973544977, 0.8838383838383838, 0.9393939393939394, 0.6363636363636364, 0.7575757575757575, 0.9666666666666667, 0.6128205128205129, 0.6128205128205129, 0.6128205128205129, 0.7056277056277057, 0.9209401709401709, 0.5299145299145299, 0.626984126984127, 0.8754578754578755, 0.9666666666666667, 0.9393939393939394, 0.660968660968661, 0.9393939393939394, 0.5833333333333334, 0.9393939393939394, 0.660968660968661, 0.9925028835063437, 0.9882666666666667, 0.7171929824561403, 0.6444444444444445, 0.9869146005509642, 0.8181818181818182, 0.653968253968254, 0.6128205128205129, 0.6892911010558068, 0.9393939393939394, 0.9444444444444443, 0.9047619047619048, 0.6944444444444445, 0.8333333333333334, 0.9393939393939394, 0.9649122807017543, 0.7263157894736842, 0.708994708994709, 0.9444444444444443, 0.5444444444444444, 0.5444444444444444, 0.9333333333333332, 0.980952380952381, 0.9848484848484849, 0.9444444444444443, 0.611111111111111, 0.611111111111111, 0.9555555555555556, 0.9333333333333332, 0.5842105263157894, 0.9259259259259259, 0.8916127042861547, 0.9172979797979798, 0.9682539682539683, 0.6954365079365079, 0.6954365079365079, 0.9743589743589745, 0.80982905982906, 0.80982905982906, 0.9444444444444443, 0.626984126984127, 0.626984126984127, 0.8453159041394335, 0.5555555555555555, 0.6254901960784314, 0.5303030303030303, 0.992072929052715, 0.8460591133004925, 0.7613793103448275, 0.992072929052715, 0.7613793103448275, 0.9583333333333334, 0.75, 0.75, 0.75, 0.6851851851851851, 0.7333333333333334, 0.9444444444444443, 0.6851851851851851, 0.6851851851851851, 0.6851851851851851, 0.5714285714285715, 0.9926131117266851, 0.9649122807017543, 0.704093567251462, 0.9926131117266851, 0.704093567251462, 0.9879963065558633, 0.704093567251462, 0.6851851851851851, 0.9939531368102796, 0.6954365079365079, 0.9444444444444443, 0.6851851851851851, 0.6851851851851851, 0.6851851851851851, 0.9649122807017543, 0.5980861244019139, 0.5980861244019139, 0.9948299319727891, 0.992108843537415, 0.5980861244019139, 0.990138067061144, 0.7926421404682275, 0.9259259259259259, 0.5753968253968255, 0.9629629629629629, 0.5185185185185185, 0.849802371541502, 0.5185185185185185, 0.5508771929824561, 0.9487179487179488, 0.9444444444444443, 0.7000000000000001, 0.9333333333333332, 0.9629629629629629, 0.8061002178649237, 0.8061002178649237, 0.8061002178649237, 0.8931623931623932, 0.9523809523809524, 0.9093567251461988, 0.5842105263157894, 0.9777777777777779, 0.9629629629629629, 0.7555555555555555, 0.9899405578417924, 0.6033950617283951, 0.7280701754385964, 0.9682539682539683, 0.9583333333333334, 0.7211538461538461, 0.7394957983193278, 0.9649122807017543, 0.6154970760233919, 0.5944444444444444, 0.5944444444444444, 0.9583333333333334, 0.6401515151515151, 0.6892911010558068, 0.6892911010558068, 0.9555555555555556, 0.6707070707070706, 0.6944444444444445, 0.6707070707070706, 0.735930735930736, 0.6944444444444445, 0.9093567251461988, 0.4890350877192982, 0.5222222222222223, 0.9710144927536232, 0.7991718426501034, 0.7738095238095237, 0.9361111111111112, 0.6944444444444445, 0.9791666666666666, 0.8787878787878789, 0.8787878787878789, 0.7211538461538461, 0.8167641325536062, 0.704093567251462, 0.7263157894736842, 0.6916221033868092, 0.8852657004830918, 0.9523809523809524, 0.5892857142857143, 0.5222222222222223, 0.5892857142857143, 0.9487179487179488, 0.6467236467236467, 0.7308377896613191, 0.9583333333333334, 0.6666666666666666, 0.6666666666666666, 0.9555555555555556, 0.7555555555555555, 0.7555555555555555, 0.9191176470588235, 0.7394957983193278, 0.7394957983193278, 0.9333333333333332, 0.888888888888889, 0.9393939393939394, 0.7394957983193278, 0.9555555555555556, 0.9523809523809524, 0.7658730158730158, 0.7800925925925926, 0.7658730158730158, 0.5970695970695971, 0.9583333333333334, 0.47222222222222215, 0.47222222222222215, 0.45751633986928103, 0.9743589743589745, 0.9259259259259259, 0.9607843137254902, 0.7156862745098039, 0.7156862745098039, 0.9666666666666667, 0.8333333333333334, 0.8333333333333334, 0.9722222222222223, 0.8344444444444444, 0.8167641325536062, 0.9444444444444443, 0.6851851851851851, 0.6851851851851851, 0.9523809523809524, 0.9259259259259259, 0.40740740740740744, 0.5555555555555555, 0.8649237472766885, 0.9182539682539682, 0.8083900226757369, 0.9923296077142231, 0.9629629629629629, 0.5555555555555555, 0.7394957983193278, 0.6154970760233919, 0.9852262234533702, 0.6154970760233919, 0.7627450980392156, 0.9971164936562861, 0.9886587771203156, 0.6652421652421653, 0.5370370370370371, 0.9629629629629629, 0.5046296296296297, 0.45751633986928103, 0.5046296296296297, 0.9607843137254902, 0.5751633986928105, 0.5751633986928105, 0.5220588235294118, 0.5130718954248367, 0.7222222222222223, 0.9874213836477987, 0.6931216931216931, 0.7985347985347985, 0.9487179487179488, 0.9666666666666667, 0.6777777777777777, 0.6892911010558068, 0.572463768115942, 0.9888, 0.9038888888888889, 0.8628352490421456, 0.9333333333333332, 0.9166666666666666, 0.9047619047619048, 0.8222222222222223, 0.9523809523809524, 0.36507936507936506, 0.36507936507936506, 0.36507936507936506, 0.888888888888889, 0.9333333333333332, 0.9607843137254902, 0.6892911010558068, 0.6892911010558068, 0.4380952380952381, 0.5555555555555555, 0.48888888888888893, 0.7729618163054696, 0.7394957983193278, 0.9259259259259259, 0.9583333333333334, 0.7738095238095237, 0.7738095238095237, 0.8027777777777777, 0.8333333333333334, 0.9871504157218444, 0.6954365079365079, 0.8357843137254902, 0.7633053221288515, 0.788235294117647, 0.9259259259259259, 0.9607843137254902, 0.45751633986928103, 0.4473684210526316, 0.9259259259259259, 0.6175438596491228, 0.9259259259259259, 0.9733333333333333, 0.6771604938271606, 0.6298039215686275, 0.9393939393939394, 0.9166666666666666, 0.9444444444444443, 0.9583333333333334, 0.6944444444444445, 0.7277777777777779, 0.6884057971014492, 0.888888888888889, 0.6944444444444445, 0.9010989010989011, 0.9682539682539683, 0.775132275132275, 0.775132275132275, 0.806060606060606, 0.9393939393939394, 0.9166666666666666, 0.9166666666666666, 0.9629629629629629, 0.5703703703703704, 0.5753968253968255, 0.5703703703703704, 0.5944444444444444, 0.9722222222222223, 0.6851851851851851, 0.9047619047619048, 0.9047619047619048, 0.9555555555555556, 0.4222222222222222, 0.5492063492063491, 0.6944444444444445, 0.7263157894736842, 0.9444444444444443, 0.9523809523809524, 0.9710144927536232, 0.5144927536231884, 0.5144927536231884, 0.9060606060606061, 0.7306397306397306, 0.8066666666666666, 0.6954365079365079, 0.9444444444444443, 0.6111111111111112, 0.6111111111111112, 0.9905598958333334, 0.9361559139784946, 0.9722222222222223, 0.9649122807017543, 0.4890350877192982, 0.9890260631001371, 0.9240265906932573, 0.7418142780461622, 0.888888888888889, 0.7489035087719298, 0.7211538461538461, 0.9171671671671673, 0.6892911010558068, 0.9079365079365079, 0.42777777777777776, 0.48888888888888893, 0.9278752436647174, 0.8167641325536062, 0.8167641325536062, 0.9062049062049061, 0.6916221033868092, 0.6954365079365079, 0.6174968071519796, 0.7161531279178338, 0.7729618163054696, 0.9722222222222223, 0.6166666666666667, 0.6166666666666667, 0.9666666666666667, 0.914141414141414, 0.9797979797979798, 0.9803921568627452, 0.9733333333333333, 0.9733333333333333, 0.7836363636363637, 0.7836363636363637, 0.981981981981982, 0.7948717948717948, 0.8061002178649237, 0.9444444444444443, 0.9209876543209877, 0.8333333333333334, 0.8666666666666667, 0.7211538461538461, 0.6794871794871794, 0.7948717948717948, 0.9783037475345169, 0.75, 0.6892911010558068, 0.6794871794871794, 0.9393939393939394, 0.7627450980392156, 0.6888320545609549, 0.6792270531400967, 0.9259259259259259, 0.987072945521699, 0.9649122807017543, 0.7729618163054696, 0.987072945521699, 0.7729618163054696, 0.7800925925925926, 0.9722222222222223, 0.6683006535947712, 0.6683006535947712, 0.9761904761904763, 0.9010989010989011, 0.9444444444444443, 0.626984126984127, 0.9889807162534435, 0.7511961722488039, 0.6623376623376623, 0.9393939393939394, 0.9555555555555556, 0.7277777777777779, 0.7277777777777779, 0.8982843137254902, 0.7156862745098039, 0.7660130718954248, 0.7660130718954248, 0.7982456140350876, 0.9104084321475626, 0.8194993412384717, 0.7511961722488039, 0.8272946859903382, 0.9259259259259259, 0.9710144927536232, 0.6746031746031745, 0.7727272727272728, 0.7851851851851852, 0.7056277056277057, 0.7658730158730158, 0.4166666666666667, 0.9393939393939394, 0.49242424242424243, 0.9882666666666667, 0.49242424242424243, 0.6851851851851851, 0.9878472222222223, 0.7394957983193278, 0.9393939393939394, 0.5858585858585857, 0.5444444444444444, 0.6222222222222222, 0.9393939393939394, 0.6347826086956522, 0.9649122807017543, 0.7280701754385964, 0.660968660968661, 0.7851851851851852, 0.9696969696969697, 0.9267399267399267, 0.8095238095238096, 0.8095238095238096, 0.7149321266968326, 0.9444444444444443, 0.7222222222222223, 0.7929292929292929, 0.9607843137254902, 0.6892911010558068, 0.7211538461538461, 0.9255599472990778, 0.44021739130434784, 0.6333333333333333, 0.6323232323232323, 0.6323232323232323, 0.8690476190476191, 0.4166666666666667, 0.3333333333333333, 0.914141414141414, 0.6851851851851851, 0.6851851851851851, 0.6851851851851851, 0.6851851851851851, 0.8982843137254902, 0.6650326797385621, 0.9733333333333333, 0.9487179487179488, 0.5819397993311036, 0.8272946859903382, 0.7333333333333334, 0.9722222222222223, 0.9649122807017543, 0.9722222222222223, 0.9895833333333334, 0.7738095238095237, 0.9267399267399267, 0.9166666666666666, 0.9743589743589745, 0.728937728937729, 0.6821052631578947, 0.8908382066276803, 0.704093567251462, 0.704093567251462, 0.7504761904761904, 0.9583333333333334, 0.6944444444444445, 0.6944444444444445, 0.6944444444444445, 0.503030303030303, 0.7394957983193278, 0.9555555555555556, 0.9259259259259259, 0.5555555555555555, 0.5555555555555555, 0.9523809523809524, 0.4523809523809524, 0.5892857142857143, 0.9733333333333333, 0.7346031746031746, 0.7261632341723875, 0.8263157894736842, 0.7851851851851852, 0.7851851851851852, 0.9166666666666666, 0.9523809523809524, 0.7658730158730158, 0.7658730158730158, 0.7658730158730158, 0.9444444444444443, 0.9523809523809524, 0.7056277056277057, 0.7056277056277057, 0.9733333333333333, 0.6996491228070175, 0.6996491228070175, 0.9918367346938776, 0.9613445378151261, 0.7947772657450076, 0.9891975308641976, 0.8009259259259259, 0.9918367346938776, 0.7947772657450076, 0.7056277056277057, 0.7948717948717948, 0.7948717948717948, 0.9960493827160494, 0.9583333333333334, 0.9710144927536232, 0.9374110953058322, 0.9753086419753085, 0.6666666666666666, 0.8013915243516762, 0.9203065134099617, 0.653968253968254, 0.9710144927536232, 0.9907407407407408, 0.7579365079365079, 0.9682539682539683, 0.9649122807017543, 0.7222222222222223, 0.9950869236583523, 0.9555555555555556, 0.6707070707070706, 0.6707070707070706, 0.9607843137254902, 0.6892911010558068, 0.6137566137566138, 0.9041394335511983, 0.7555555555555555, 0.7555555555555555, 0.9583333333333334, 0.7738095238095237, 0.7738095238095237, 0.7738095238095237, 0.6592592592592593, 0.9666666666666667, 0.6333333333333333, 0.6333333333333333, 0.5079365079365079, 0.9444444444444443, 0.9166666666666666, 0.9761904761904763, 0.7658730158730158, 0.7418142780461622, 0.7222222222222222, 0.7000000000000001, 0.7261632341723875, 0.9649122807017543, 0.6578947368421052, 0.6851851851851851, 0.9803921568627452, 0.9583333333333334, 0.7467948717948718, 0.7738095238095237, 0.8126984126984128, 0.7056277056277057, 0.9555555555555556, 0.7000000000000001, 0.7000000000000001, 0.9733333333333333, 0.9920416284052648, 0.9682539682539683, 0.7161531279178338, 0.7161531279178338, 0.9041394335511983, 0.5462962962962963, 0.5925925925925926, 0.9824561403508772, 0.8461538461538461, 0.6794871794871794, 0.9487179487179488, 0.9696969696969697, 0.9696969696969697, 0.6916221033868092, 0.7121212121212123, 0.9278752436647174, 0.5508771929824561, 0.5842105263157894, 0.9583333333333334, 0.7211538461538461, 0.7211538461538461, 0.9487179487179488, 0.7459207459207459, 0.7459207459207459, 0.9583333333333334, 0.7211538461538461, 0.7000000000000001, 0.9814814814814815, 0.7936507936507936, 0.9607843137254902, 0.7346031746031746, 0.9666666666666667, 0.9278752436647174, 0.704093567251462, 0.7489035087719298, 0.9696969696969697, 0.9583333333333334, 0.7467948717948718, 0.7467948717948718, 0.9259259259259259, 0.9594444444444444, 0.46222222222222226, 0.4666666666666666, 0.9515873015873014, 0.7380952380952381, 0.7380952380952381, 0.9487179487179488, 0.8789473684210526, 0.9607843137254902, 0.46274509803921565, 0.5126050420168067, 0.9777777777777779, 0.7288888888888888, 0.77008547008547, 0.9733333333333333, 0.635, 0.635, 0.9555555555555556, 0.7000000000000001, 0.7000000000000001, 0.9393939393939394, 0.9444444444444443, 0.7280477408354646, 0.7925696594427244, 0.708994708994709, 0.9093567251461988, 0.5175438596491228, 0.9733333333333333, 0.9259259259259259, 0.9047619047619048, 0.9138888888888889, 0.5972222222222222, 0.971322849213691, 0.8222222222222223, 0.9197860962566845, 0.5079365079365079, 0.9333333333333332, 0.7925696594427244, 0.7729618163054696, 0.8009259259259259, 0.5990675990675991, 0.9761904761904763, 0.751984126984127, 0.751984126984127, 0.9696969696969697, 0.5990675990675991, 0.5819397993311036, 0.9393939393939394, 0.9487179487179488, 0.7948717948717948, 0.6794871794871794, 0.8931623931623932, 0.9555555555555556, 0.9333333333333332, 0.9146505376344086, 0.6866096866096866, 0.9577294685990339, 0.7738095238095237, 0.7306397306397306, 0.9171717171717172, 0.8744810744810745, 0.8841269841269841, 0.5638888888888889, 0.5494505494505494, 0.6222222222222222, 0.9950426333531628, 0.9220779220779222, 0.6503496503496504, 0.6385281385281386, 0.9333333333333332, 0.9393939393939394, 0.9583333333333334, 0.9743589743589745, 0.9666666666666667, 0.5666666666666667, 0.6586921850079746, 0.856280193236715, 0.7032163742690059, 0.7346031746031746, 0.7388888888888889, 0.9210256410256411, 0.9523809523809524, 0.7056277056277057, 0.7056277056277057, 0.9649122807017543, 0.681704260651629, 0.708994708994709, 0.9047619047619048, 0.8250000000000001, 0.5833333333333334, 0.6401515151515151, 0.9583333333333334, 0.6342592592592592, 0.6342592592592592, 0.9555555555555556, 0.48888888888888893, 0.48888888888888893, 0.5220588235294118, 0.4083333333333334, 0.9629629629629629, 0.44973544973544977, 0.5555555555555555, 0.9333333333333332, 0.9138888888888889, 0.4166666666666667, 0.47500000000000003, 0.9583333333333334, 0.9333333333333332, 0.9696969696969697, 0.6892911010558068, 0.6154970760233919, 0.6892911010558068, 0.9797979797979798, 0.9038888888888889, 0.5638095238095239, 0.7999999999999999, 0.6, 0.9710144927536232, 0.8333333333333334, 0.9710144927536232, 0.6512681159420289, 0.7459207459207459, 0.9696969696969697, 0.6916221033868092, 0.8333333333333334, 0.6916221033868092, 0.9055829228243022, 0.9907407407407407, 0.708994708994709, 0.987072945521699, 0.9093567251461988, 0.43274853801169594, 0.987072945521699, 0.48370927318295737, 0.8952569169960475, 0.9911783238815375, 0.7069243156199678, 0.9629629629629629, 0.4444444444444444, 0.4444444444444444, 0.4444444444444444, 0.7985347985347985, 0.6428571428571429, 0.7547928262213977, 0.9047619047619048, 0.5637254901960784, 0.9393939393939394, 0.9753086419753085, 0.5361552028218695, 0.5825617283950617, 0.8585434173669467, 0.9523809523809524, 0.943355119825708, 0.9487179487179488, 0.9753086419753085, 0.6938271604938272, 0.6938271604938272, 0.9140350877192982, 0.6128205128205129, 0.5921855921855922, 0.9393939393939394, 0.6432748538011696, 0.9583333333333334, 0.7211538461538461, 0.7211538461538461, 0.9487179487179488, 0.8058638660142421, 0.7786131996658313, 0.9259259259259259, 0.9166666666666666, 0.9607843137254902, 0.6122004357298475, 0.5277777777777778, 0.5, 0.9869146005509642, 0.8727272727272727, 0.6515151515151515, 0.9869146005509642, 0.7112299465240642, 0.9944510503369005, 0.9540229885057471, 0.9944510503369005, 0.9523809523809524, 0.7056277056277057, 0.7277777777777779, 0.9649122807017543, 0.5980861244019139, 0.5944444444444444, 0.8666666666666667, 0.9753086419753085, 0.9777777777777779, 0.5, 0.9523809523809524, 0.6428571428571429, 0.7056277056277057, 0.7277777777777779, 0.9444444444444443, 0.9444444444444443, 0.9047619047619048, 0.978494623655914, 0.914141414141414, 0.4777777777777778, 0.5, 0.9047619047619048, 0.9140350877192982, 0.6571428571428571, 0.7222222222222222, 0.9629629629629629, 0.4444444444444444, 0.4444444444444444, 0.9166666666666666, 0.9393939393939394, 0.49242424242424243, 0.49242424242424243, 0.9666666666666667, 0.8263157894736842, 0.8263157894736842, 0.9682539682539683, 0.611111111111111, 0.6384615384615385, 0.7056277056277057, 0.9777777777777779, 0.9722222222222223, 0.9791666666666666, 0.7578347578347578, 0.888888888888889, 0.9583333333333334, 0.9487179487179488, 0.9487179487179488, 0.9393939393939394, 0.2878787878787879, 0.2878787878787879, 0.9333333333333332, 0.9629629629629629, 0.660968660968661, 0.47222222222222215, 0.6592592592592593, 0.6851851851851851, 0.3235294117647059, 0.9393939393939394, 0.9047619047619048, 0.6254901960784314, 0.9822222222222223, 0.42777777777777776, 0.9166666666666666, 0.6746031746031745, 0.6761904761904761, 0.8438596491228069, 0.9848484848484849, 0.9259259259259259, 0.5555555555555555, 0.5555555555555555, 0.9649122807017543, 0.9487179487179488, 0.7383040935672515, 0.5555555555555555, 0.9649122807017543, 0.773148148148148, 0.9583333333333334, 0.47222222222222215, 0.5751633986928105, 0.9844961240310077, 0.6794871794871794, 0.9743589743589745, 0.9523809523809524, 0.9079365079365079, 0.9830729166666666, 0.9761904761904763, 0.7685714285714287, 0.7900088417329796, 0.8666666666666667, 0.7685714285714287, 0.9393939393939394, 0.9722222222222223, 0.7929292929292929, 0.7872463768115942, 0.7765151515151515, 0.7523809523809524, 0.7929292929292929, 0.9463937621832358, 0.704093567251462, 0.5842105263157894, 0.9555555555555556, 0.5444444444444444, 0.7687400318979266, 0.9607843137254902, 0.5220588235294118, 0.7929292929292929, 0.8931623931623932, 0.9166666666666666, 0.9444444444444443, 0.7888888888888889, 0.7888888888888889, 0.9317460317460317, 0.7277777777777779, 0.7000000000000001, 0.9487179487179488, 0.611111111111111, 0.8842592592592592, 0.9361111111111112, 0.5297619047619048, 0.5416666666666666, 0.9733333333333333, 0.9140350877192982, 0.8438596491228069, 0.8453159041394335, 0.9259259259259259, 0.9523809523809524, 0.9047619047619048, 0.9487179487179488, 0.8427128427128427, 0.7511961722488039, 0.7687400318979266, 0.7963768115942029, 0.9770114942528737, 0.9962207105064248, 0.9547892720306513, 0.8551282051282051, 0.9607843137254902, 0.6892911010558068, 0.6666666666666666, 0.9682539682539683, 0.6349206349206349, 0.7851851851851852, 0.9583333333333334, 0.9830729166666666, 0.6704545454545454, 0.8235479797979798, 0.825836216839677, 0.8240896358543418, 0.8006920415224913, 0.856280193236715, 0.9140350877192982, 0.5944444444444444, 0.6384615384615385, 0.6384615384615385, 0.9140350877192982, 0.4851851851851852, 0.5333333333333333, 0.9259259259259259, 0.9629629629629629, 0.6195286195286195, 0.6195286195286195, 0.8952569169960475, 0.9607843137254902, 0.5637254901960784, 0.5637254901960784, 0.9577294685990339, 0.6486928104575164, 0.6486928104575164, 0.8342830009496676, 0.9144620811287477, 0.8346508563899868, 0.8849206349206349, 0.8453159041394335, 0.8333333333333334, 0.8333333333333334, 0.9166666666666666, 0.9444444444444443, 0.9607843137254902, 0.6892911010558068, 0.6666666666666666, 0.6309523809523809, 0.9682539682539683, 0.6349206349206349, 0.6349206349206349, 0.6349206349206349, 0.8333333333333334, 0.7660130718954248, 0.9333333333333332, 0.9166666666666666, 0.9629629629629629, 0.7555555555555555, 0.7555555555555555, 0.9607843137254902, 0.46498599439775906, 0.5492063492063491, 0.46498599439775906, 0.9710144927536232, 0.6888320545609549, 0.7069243156199678, 0.9682539682539683, 0.5841269841269842, 0.6309523809523809, 0.9293924466338259, 0.9166666666666666, 0.8908382066276803, 0.7729618163054696, 0.7636566332218506, 0.9607843137254902, 0.5637254901960784, 0.8080808080808081, 0.8614035087719297, 0.7208333333333333, 0.7347916666666666, 0.9318007662835249, 0.8483333333333333, 0.9666666666666667, 0.7627450980392156, 0.7263157894736842, 0.9710144927536232, 0.9899180844360428, 0.530961791831357, 0.9237472766884531, 0.7800925925925926, 0.7800925925925926, 0.9166666666666666, 0.9753086419753085, 0.9487179487179488, 0.6185897435897436, 0.6185897435897436, 0.9523809523809524, 0.6507936507936508, 0.6507936507936508, 0.980952380952381, 0.9952409280190363, 0.7948717948717948, 0.9950980392156863, 0.7555555555555555, 0.9743589743589745, 0.8916127042861547, 0.9777777777777779, 0.9753086419753085, 0.7870789341377576, 0.8184949655537892, 0.835511982570806, 0.8023735810113518, 0.8974358974358975, 0.9940557841792409, 0.9343589743589744, 0.983739837398374, 0.9682539682539683, 0.5921855921855922, 0.9743589743589745, 0.9649122807017543, 0.5508771929824561, 0.9890260631001371, 0.9240265906932573, 0.7418142780461622, 0.9910611303344867, 0.8793820558526441, 0.9670731707317074, 0.6851851851851851, 0.9824561403508772, 0.9958607255904554, 0.6467236467236467, 0.9607843137254902, 0.9733333333333333, 0.9761904761904763, 0.7687400318979266, 0.8964912280701753, 0.6809523809523809, 0.7055137844611529, 0.9710144927536232, 0.9814814814814815, 0.9318007662835249, 0.988902100673801, 0.7480459770114942, 0.9710144927536232, 0.7069243156199678, 0.7261632341723875, 0.9702911467617351, 0.9960341066825302, 0.7948717948717948, 0.9172979797979798, 0.9953428458184701, 0.9743589743589745, 0.7489035087719298, 0.9523809523809524, 0.6309523809523809, 0.5897435897435898, 0.9629629629629629, 0.7333333333333334, 0.5588235294117647, 0.7738095238095237, 0.9393939393939394, 0.7394957983193278, 0.878494623655914, 0.9682539682539683, 0.9696969696969697, 0.9093567251461988, 0.704093567251462, 0.6851851851851851, 0.9393939393939394, 0.9682539682539683, 0.9629629629629629, 0.5703703703703704, 0.5703703703703704, 0.9361111111111112, 0.8333333333333334, 0.8333333333333334, 0.7440302144249513, 0.7555555555555555, 0.949667616334283, 0.949667616334283, 0.9666666666666667, 0.7431372549019608, 0.7431372549019608, 0.9523809523809524, 0.5714285714285715, 0.5714285714285715, 0.9444444444444443, 0.9399509803921569, 0.6650326797385621, 0.6650326797385621, 0.9538239538239539, 0.4666666666666666, 0.9594444444444444, 0.9523809523809524, 0.5047619047619047, 0.5854700854700855, 0.9629629629629629, 0.7333333333333334, 0.7211538461538461, 0.9777777777777779, 0.8106508875739644, 0.7759259259259259, 0.9047619047619048, 0.6309523809523809, 0.6309523809523809, 0.5833333333333334, 0.9209401709401709, 0.8622222222222221, 0.914141414141414, 0.7222222222222223, 0.6794871794871794, 0.7222222222222223, 0.9209401709401709, 0.4551282051282051, 0.5230769230769231, 0.9220779220779222, 0.7491582491582491, 0.7491582491582491, 0.9317460317460317, 0.6222222222222222, 0.6222222222222222, 0.9583333333333334, 0.4166666666666667, 0.4166666666666667, 0.9523809523809524, 0.6190476190476191, 0.6190476190476191, 0.9523809523809524, 0.38095238095238093, 0.38095238095238093, 0.9666666666666667, 0.9649122807017543, 0.9144620811287477, 0.9112060778727445, 0.8346508563899868, 0.9629629629629629, 0.7333333333333334, 0.7333333333333334, 0.6356275303643725, 0.9583333333333334, 0.5, 0.5, 0.9259259259259259, 0.9333333333333332, 0.9333333333333332, 0.9696969696969697, 0.9910468319559229, 0.8148760330578512, 0.9830729166666666, 0.6342592592592592, 0.9911783238815375, 0.6304347826086957, 0.9838523644752019, 0.3235294117647059, 0.9333333333333332, 0.9391534391534391, 0.9666666666666667, 0.7208333333333333, 0.7208333333333333, 0.9925333333333334, 0.9466666666666667, 0.7684848484848485, 0.9925333333333334, 0.7684848484848485, 0.9333333333333332, 0.9651067323481116, 0.9407114624505929, 0.6347826086956522, 0.6304347826086957, 0.9777777777777779, 0.6794871794871794, 0.9710144927536232, 0.978494623655914, 0.9079365079365079, 0.9666666666666667, 0.5787878787878787, 0.9629629629629629, 0.7800925925925926, 0.4551282051282051, 0.9399509803921569, 0.4803921568627451, 0.9444444444444443, 0.9317460317460317, 0.5492063492063491, 0.6055555555555555, 0.9491228070175438, 0.7000000000000001, 0.7627450980392156, 0.9696969696969697, 0.9523809523809524, 0.7658730158730158, 0.7658730158730158, 0.9583333333333334, 0.7976190476190476, 0.9909816163718349, 0.9950426333531628, 0.8472222222222222, 0.9902210884353742, 0.928743961352657, 0.5918803418803419, 0.6984126984126985, 0.660968660968661, 0.6984126984126985, 0.6075808249721293, 0.6075808249721293, 0.9710144927536232, 0.6777777777777777, 0.8841269841269841, 0.7277777777777779, 0.6777777777777777, 0.7156862745098039, 0.735930735930736, 0.9710144927536232, 0.5962732919254659, 0.7416666666666667, 0.7416666666666667, 0.9487179487179488, 0.994212962962963, 0.6666666666666666, 0.9890046296296297, 0.6666666666666666, 0.9629629629629629, 0.660968660968661, 0.6916221033868092, 0.7149321266968326, 0.9368471035137702, 0.7870370370370371, 0.7555555555555555, 0.7555555555555555, 0.9666666666666667, 0.7431372549019608, 0.7431372549019608, 0.9666666666666667, 0.7431372549019608, 0.7511961722488039, 0.6710526315789473, 0.7431372549019608, 0.9144620811287477, 0.7658730158730158, 0.7000000000000001, 0.7563070316693504, 0.9666666666666667, 0.6777777777777777, 0.5220588235294118, 0.6222222222222222, 0.9722222222222223, 0.5405982905982906, 0.7161531279178338, 0.704093567251462, 0.9093567251461988, 0.704093567251462, 0.6851851851851851, 0.7280701754385964, 0.704093567251462, 0.9803921568627452, 0.9629629629629629, 0.708994708994709, 0.48888888888888893, 0.7394957983193278, 0.9555555555555556, 0.42777777777777776, 0.6428571428571429, 0.9696969696969697, 0.6147186147186147, 0.6641025641025641, 0.9182539682539682, 0.7161531279178338, 0.7851851851851852, 0.9259259259259259, 0.9666666666666667, 0.7431372549019608, 0.6869095816464238, 0.949667616334283, 0.7836363636363637, 0.9455555555555555, 0.7261632341723875, 0.9777777777777779, 0.9944510503369005, 0.9733333333333333, 0.9696969696969697, 0.45075757575757575, 0.5363636363636363, 0.9444444444444443, 0.9555555555555556, 0.7555555555555555, 0.7555555555555555, 0.9038888888888889, 0.9907407407407408, 0.7037037037037037, 0.8952569169960475, 0.990358126721763, 0.7491582491582491, 0.9399509803921569, 0.5588235294117647, 0.64349376114082, 0.5175438596491228, 0.928743961352657, 0.4351851851851852, 0.4830917874396135, 0.8483333333333333, 0.7833333333333333, 0.8949358272808675, 0.8250000000000001, 0.7211538461538461, 0.7000000000000001, 0.9093567251461988, 0.6586921850079746, 0.6195286195286195, 0.9682539682539683, 0.6349206349206349, 0.7851851851851852, 0.9138888888888889, 0.9649122807017543, 0.681704260651629, 0.708994708994709, 0.9333333333333332, 0.9583333333333334, 0.6944444444444445, 0.6707070707070706, 0.8682539682539682, 0.9444444444444443, 0.47222222222222215, 0.5, 0.9777777777777779, 0.9682539682539683, 0.48888888888888893, 0.6401515151515151, 0.9666666666666667, 0.5333333333333333, 0.5126050420168067, 0.4973544973544974, 0.9259259259259259, 0.9861495844875345, 0.4360902255639097, 0.6283891547049442, 0.9797979797979798, 0.9393939393939394, 0.6931818181818182, 0.6931818181818182, 0.8087719298245614, 0.8087719298245614, 0.6954365079365079, 0.7263157894736842, 0.8842592592592592, 0.8352826510721248, 0.9555555555555556, 0.6707070707070706, 0.7000000000000001, 0.9666666666666667, 0.9166666666666666, 0.888888888888889, 0.9444444444444443, 0.8666666666666667, 0.8171717171717171, 0.9696969696969697, 0.7511961722488039, 0.7511961722488039, 0.9010989010989011, 0.7658730158730158, 0.8126984126984128, 0.9140350877192982, 0.5666666666666667, 0.6090909090909091, 0.7800925925925926, 0.7870370370370371, 0.7250280583613916, 0.9444444444444443, 0.9333333333333332, 0.9444444444444443, 0.9803921568627452, 0.8095238095238096, 0.9743589743589745, 0.9733333333333333, 0.6558333333333334, 0.6166666666666667, 0.8187759952465834, 0.9761904761904763, 0.9343589743589744, 0.5666666666666667, 0.8906088751289989, 0.8513931888544892, 0.9555555555555556, 0.9629629629629629, 0.7555555555555555, 0.7489035087719298, 0.7555555555555555, 0.9166666666666666, 0.9878472222222223, 0.7738095238095237, 0.9607843137254902, 0.6737967914438503, 0.6737967914438503, 0.9649122807017543, 0.4360902255639097, 0.4360902255639097, 0.9733333333333333, 0.9833333333333334, 0.9777777777777779, 0.978494623655914, 0.9444444444444443, 0.7929292929292929, 0.7929292929292929, 0.9583333333333334, 0.6666666666666666, 0.7211538461538461, 0.9733333333333333, 0.7346031746031746, 0.7346031746031746, 0.9710144927536232, 0.7261632341723875, 0.7261632341723875, 0.9886587771203156, 0.7463768115942028, 0.9845679012345679, 0.792309670781893, 0.9649122807017543, 0.7489035087719298, 0.7489035087719298, 0.9444444444444443, 0.9333333333333332, 0.6219336219336219, 0.9166666666666666, 0.64349376114082, 0.6428571428571429, 0.9444444444444443, 0.8952569169960475, 0.9696969696969697, 0.7121212121212123, 0.7121212121212123, 0.7261632341723875, 0.6666666666666666, 0.9182539682539682, 0.9010989010989011, 0.9255599472990778, 0.6888320545609549, 0.6888320545609549, 0.8535353535353535, 0.7222222222222223, 0.7222222222222223, 0.9140350877192982, 0.5944444444444444, 0.6384615384615385, 0.9896948077685296, 0.9333333333333332, 0.9649122807017543, 0.7263157894736842, 0.7555555555555555, 0.9267399267399267, 0.7380952380952381, 0.7380952380952381, 0.9487179487179488, 0.5897435897435898, 0.6923076923076922, 0.8472222222222222, 0.888888888888889, 0.9444444444444443, 0.9743589743589745, 0.9629629629629629, 0.5046296296296297, 0.5703703703703704, 0.5703703703703704, 0.9060606060606061, 0.9733333333333333, 0.6, 0.6690196078431373, 0.9696969696969697, 0.9166666666666666, 0.9259259259259259, 0.9583333333333334, 0.6704545454545454, 0.6704545454545454, 0.9166666666666666, 0.9333333333333332, 0.8666666666666667, 0.9259259259259259, 0.7572649572649572, 0.9555555555555556, 0.42777777777777776, 0.42777777777777776, 0.9166666666666666, 0.8903318903318903, 0.5990675990675991, 0.6385281385281386, 0.9901620370370371, 0.9722222222222223, 0.7579365079365079, 0.9901620370370371, 0.7929292929292929, 0.9583333333333334, 0.7467948717948718, 0.7467948717948718, 0.9047619047619048, 0.9393939393939394, 0.6432748538011696, 0.64349376114082, 0.9166666666666666, 0.9555555555555556, 0.9607843137254902, 0.64349376114082, 0.64349376114082, 0.9140350877192982, 0.7208333333333333, 0.7208333333333333, 0.7489035087719298, 0.9317460317460317, 0.7000000000000001, 0.7000000000000001, 0.9393939393939394, 0.5151515151515151, 0.5151515151515151, 0.9487179487179488, 0.9210256410256411, 0.7459207459207459, 0.7504761904761904, 0.9393939393939394, 0.8472222222222222, 0.7738095238095237, 0.8250000000000001, 0.9487179487179488, 0.4551282051282051, 0.5854700854700855, 0.9333333333333332, 0.7000000000000001, 0.7000000000000001, 0.9682539682539683, 0.9220779220779222, 0.5580808080808081, 0.5734265734265734, 0.9777777777777779, 0.9629629629629629, 0.7555555555555555, 0.7555555555555555, 0.9487179487179488, 0.9629629629629629, 0.5185185185185185, 0.45751633986928103, 0.9166666666666666, 0.9607843137254902, 0.7394957983193278, 0.7738095238095237, 0.8997584541062803, 0.8080808080808081, 0.7566137566137566, 0.9444444444444443, 0.9555555555555556, 0.35555555555555557, 0.35555555555555557, 0.9682539682539683, 0.9803921568627452, 0.5753968253968255, 0.9666666666666667, 0.7572649572649572, 0.9743589743589745, 0.9487179487179488, 0.9523809523809524, 0.9317460317460317, 0.9733333333333333, 0.7055137844611529, 0.6809523809523809, 0.9649122807017543, 0.9908854166666667, 0.7353395061728395, 0.9770114942528737, 0.9515873015873014, 0.7566137566137566, 0.9444444444444443, 0.7765804597701149, 0.9487179487179488, 0.9629629629629629, 0.5185185185185185, 0.42777777777777776, 0.9607843137254902, 0.45751633986928103, 0.5444444444444444, 0.9722222222222223, 0.9172979797979798, 0.9953703703703703, 0.997037037037037, 0.6707070707070706, 0.9979423868312757, 0.9948559670781894, 0.9947325102880659, 0.9951712690508525, 0.9822222222222223, 0.6707070707070706, 0.7948717948717948, 0.9523809523809524, 0.724867724867725, 0.724867724867725, 0.6055555555555555, 0.9722222222222223, 0.9607843137254902, 0.5637254901960784, 0.5637254901960784, 0.9432367149758454, 0.5944444444444444, 0.6319444444444444, 0.9010989010989011, 0.9607843137254902, 0.6737967914438503, 0.6737967914438503, 0.9649122807017543, 0.704093567251462, 0.704093567251462, 0.8690476190476191, 0.9770114942528737, 0.9267399267399267, 0.5079365079365079, 0.5238095238095238, 0.9649122807017543, 0.5508771929824561, 0.5508771929824561, 0.9613445378151261, 0.9333333333333332, 0.9333333333333332, 0.9583333333333334, 0.7467948717948718, 0.7467948717948718, 0.9166666666666666, 0.5416666666666666, 0.8903318903318903, 0.9696969696969697, 0.9555555555555556, 0.9607843137254902, 0.6254901960784314, 0.6254901960784314, 0.6866096866096866, 0.9583333333333334, 0.7738095238095237, 0.7738095238095237, 0.9733333333333333, 0.7346031746031746, 0.7346031746031746, 0.9444444444444443, 0.7211538461538461, 0.9950869236583523, 0.9950426333531628, 0.9166666666666666, 0.7056277056277057, 0.7128205128205128, 0.9878472222222223, 0.7032163742690059, 0.9882666666666667, 0.7000000000000001, 0.9710144927536232, 0.9682539682539683, 0.611111111111111, 0.6128205128205129, 0.9666666666666667, 0.7627450980392156, 0.9743589743589745, 0.8649237472766885, 0.9555555555555556, 0.25555555555555554, 0.7729618163054696, 0.9743589743589745, 0.9146505376344086, 0.9973958333333334, 0.9393939393939394, 0.9666666666666667, 0.9393939393939394, 0.6683006535947712, 0.9393939393939394, 0.914141414141414, 0.9583333333333334, 0.5297619047619048, 0.5297619047619048, 0.9487179487179488, 0.4564102564102564, 0.4564102564102564, 0.9733333333333333, 0.9166666666666666, 0.8393817204301075, 0.856280193236715, 0.6527777777777778, 0.7318899782135077, 0.9166666666666666, 0.9666666666666667, 0.6222222222222222, 0.6222222222222222, 0.9487179487179488, 0.7762237762237763, 0.7762237762237763, 0.8250000000000001, 0.9444444444444443, 0.9047619047619048, 0.9649122807017543, 0.5009746588693957, 0.5009746588693957, 0.8673835125448028, 0.9753086419753085, 0.9722222222222223, 0.9047619047619048, 0.9333333333333332, 0.9555555555555556, 0.9629629629629629, 0.7555555555555555, 0.7394957983193278, 0.9733333333333333, 0.7684848484848485, 0.7684848484848485, 0.9950869236583523, 0.9895833333333334, 0.8838383838383838, 0.6486928104575164, 0.9895833333333334, 0.6486928104575164, 0.9333333333333332, 0.943295019157088, 0.9374110953058322, 0.9487179487179488, 0.6185897435897436, 0.6185897435897436, 0.9555555555555556, 0.6707070707070706, 0.745925925925926, 0.9361111111111112, 0.5416666666666666, 0.5601851851851852, 0.9487179487179488, 0.6467236467236467, 0.7128205128205128, 0.7128205128205128, 0.9538239538239539, 0.7306397306397306, 0.7306397306397306, 0.9555555555555556, 0.9666666666666667, 0.9607843137254902, 0.7149321266968326, 0.7211538461538461, 0.9607843137254902, 0.5602240896358542, 0.6492374727668845, 0.9523809523809524, 0.7056277056277057, 0.7056277056277057, 0.888888888888889, 0.9333333333333332, 0.5444444444444444, 0.5185185185185185, 0.8916666666666666, 0.6666666666666666, 0.5833333333333334, 0.5492063492063491, 0.9634634634634635, 0.9123249299719888, 0.8214624881291548, 0.9879062736205594, 0.9797979797979798, 0.9148148148148149, 0.9892879647132955, 0.9278752436647174, 0.5677830940988836, 0.7738095238095237, 0.9007168458781362, 0.9879062736205594, 0.9444444444444443, 0.27777777777777773, 0.7156862745098039, 0.27777777777777773, 0.9743589743589745, 0.9753086419753085, 0.9523809523809524, 0.5892857142857143, 0.5892857142857143, 0.914141414141414, 0.849802371541502, 0.5422705314009661, 0.5819397993311036, 0.9710144927536232, 0.44021739130434784, 0.44021739130434784, 0.9333333333333332, 0.9583333333333334, 0.9333333333333332, 0.9629629629629629, 0.6851851851851851, 0.7489035087719298, 0.6851851851851851, 0.9803921568627452, 0.9848484848484849, 0.7985347985347985, 0.9797979797979798, 0.9583333333333334, 0.7738095238095237, 0.8167641325536062, 0.7929292929292929, 0.8101851851851852, 0.7738095238095237, 0.7222222222222223, 0.9259259259259259, 0.9333333333333332, 0.9710144927536232, 0.5562987736900781, 0.5562987736900781, 0.9682539682539683, 0.6178266178266179, 0.6984126984126985, 0.9021164021164022, 0.9696969696969697, 0.6545454545454544, 0.7851851851851852, 0.8167641325536062, 0.9555555555555556, 0.48888888888888893, 0.48888888888888893, 0.9629629629629629, 0.7800925925925926, 0.7800925925925926, 0.9487179487179488, 0.6467236467236467, 0.6467236467236467, 0.8754578754578755, 0.7056277056277057, 0.7380952380952381, 0.9629629629629629, 0.9259259259259259, 0.9047619047619048, 0.8257080610021786, 0.7156862745098039, 0.9696969696969697, 0.5990675990675991, 0.5990675990675991, 0.5990675990675991, 0.9649122807017543, 0.5842105263157894, 0.6710526315789473, 0.9555555555555556, 0.5492063492063491, 0.5492063492063491, 0.978494623655914, 0.9629629629629629, 0.9166666666666666, 0.8845315904139434, 0.6851851851851851, 0.793235294117647, 0.9722222222222223, 0.7388888888888889, 0.7388888888888889, 0.9523809523809524, 0.8845315904139434, 0.7592592592592592, 0.7592592592592592, 0.8232323232323232, 0.9487179487179488, 0.4551282051282051, 0.4551282051282051, 0.9629629629629629, 0.7800925925925926, 0.7800925925925926, 0.9349206349206348, 0.9555555555555556, 0.6444444444444445, 0.5494505494505494, 0.9523809523809524, 0.6428571428571429, 0.5, 0.9487179487179488, 0.6467236467236467, 0.5151515151515151, 0.9138888888888889, 0.5601851851851852, 0.44047619047619047, 0.8276923076923076, 0.9555555555555556, 0.5851851851851851, 0.6401515151515151, 0.8566176470588235, 0.45751633986928103, 0.9886578449905482, 0.7069243156199678, 0.9666666666666667, 0.6090909090909091, 0.9629629629629629, 0.982905982905983, 0.9733333333333333, 0.7684848484848485, 0.7959401709401709, 0.7872463768115942, 0.7056277056277057, 0.7959401709401709, 0.7056277056277057, 0.6794871794871794, 0.8716397849462365, 0.9340501792114696, 0.9733333333333333, 0.704093567251462, 0.9523809523809524, 0.7936507936507936, 0.7829059829059829, 0.7936507936507936, 0.9629629629629629, 0.4973544973544974, 0.45751633986928103, 0.5046296296296297, 0.9733333333333333, 0.9523809523809524, 0.9333333333333332, 0.7572649572649572, 0.40740740740740744, 0.9010989010989011, 0.5892857142857143, 0.6507936507936508, 0.9733333333333333, 0.9583333333333334, 0.6401515151515151, 0.7697368421052632, 0.9696969696969697, 0.9896694214876033, 0.7112299465240642, 0.9487179487179488, 0.9191176470588235, 0.5637254901960784, 0.6492374727668845, 0.6492374727668845, 0.9523809523809524, 0.9682539682539683, 0.5310245310245311, 0.4851851851851852, 0.9523809523809524, 0.9649122807017543, 0.7280701754385964, 0.7280701754385964, 0.9607843137254902, 0.7149321266968326, 0.7149321266968326, 0.8852657004830918, 0.8841269841269841, 0.9259259259259259, 0.5303030303030303, 0.49242424242424243, 0.9166666666666666, 0.9444444444444443, 0.9629629629629629, 0.7592592592592592, 0.75, 0.9607843137254902, 0.6650326797385621, 0.6650326797385621, 0.9051310446659283, 0.8126984126984128, 0.5492063492063491, 0.5638888888888889, 0.9259259259259259, 0.9555555555555556, 0.6851851851851851, 0.9047619047619048, 0.9487179487179488, 0.6794871794871794, 0.6794871794871794, 0.5015873015873016, 0.9696969696969697, 0.6916221033868092, 0.6916221033868092, 0.9487179487179488, 0.4564102564102564, 0.6892911010558068, 0.9629629629629629, 0.7333333333333334, 0.7333333333333334, 0.9607843137254902, 0.9393939393939394, 0.9555555555555556, 0.5555555555555555, 0.5555555555555555, 0.9523809523809524, 0.5079365079365079, 0.5079365079365079, 0.9333333333333332, 0.4708994708994709, 0.9444444444444443, 0.7161531279178338, 0.8801301301301301, 0.9607843137254902, 0.69281045751634, 0.6222222222222222, 0.9444444444444443, 0.9905482041587901, 0.9420289855072465, 0.7254428341384864, 0.9905482041587901, 0.7254428341384864, 0.9349206349206348, 0.6954365079365079, 0.6954365079365079, 0.9666666666666667, 0.7851851851851852, 0.7851851851851852, 0.9343589743589744, 0.9047619047619048, 0.9733333333333333, 0.980952380952381, 0.9166666666666666, 0.9649122807017543, 0.9733333333333333, 0.9722222222222223, 0.9733333333333333, 0.9874666666666667, 0.8438095238095237, 0.9917355371900827, 0.9666666666666667, 0.8263157894736842, 0.8128019323671497, 0.5793650793650794, 0.6611111111111111, 0.9333333333333332, 0.9753086419753085, 0.9166666666666666, 0.9555555555555556, 0.43333333333333335, 0.5638888888888889, 0.9333333333333332, 0.9722222222222223, 0.9797979797979798, 0.9733333333333333, 0.7684848484848485, 0.7959401709401709, 0.7346031746031746, 0.7991718426501034, 0.7222222222222223, 0.841025641025641, 0.7777777777777777, 0.8080808080808081, 0.8015873015873015, 0.6954365079365079, 0.6916221033868092, 0.8849206349206349, 0.5507936507936507, 0.5613275613275613, 0.9666666666666667, 0.6777777777777777, 0.7208333333333333, 0.7985347985347985, 0.7658730158730158, 0.5416666666666666, 0.5638888888888889, 0.949667616334283, 0.9455555555555555, 0.9349206349206348, 0.9926840420667581, 0.7906172839506173, 0.8128019323671497, 0.8357843137254902, 0.7660130718954248, 0.8149509803921569, 0.9710144927536232, 0.9010989010989011, 0.6137566137566138, 0.6761904761904761, 0.9649122807017543, 0.6869095816464238, 0.6869095816464238, 0.9523809523809524, 0.7056277056277057, 0.7825963718820861, 0.9523809523809524, 0.7333333333333334, 0.8829131652661064, 0.9753086419753085, 0.7852925389157273, 0.9696969696969697, 0.7687400318979266, 0.7687400318979266, 0.8268398268398268, 0.9166666666666666, 0.9649122807017543, 0.7280701754385964, 0.7280701754385964, 0.9649122807017543, 0.6342592592592592, 0.8916666666666666, 0.6166666666666667, 0.6650326797385621, 0.7222222222222223, 0.9523809523809524, 0.6428571428571429, 0.7277777777777779, 0.9624881291547958, 0.8810256410256411, 0.7307692307692308, 0.778149386845039, 0.978494623655914, 0.9333333333333332, 0.9583333333333334, 0.6401515151515151, 0.6401515151515151, 0.9710144927536232, 0.7832988267770876, 0.7836363636363637, 0.9629629629629629, 0.708994708994709, 0.7333333333333334, 0.8666666666666667, 0.8650793650793651, 0.9333333333333332, 0.39999999999999997, 0.39999999999999997, 0.8472222222222222, 0.6666666666666666, 0.7626201923076923, 0.8498168498168498, 0.6428571428571429, 0.7056277056277057, 0.9523809523809524, 0.7056277056277057, 0.7056277056277057, 0.9047619047619048, 0.9278752436647174, 0.4360902255639097, 0.4473684210526316, 0.9047619047619048, 0.888888888888889, 0.9649122807017543, 0.9770114942528737, 0.7900088417329796, 0.7900088417329796, 0.9487179487179488, 0.7128205128205128, 0.7459207459207459, 0.9666666666666667, 0.7998242144583608, 0.9945213379469435, 0.9844961240310077, 0.9682539682539683, 0.9649122807017543, 0.6356275303643725, 0.6356275303643725, 0.9753086419753085, 0.7418142780461622, 0.7906172839506173, 0.9487179487179488, 0.5299145299145299, 0.7431372549019608, 0.7566137566137566, 0.8515873015873016, 0.9696969696969697, 0.9845679012345679, 0.5046296296296297, 0.9777777777777779, 0.9607843137254902, 0.7633053221288515, 0.7633053221288515, 0.9444444444444443, 0.7222222222222222, 0.611111111111111, 0.7222222222222222, 0.9523809523809524, 0.7056277056277057, 0.735930735930736, 0.9629629629629629, 0.5046296296296297, 0.5703703703703704, 0.888888888888889, 0.9607843137254902, 0.7394957983193278, 0.7394957983193278, 0.8774250440917107, 0.9649122807017543, 0.7263157894736842, 0.708994708994709, 0.5972222222222222, 0.9555555555555556, 0.4222222222222222, 0.5492063492063491, 0.9682539682539683, 0.9733333333333333, 0.9607843137254902, 0.5220588235294118, 0.5220588235294118, 0.9278752436647174, 0.7729618163054696, 0.7729618163054696, 0.9649122807017543, 0.5307017543859649, 0.5307017543859649, 0.9166666666666666, 0.9791666666666666, 0.9555555555555556, 0.48888888888888893, 0.9899405578417924, 0.9112060778727445, 0.7418142780461622, 0.9896449704142012, 0.7459207459207459, 0.8365079365079365, 0.9455555555555555, 0.8995771670190275, 0.9931129476584023, 0.977961432506887, 0.9937414965986395, 0.980952380952381, 0.7119047619047619, 0.9920221990981617, 0.9940843621399177, 0.8268398268398268, 0.503030303030303, 0.7156862745098039, 0.9791666666666666, 0.7658730158730158, 0.9529100529100529, 0.9682539682539683, 0.9761904761904763, 0.8272946859903382, 0.7579365079365079, 0.7729618163054696, 0.9696969696969697, 0.6916221033868092, 0.6916221033868092, 0.9466666666666667, 0.9696969696969697, 0.9412972085385879, 0.9791666666666666, 0.8849206349206349, 0.9523809523809524, 0.859180035650624, 0.928743961352657, 0.8263157894736842, 0.5333333333333333, 0.7211538461538461, 0.9906347554630593, 0.7277777777777779, 0.9333333333333332, 0.39999999999999997, 0.39999999999999997, 0.9259259259259259, 0.9333333333333332, 0.5842105263157894, 0.8365079365079365, 0.6707070707070706, 0.7388888888888889, 0.9166666666666666, 0.9393939393939394, 0.8222222222222223, 0.9487179487179488, 0.8585858585858586, 0.6545454545454544, 0.6723484848484849, 0.9333333333333332, 0.6571428571428571, 0.3148148148148148, 0.9583333333333334, 0.48214285714285715, 0.48214285714285715, 0.9722222222222223, 0.48888888888888893, 0.9209401709401709, 0.37606837606837606, 0.3717948717948718, 0.9444444444444443, 0.9455555555555555, 0.9476923076923077, 0.8333333333333334, 0.782051282051282, 0.8931623931623932, 0.7459207459207459, 0.824457593688363, 0.9444444444444443, 0.7555555555555555, 0.7929292929292929, 0.9333333333333332, 0.39999999999999997, 0.7572649572649572, 0.7156862745098039, 0.9278752436647174, 0.7373801022194219, 0.8842592592592592, 0.40740740740740744, 0.7222222222222223, 0.9349206349206348, 0.9455555555555555, 0.9455555555555555, 0.9432367149758454, 0.937950937950938, 0.9583333333333334, 0.48214285714285715, 0.8015873015873015, 0.9093567251461988, 0.704093567251462, 0.7555555555555555, 0.9240265906932573, 0.5380116959064327, 0.9629629629629629, 0.5703703703703704, 0.5703703703703704, 0.9629629629629629, 0.7333333333333334, 0.7333333333333334, 0.9259259259259259, 0.9393939393939394, 0.9487179487179488, 0.6794871794871794, 0.6794871794871794, 0.9393939393939394, 0.49242424242424243, 0.49242424242424243, 0.9607843137254902, 0.40686274509803927, 0.40196078431372556, 0.9523809523809524, 0.5714285714285715, 0.9666666666666667, 0.7851851851851852, 0.8903318903318903, 0.7511961722488039, 0.7786131996658313, 0.9649122807017543, 0.7729618163054696, 0.7800925925925926, 0.9696969696969697, 0.810966810966811, 0.9666666666666667, 0.8037037037037038, 0.8352826510721248, 0.6432748538011696, 0.9594444444444444, 0.7684848484848485, 0.8061002178649237, 0.7122507122507122, 0.9649122807017543, 0.8214624881291548, 0.872744539411206, 0.708994708994709, 0.9629629629629629, 0.7333333333333334, 0.788235294117647, 0.9682539682539683, 0.6851851851851851, 0.9649122807017543, 0.4890350877192982, 0.708994708994709, 0.5046296296296297, 0.9682539682539683, 0.7566137566137566, 0.7566137566137566, 0.9710144927536232, 0.7463768115942028, 0.7463768115942028, 0.9682539682539683, 0.6954365079365079, 0.7000000000000001, 0.9682539682539683, 0.6434676434676435, 0.6434676434676435, 0.914141414141414, 0.9607843137254902, 0.64349376114082, 0.64349376114082, 0.9696969696969697, 0.7121212121212123, 0.6178266178266179, 0.943295019157088, 0.9696969696969697, 0.6916221033868092, 0.6916221033868092, 0.9399509803921569, 0.6892911010558068, 0.6944444444444445, 0.8383119962067331, 0.9523809523809524, 0.4761904761904762, 0.7786131996658313, 0.9629629629629629, 0.6195286195286195, 0.6866096866096866, 0.9182539682539682, 0.7961570593149542, 0.5220588235294118, 0.9696969696969697, 0.9882920110192838, 0.7893939393939394, 0.995674740484429, 0.9259259259259259, 0.8417874396135266, 0.7388888888888889, 0.9696969696969697, 0.7121212121212123, 0.7687400318979266, 0.9710144927536232, 0.9555555555555556, 0.4222222222222222, 0.4222222222222222, 0.9047619047619048, 0.9259259259259259, 0.9629629629629629, 0.660968660968661, 0.6851851851851851, 0.9555555555555556, 0.5638888888888889, 0.6777777777777777, 0.9649122807017543, 0.7280701754385964, 0.7489035087719298, 0.9666666666666667, 0.7208333333333333, 0.7431372549019608, 0.9607843137254902, 0.9733333333333333, 0.6195286195286195, 0.9666666666666667, 0.5484848484848485, 0.5185185185185185, 0.9015873015873016, 0.9487179487179488, 0.7511961722488039, 0.8298097251585624, 0.8754578754578755, 0.7380952380952381, 0.9015873015873016, 0.7357609710550888, 0.775132275132275, 0.9166666666666666, 0.9093567251461988, 0.5009746588693957, 0.9444444444444443, 0.9333333333333332, 0.9255599472990778, 0.9797979797979798, 0.9743589743589745, 0.778149386845039, 0.980952380952381, 0.9710144927536232, 0.9733333333333333, 0.8566176470588235, 0.5220588235294118, 0.5555555555555555, 0.9696969696969697, 0.9148148148148149, 0.8952569169960475, 0.5962732919254659, 0.6347826086956522, 0.9761904761904763, 0.9343589743589744, 0.80982905982906, 0.8276923076923076, 0.9047619047619048, 0.9710144927536232, 0.9432367149758454, 0.9455555555555555, 0.9407114624505929, 0.9432367149758454, 0.9476923076923077, 0.8222495894909688, 0.9562724014336919, 0.9407114624505929, 0.8156966490299823, 0.9407114624505929, 0.9532019704433498, 0.9514991181657848, 0.9523809523809524, 0.9649122807017543, 0.9722222222222223, 0.5555555555555556, 0.681704260651629, 0.8845315904139434, 0.7333333333333334, 0.6892911010558068, 0.9607843137254902, 0.7633053221288515, 0.7738095238095237, 0.7633053221288515, 0.9444444444444443, 0.9191176470588235, 0.7156862745098039, 0.9487179487179488, 0.9487179487179488, 0.5970695970695971, 0.5970695970695971, 0.9607843137254902, 0.6892911010558068, 0.6666666666666666, 0.8789473684210526, 0.9607843137254902, 0.9710144927536232, 0.9487179487179488, 0.4871794871794872, 0.4871794871794872, 0.8666666666666667, 0.9050925925925926, 0.9629629629629629, 0.6851851851851851, 0.5508771929824561, 0.9607843137254902, 0.7660130718954248, 0.7660130718954248, 0.9538239538239539, 0.7511961722488039, 0.7511961722488039, 0.978494623655914, 0.9733333333333333, 0.9112060778727445, 0.9047619047619048, 0.9682539682539683, 0.6031746031746031, 0.9629629629629629, 0.708994708994709, 0.5970695970695971, 0.9722222222222223, 0.9743589743589745, 0.9629629629629629, 0.38518518518518513, 0.43274853801169594, 0.9629629629629629, 0.6195286195286195, 0.5833333333333334, 0.9555555555555556, 0.7277777777777779, 0.735930735930736, 0.8982843137254902, 0.396078431372549, 0.47500000000000003, 0.9792592592592594, 0.9555555555555556, 0.42777777777777776, 0.9940476190476191, 0.8195767195767196, 0.9629629629629629, 0.5703703703703704, 0.5703703703703704, 0.9761904761904763, 0.6629072681704261, 0.8027777777777777, 0.5297619047619048, 0.5492063492063491, 0.8365079365079365, 0.5444444444444444, 0.5492063492063491, 0.943355119825708, 0.6388888888888888, 0.660968660968661, 0.9610256410256411, 0.778149386845039, 0.778149386845039, 0.6851851851851851, 0.9555555555555556, 0.6777777777777777, 0.6777777777777777, 0.9215686274509803, 0.9487179487179488, 0.7459207459207459, 0.6851851851851851, 0.9523809523809524, 0.5714285714285715, 0.5714285714285715, 0.9696969696969697, 0.7687400318979266, 0.9682539682539683, 0.5555555555555555, 0.8481481481481481, 0.980952380952381, 0.9696969696969697, 0.9733333333333333, 0.9761904761904763, 0.8838383838383838, 0.9166666666666666, 0.9583333333333334, 0.47222222222222215, 0.47222222222222215, 0.9696969696969697, 0.828042328042328, 0.7857142857142857, 0.7727272727272728, 0.7985347985347985, 0.8513409961685824, 0.9577294685990339, 0.9317460317460317, 0.9973544973544973, 0.9523809523809524, 0.9555555555555556, 0.48888888888888893, 0.6892911010558068, 0.9487179487179488, 0.7128205128205128, 0.7128205128205128, 0.9872589531680441, 0.9848484848484849, 0.9872589531680441, 0.8842592592592592, 0.9451612903225807, 0.9555555555555556, 0.9393939393939394, 0.9696969696969697, 0.9666666666666667, 0.6777777777777777, 0.5842105263157894, 0.9649122807017543, 0.6154970760233919, 0.6154970760233919, 0.8194993412384717, 0.8150448585231193, 0.9949363425925926, 0.8149509803921569, 0.7660130718954248, 0.996440014239943, 0.9444444444444443, 0.9583333333333334, 0.4583333333333333, 0.9909297052154196, 0.8723196881091617, 0.9907663896583564, 0.704093567251462, 0.8229390681003584, 0.9444444444444443, 0.9722222222222223, 0.9682539682539683, 0.9743589743589745, 0.9112060778727445, 0.9523809523809524, 0.9577294685990339, 0.9761904761904763, 0.7333333333333334, 0.9514991181657848, 0.9487179487179488, 0.7000000000000001, 0.9629629629629629, 0.9333333333333332, 0.8128019323671497, 0.8194993412384717, 0.8268398268398268, 0.8272946859903382, 0.8268398268398268, 0.9743589743589745, 0.9869146005509642, 0.7306397306397306, 0.9649122807017543, 0.9753086419753085, 0.7870370370370371, 0.7685714285714287, 0.9710144927536232, 0.9649122807017543, 0.7485380116959064, 0.7485380116959064, 0.9166666666666666, 0.9710144927536232, 0.9649122807017543, 0.4890350877192982, 0.4890350877192982, 0.9682539682539683, 0.7786131996658313, 0.7786131996658313, 0.9333333333333332, 0.9191176470588235, 0.6372549019607844, 0.6372549019607844, 0.9420289855072465, 0.9010989010989011, 0.9898666666666667, 0.9733333333333333, 0.8205555555555555, 0.9898666666666667, 0.8205555555555555, 0.8472222222222222, 0.9547892720306513, 0.9166666666666666, 0.9393939393939394, 0.9444444444444443, 0.6851851851851851, 0.6851851851851851, 0.8690476190476191, 0.9469086021505376, 0.978494623655914, 0.8754578754578755, 0.5714285714285715, 0.5892857142857143, 0.9191176470588235, 0.6372549019607844, 0.6372549019607844, 0.8333333333333334, 0.9259259259259259, 0.9555555555555556, 0.7000000000000001, 0.7000000000000001, 0.9523809523809524, 0.7056277056277057, 0.7056277056277057, 0.9583333333333334, 0.6944444444444445, 0.6944444444444445, 0.9393939393939394, 0.9166666666666666, 0.9629629629629629, 0.7800925925925926, 0.7800925925925926, 0.9607843137254902, 0.788235294117647, 0.7941176470588235, 0.9649122807017543, 0.7489035087719298, 0.6777777777777777, 0.9777777777777779, 0.9021164021164022, 0.9666666666666667, 0.5944444444444444, 0.9666666666666667, 0.9047619047619048, 0.9682539682539683, 0.7357609710550888, 0.9722222222222223, 0.7555555555555555, 0.9696969696969697, 0.7211538461538461, 0.9174876847290641, 0.8058748403575989, 0.6851851851851851, 0.9743589743589745, 0.6794871794871794, 0.9666666666666667, 0.9855072463768115, 0.9338624338624338, 0.7459207459207459, 0.8903318903318903, 0.9733333333333333, 0.9743589743589745, 0.9682539682539683, 0.4551282051282051, 0.9791666666666666, 0.8333333333333334, 0.39999999999999997, 0.393939393939394, 0.9583333333333334, 0.7211538461538461, 0.7211538461538461, 0.6222222222222222, 0.9682539682539683, 0.7961570593149542, 0.8182539682539683, 0.9259259259259259, 0.8723196881091617, 0.704093567251462, 0.704093567251462, 0.9333333333333332, 0.39999999999999997, 0.39999999999999997, 0.2878787878787879, 0.9444444444444443, 0.9696969696969697, 0.9259259259259259, 0.8333333333333334, 0.9487179487179488, 0.4564102564102564, 0.5494505494505494, 0.9666666666666667, 0.9393939393939394, 0.49242424242424243, 0.49242424242424243, 0.9393939393939394, 0.5858585858585857, 0.5858585858585857, 0.9555555555555556, 0.5492063492063491, 0.5492063492063491, 0.9138888888888889, 0.7738095238095237, 0.5555555555555555, 0.7277777777777779, 0.9666666666666667, 0.7047619047619048, 0.8518518518518517, 0.9649122807017543, 0.7729618163054696, 0.7729618163054696, 0.9523809523809524, 0.4523809523809524, 0.5638888888888889, 0.5892857142857143, 0.9393939393939394, 0.5151515151515151, 0.9607843137254902, 0.6712962962962963, 0.48888888888888893, 0.9583333333333334, 0.6944444444444445, 0.48888888888888893, 0.9629629629629629, 0.708994708994709, 0.7149321266968326, 0.7149321266968326, 0.6892911010558068, 0.9523809523809524, 0.7658730158730158, 0.7658730158730158, 0.735930735930736, 0.9555555555555556, 0.701010101010101, 0.701010101010101, 0.9393939393939394, 0.5303030303030303, 0.6931818181818182, 0.9343589743589744, 0.8849206349206349, 0.8376068376068376, 0.6794871794871794, 0.7128205128205128, 0.9333333333333332, 0.9555555555555556, 0.8376068376068376, 0.7459207459207459, 0.7459207459207459, 0.9583333333333334, 0.48214285714285715, 0.6507936507936508, 0.9487179487179488, 0.4871794871794872, 0.5897435897435898, 0.9583333333333334, 0.7211538461538461, 0.5492063492063491, 0.9487179487179488, 0.5897435897435898, 0.6111111111111112, 0.9583333333333334, 0.4166666666666667, 0.5277777777777778, 0.9523809523809524, 0.5892857142857143, 0.5892857142857143, 0.9583333333333334, 0.5297619047619048, 0.5297619047619048, 0.9583333333333334, 0.47222222222222215, 0.47222222222222215, 0.8346508563899868, 0.9393939393939394, 0.888888888888889, 0.9555555555555556, 0.7888888888888889, 0.7888888888888889, 0.9444444444444443, 0.4777777777777778, 0.4743589743589744, 0.9487179487179488, 0.4551282051282051, 0.9555555555555556, 0.5555555555555555, 0.6222222222222222, 0.5555555555555555, 0.9538239538239539, 0.9710144927536232, 0.9682539682539683, 0.8983855650522318, 0.9523809523809524, 0.7056277056277057, 0.7056277056277057, 0.9583333333333334, 0.9444444444444443, 0.6111111111111112, 0.7380952380952381, 0.9629629629629629, 0.708994708994709, 0.9908838684106223, 0.6174968071519796, 0.9666666666666667, 0.5787878787878787, 0.9898666666666667, 0.7504761904761904, 0.9682539682539683, 0.5753968253968255, 0.9906462585034014, 0.7360248447204968, 0.828352490421456, 0.9915364583333334, 0.6704545454545454, 0.9911111111111112, 0.6571428571428571, 0.9220779220779222, 0.6545454545454544, 0.6723484848484849, 0.8061002178649237, 0.708994708994709, 0.9555555555555556, 0.9349206349206348, 0.6954365079365079, 0.7357609710550888, 0.6008403361344538, 0.9333333333333332, 0.9696969696969697, 0.9649122807017543, 0.6154970760233919, 0.75, 0.9487179487179488, 0.6446886446886446, 0.9607843137254902, 0.7394957983193278, 0.7394957983193278, 0.9629629629629629, 0.4444444444444444, 0.4444444444444444, 0.8838383838383838, 0.9629629629629629, 0.6037037037037037, 0.611111111111111, 0.9696969696969697, 0.5757575757575758, 0.5757575757575758, 0.9259259259259259, 0.9259259259259259, 0.9696969696969697, 0.5757575757575758, 0.5757575757575758, 0.9255599472990778, 0.5962732919254659, 0.6125603864734299, 0.9753086419753085, 0.4222222222222222, 0.9555555555555556, 0.6707070707070706, 0.6707070707070706, 0.9523809523809524, 0.6428571428571429, 0.7437070938215102, 0.9777777777777779, 0.9666666666666667, 0.9743589743589745, 0.9487179487179488, 0.6794871794871794, 0.7762237762237763, 0.981981981981982, 0.8982843137254902, 0.5126050420168067, 0.5220588235294118, 0.9491228070175438, 0.7431372549019608, 0.6283891547049442, 0.9259259259259259, 0.9333333333333332, 0.9753086419753085, 0.7250280583613916, 0.7360248447204968, 0.9629629629629629, 0.9629629629629629, 0.7388888888888889, 0.9743589743589745, 0.6961538461538462, 0.7976190476190476, 0.7156862745098039, 0.9333333333333332, 0.6666666666666666, 0.6666666666666666]\n"
          ],
          "name": "stdout"
        }
      ]
    },
    {
      "cell_type": "code",
      "metadata": {
        "id": "nGR9ctua7m-6",
        "colab_type": "code",
        "colab": {}
      },
      "source": [
        "tmp = copy.deepcopy(syntactic_pairs)\n",
        "syntactic_pairs = np.empty((0,2,71))\n",
        "for pairs in tmp:\n",
        "  embeddings = []\n",
        "  embedding_1 = [char_to_int[c] for c in pairs[0]]\n",
        "  embedding_2 = [char_to_int[c] for c in pairs[1]]\n",
        "  embeddings.append(embedding_1)\n",
        "  embeddings.append(embedding_2)\n",
        "  embeddings = pad_sequences(embeddings, 71)\n",
        "  syntactic_pairs = np.append(syntactic_pairs, [embeddings], axis=0)\n",
        "  #syntactic_pairs[index,:]= embeddings\n",
        "  #index += 1\n"
      ],
      "execution_count": 0,
      "outputs": []
    },
    {
      "cell_type": "code",
      "metadata": {
        "id": "ZYTJM4WL9boj",
        "colab_type": "code",
        "outputId": "4bf296ea-2300-4c80-9957-e9978ce8edac",
        "colab": {
          "base_uri": "https://localhost:8080/",
          "height": 34
        }
      },
      "source": [
        "#syntactic_pairs = np.reshape(syntactic_pairs, syntactic_pairs.shape + (1,))\n",
        "syntactic_pairs.shape"
      ],
      "execution_count": 0,
      "outputs": [
        {
          "output_type": "execute_result",
          "data": {
            "text/plain": [
              "(3451, 2, 71)"
            ]
          },
          "metadata": {
            "tags": []
          },
          "execution_count": 19
        }
      ]
    },
    {
      "cell_type": "code",
      "metadata": {
        "id": "hKYmT2o6GoZf",
        "colab_type": "code",
        "colab": {}
      },
      "source": [
        "training_data = np.concatenate((sematic_pairs, syntactic_pairs), axis=0)"
      ],
      "execution_count": 0,
      "outputs": []
    },
    {
      "cell_type": "markdown",
      "metadata": {
        "id": "Aa9QB6vLJqs3",
        "colab_type": "text"
      },
      "source": [
        ""
      ]
    },
    {
      "cell_type": "code",
      "metadata": {
        "id": "jv6bl-LOLtQZ",
        "colab_type": "code",
        "outputId": "4bc05621-c633-4629-91dd-c57170da0770",
        "colab": {
          "base_uri": "https://localhost:8080/",
          "height": 34
        }
      },
      "source": [
        "print(training_data.shape)"
      ],
      "execution_count": 0,
      "outputs": [
        {
          "output_type": "stream",
          "text": [
            "(22246, 2, 71)\n"
          ],
          "name": "stdout"
        }
      ]
    },
    {
      "cell_type": "code",
      "metadata": {
        "id": "7JR1sznlL0wi",
        "colab_type": "code",
        "outputId": "5e4c220f-9b88-4331-ac23-1ea004a4bbce",
        "colab": {
          "base_uri": "https://localhost:8080/",
          "height": 34
        }
      },
      "source": [
        "labels = np.concatenate((soft_labels,syntactic_labels), axis=0)\n",
        "print(labels.shape)"
      ],
      "execution_count": 0,
      "outputs": [
        {
          "output_type": "stream",
          "text": [
            "(22244,)\n"
          ],
          "name": "stdout"
        }
      ]
    },
    {
      "cell_type": "code",
      "metadata": {
        "id": "InUbenqoMHK_",
        "colab_type": "code",
        "colab": {}
      },
      "source": [
        "#Shuffle\n",
        "indices = np.arange(training_data.shape[0]) # Splits the data into a training set and a \n",
        "                                   # validation set, but first shuffles the data,\n",
        "                                   # because you're deadling with data in which samples\n",
        "                                   # are ordered (all negative first, then all positive)\n",
        "np.random.shuffle(indices)\n",
        "training_data = training_data[indices]\n",
        "labels = labels[indices]"
      ],
      "execution_count": 0,
      "outputs": []
    },
    {
      "cell_type": "code",
      "metadata": {
        "id": "wltGIQDcMWvR",
        "colab_type": "code",
        "colab": {}
      },
      "source": [
        "# Build Siamese Neural Network\n",
        "\n",
        "from __future__ import absolute_import\n",
        "from __future__ import print_function\n",
        "from keras.models import Sequential\n",
        "from keras.models import Model\n",
        "from keras.layers import Input, Flatten, Dense, Dropout, Lambda, Embedding, Bidirectional, LSTM\n",
        "from keras.optimizers import RMSprop\n",
        "from keras import backend as K"
      ],
      "execution_count": 0,
      "outputs": []
    },
    {
      "cell_type": "code",
      "metadata": {
        "id": "c4V0Ys8V1qAi",
        "colab_type": "code",
        "colab": {}
      },
      "source": [
        "# Define distance similarity function\n",
        "import tensorflow as tf\n",
        "def cosine_distance(vects):\n",
        "  x,y=vects\n",
        "  s = tf.keras.losses.cosine_similarity(x,y)\n",
        "  return s\n",
        "\n",
        "def cos_dist_output_shape(shapes):\n",
        "  shape1, shape2 = shapes\n",
        "  return (shape1[0], 1)\n",
        "\n",
        "def contrastive_loss(y_true, y_pred):\n",
        "  margin = 1\n",
        "  square_pred = K.square(y_pred)\n",
        "  margin_square = K.square(K.maximum(margin - y_pred, 0))\n",
        "  return K.mean(y_true*square_pred + (1-y_true)*margin_square) \n",
        "\n",
        "def create_base_network(input_shape):\n",
        "  model = Sequential()\n",
        "  #model.add(Embedding(76, 32))\n",
        "  model.add(Bidirectional(LSTM(64, return_sequences=True), input_shape=input_shape))\n",
        "  model.add(Bidirectional(LSTM(64, return_sequences=True)))\n",
        "  model.add(Bidirectional(LSTM(64, return_sequences=True)))\n",
        "  model.add(Bidirectional(LSTM(64, return_sequences=False)))\n",
        "  model.add(Dense(128, activation='relu'))\n",
        "  \n",
        "  return model\n",
        "\n"
      ],
      "execution_count": 0,
      "outputs": []
    },
    {
      "cell_type": "code",
      "metadata": {
        "id": "T_zk6UxIL03P",
        "colab_type": "code",
        "colab": {}
      },
      "source": [
        "training_data[:,0] = training_data[:,0]/75\n"
      ],
      "execution_count": 0,
      "outputs": []
    },
    {
      "cell_type": "code",
      "metadata": {
        "id": "_3KnbG7TNHC0",
        "colab_type": "code",
        "colab": {}
      },
      "source": [
        "training_data[:,1] = training_data[:,1]/75"
      ],
      "execution_count": 0,
      "outputs": []
    },
    {
      "cell_type": "code",
      "metadata": {
        "id": "yLSg_7sd895K",
        "colab_type": "code",
        "outputId": "ce34eb2a-b64b-4669-d422-f986f03aa843",
        "colab": {
          "base_uri": "https://localhost:8080/",
          "height": 714
        }
      },
      "source": [
        "input_shape = (71,1)\n",
        "\n",
        "# network definition\n",
        "base_network = create_base_network(input_shape)\n",
        "\n",
        "input_a = Input(shape=input_shape)\n",
        "input_b = Input(shape=input_shape)\n",
        "\n",
        "processed_a = base_network(input_a)\n",
        "processed_b = base_network(input_b)\n",
        "\n",
        "distance = Lambda(cosine_distance, output_shape=cos_dist_output_shape)([processed_a, processed_b])\n",
        "\n",
        "model = Model([input_a, input_b], distance)\n",
        "\n",
        "#train\n",
        "rms = RMSprop()\n",
        "\n",
        "\n",
        "model.compile(loss=contrastive_loss, optimizer=rms, metrics=['acc'])\n",
        "model.fit([training_data[:,0], training_data[:,1]], labels,\n",
        "          batch_size=128,\n",
        "          epochs=20)"
      ],
      "execution_count": 0,
      "outputs": [
        {
          "output_type": "stream",
          "text": [
            "Epoch 1/20\n",
            "22246/22246 [==============================] - 324s 15ms/step - loss: 1.2324 - acc: 0.4074\n",
            "Epoch 2/20\n",
            "22246/22246 [==============================] - 315s 14ms/step - loss: 0.8915 - acc: 0.6790\n",
            "Epoch 3/20\n",
            "22246/22246 [==============================] - 321s 14ms/step - loss: 0.7558 - acc: 0.8101\n",
            "Epoch 4/20\n",
            "22246/22246 [==============================] - 323s 15ms/step - loss: 0.9475 - acc: 0.6145\n",
            "Epoch 5/20\n",
            "22246/22246 [==============================] - 327s 15ms/step - loss: 0.9172 - acc: 0.6375\n",
            "Epoch 6/20\n",
            "22246/22246 [==============================] - 328s 15ms/step - loss: 0.8064 - acc: 0.6950\n",
            "Epoch 7/20\n",
            "22246/22246 [==============================] - 317s 14ms/step - loss: 0.9018 - acc: 0.6087\n",
            "Epoch 8/20\n",
            "22246/22246 [==============================] - 315s 14ms/step - loss: 0.8958 - acc: 0.6605\n",
            "Epoch 9/20\n",
            "22246/22246 [==============================] - 317s 14ms/step - loss: 0.8725 - acc: 0.6559\n",
            "Epoch 10/20\n",
            "22246/22246 [==============================] - 318s 14ms/step - loss: 0.7996 - acc: 0.7008\n",
            "Epoch 11/20\n",
            "22246/22246 [==============================] - 316s 14ms/step - loss: 0.8265 - acc: 0.6490\n",
            "Epoch 12/20\n",
            "22246/22246 [==============================] - 321s 14ms/step - loss: 0.8021 - acc: 0.6387\n",
            "Epoch 13/20\n",
            "22246/22246 [==============================] - 321s 14ms/step - loss: 0.8311 - acc: 0.6950\n",
            "Epoch 14/20\n",
            "22246/22246 [==============================] - 317s 14ms/step - loss: 0.8093 - acc: 0.6444\n",
            "Epoch 15/20\n",
            "22246/22246 [==============================] - 306s 14ms/step - loss: 0.7480 - acc: 0.7066\n",
            "Epoch 16/20\n",
            "22246/22246 [==============================] - 309s 14ms/step - loss: 0.7818 - acc: 0.6318\n",
            "Epoch 17/20\n",
            "22246/22246 [==============================] - 309s 14ms/step - loss: 0.7319 - acc: 0.7538\n",
            "Epoch 18/20\n",
            "22246/22246 [==============================] - 308s 14ms/step - loss: 0.8224 - acc: 0.5696\n",
            "Epoch 19/20\n",
            "22246/22246 [==============================] - 298s 13ms/step - loss: 0.7131 - acc: 0.7307\n",
            "Epoch 20/20\n",
            "22246/22246 [==============================] - 304s 14ms/step - loss: 0.7078 - acc: 0.7940\n"
          ],
          "name": "stdout"
        },
        {
          "output_type": "execute_result",
          "data": {
            "text/plain": [
              "<keras.callbacks.callbacks.History at 0x7f029ff4d7f0>"
            ]
          },
          "metadata": {
            "tags": []
          },
          "execution_count": 83
        }
      ]
    },
    {
      "cell_type": "code",
      "metadata": {
        "id": "Fygomf2XAKH1",
        "colab_type": "code",
        "outputId": "c09272e8-3d8b-4fe9-cf90-2b000b610ff8",
        "colab": {
          "base_uri": "https://localhost:8080/",
          "height": 357
        }
      },
      "source": [
        "print(training_data)"
      ],
      "execution_count": 0,
      "outputs": [
        {
          "output_type": "stream",
          "text": [
            "[[[0.0 0.0 0.0 ... 0.7733333333333333 0.8533333333333334 0.84]\n",
            "  [0.0 0.0 0.0 ... 0.8533333333333334 0.84 0.9066666666666666]]\n",
            "\n",
            " [[0.0 0.0 0.0 ... 0.72 0.8933333333333333 0.9866666666666667]\n",
            "  [0.0 0.0 0.0 ... 0.84 0.72 0.6666666666666666]]\n",
            "\n",
            " [[0.0 0.0 0.0 ... 0.6666666666666666 0.9066666666666666 0.72]\n",
            "  [0.0 0.0 0.0 ... 0.9066666666666666 0.72 0.9066666666666666]]\n",
            "\n",
            " ...\n",
            "\n",
            " [[0.0 0.0 0.0 ... 0.7733333333333333 0.8533333333333334 0.84]\n",
            "  [0.0 0.0 0.0 ... 0.7733333333333333 0.84 0.7466666666666667]]\n",
            "\n",
            " [[0.0 0.0 0.0 ... 0.6666666666666666 0.9066666666666666 0.72]\n",
            "  [0.0 0.0 0.0 ... 0.7733333333333333 0.8533333333333334 0.84]]\n",
            "\n",
            " [[0.0 0.0 0.0 ... 0.8533333333333334 0.8266666666666667\n",
            "   0.6666666666666666]\n",
            "  [0.0 0.0 0.0 ... 0.6666666666666666 0.7466666666666667 0.72]]]\n"
          ],
          "name": "stdout"
        }
      ]
    },
    {
      "cell_type": "code",
      "metadata": {
        "id": "ZFgX1Y5X3CE0",
        "colab_type": "code",
        "outputId": "d0eca346-3358-44e5-9821-0be9c6a6319d",
        "colab": {
          "base_uri": "https://localhost:8080/",
          "height": 34
        }
      },
      "source": [
        "training_data = np.reshape(training_data, training_data.shape + (1,))\n",
        "print(training_data[:,0].shape)"
      ],
      "execution_count": 0,
      "outputs": [
        {
          "output_type": "stream",
          "text": [
            "(22246, 71, 1)\n"
          ],
          "name": "stdout"
        }
      ]
    }
  ]
}